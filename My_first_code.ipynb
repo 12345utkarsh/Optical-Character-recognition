{
  "nbformat": 4,
  "nbformat_minor": 0,
  "metadata": {
    "colab": {
      "provenance": [],
      "authorship_tag": "ABX9TyNdAa2YPW26YpYPmQxkv5ai",
      "include_colab_link": true
    },
    "kernelspec": {
      "name": "python3",
      "display_name": "Python 3"
    },
    "language_info": {
      "name": "python"
    },
    "gpuClass": "standard"
  },
  "cells": [
    {
      "cell_type": "markdown",
      "metadata": {
        "id": "view-in-github",
        "colab_type": "text"
      },
      "source": [
        "<a href=\"https://colab.research.google.com/github/12345utkarsh/Optical-Character-recognition/blob/main/My_first_code.ipynb\" target=\"_parent\"><img src=\"https://colab.research.google.com/assets/colab-badge.svg\" alt=\"Open In Colab\"/></a>"
      ]
    },
    {
      "cell_type": "code",
      "execution_count": null,
      "metadata": {
        "colab": {
          "base_uri": "https://localhost:8080/"
        },
        "id": "TmFkbgHyR4iB",
        "outputId": "14d86951-d2d4-4ba6-b1ee-866123534716"
      },
      "outputs": [
        {
          "output_type": "execute_result",
          "data": {
            "text/plain": [
              "333"
            ]
          },
          "metadata": {},
          "execution_count": 15
        }
      ],
      "source": [
        "#Floor Division\n",
        "1000//3"
      ]
    },
    {
      "cell_type": "code",
      "source": [
        "#Only Division\n",
        "1000/3"
      ],
      "metadata": {
        "colab": {
          "base_uri": "https://localhost:8080/"
        },
        "id": "1EK-UhVHR-fq",
        "outputId": "7712133a-f778-4164-9ccd-d268c123cbbd"
      },
      "execution_count": null,
      "outputs": [
        {
          "output_type": "execute_result",
          "data": {
            "text/plain": [
              "333.3333333333333"
            ]
          },
          "metadata": {},
          "execution_count": 16
        }
      ]
    },
    {
      "cell_type": "code",
      "source": [
        "2**5"
      ],
      "metadata": {
        "colab": {
          "base_uri": "https://localhost:8080/"
        },
        "id": "rSVaW2LwSHNp",
        "outputId": "72961a70-aecb-44cd-fbd1-ced24caa23da"
      },
      "execution_count": null,
      "outputs": [
        {
          "output_type": "execute_result",
          "data": {
            "text/plain": [
              "32"
            ]
          },
          "metadata": {},
          "execution_count": 17
        }
      ]
    },
    {
      "cell_type": "code",
      "source": [
        "#For getting remainder in division\n",
        "3%2"
      ],
      "metadata": {
        "colab": {
          "base_uri": "https://localhost:8080/"
        },
        "id": "_OZEeZMnSRRS",
        "outputId": "bb9f2bb5-d2f8-4bd4-cd58-77c214ecb0da"
      },
      "execution_count": null,
      "outputs": [
        {
          "output_type": "execute_result",
          "data": {
            "text/plain": [
              "1"
            ]
          },
          "metadata": {},
          "execution_count": 18
        }
      ]
    },
    {
      "cell_type": "code",
      "source": [
        "var=100\n",
        "var"
      ],
      "metadata": {
        "colab": {
          "base_uri": "https://localhost:8080/"
        },
        "id": "jG-24GzQSe9Z",
        "outputId": "e6eaf572-c1f2-4d5b-9b96-b29c8b664d4d"
      },
      "execution_count": null,
      "outputs": [
        {
          "output_type": "execute_result",
          "data": {
            "text/plain": [
              "100"
            ]
          },
          "metadata": {},
          "execution_count": 19
        }
      ]
    },
    {
      "cell_type": "code",
      "source": [
        "-var"
      ],
      "metadata": {
        "colab": {
          "base_uri": "https://localhost:8080/"
        },
        "id": "41SxswZGSyIh",
        "outputId": "4ad710cc-31c1-4320-ffcc-290854713832"
      },
      "execution_count": null,
      "outputs": [
        {
          "output_type": "execute_result",
          "data": {
            "text/plain": [
              "-100"
            ]
          },
          "metadata": {},
          "execution_count": 20
        }
      ]
    },
    {
      "cell_type": "code",
      "source": [
        "# a patient just 95 years old.write a python expression to calculate her age in months\n",
        "patient_age_year = 95\n",
        "patient_age_month = 95*12\n",
        "print(patient_age_month)"
      ],
      "metadata": {
        "colab": {
          "base_uri": "https://localhost:8080/"
        },
        "id": "hLfLuGkrS2LS",
        "outputId": "1774599a-24f5-41ab-8c30-4dba897e6b7f"
      },
      "execution_count": null,
      "outputs": [
        {
          "output_type": "stream",
          "name": "stdout",
          "text": [
            "1140\n"
          ]
        }
      ]
    },
    {
      "cell_type": "code",
      "source": [
        "# a father reports that his son's temprature was 39.1 degree celsius when measured at home. Write an expression to convert the tempreature from celsius to fahreneheit.\n",
        "celsius = 39.1\n",
        "fahreneheit = (celsius*9)/5 + 32\n",
        "print(fahreneheit)\n"
      ],
      "metadata": {
        "colab": {
          "base_uri": "https://localhost:8080/"
        },
        "id": "MVFxqqlDUVSo",
        "outputId": "71f789a3-51b7-44d5-a847-c5f96e47e090"
      },
      "execution_count": null,
      "outputs": [
        {
          "output_type": "stream",
          "name": "stdout",
          "text": [
            "102.38000000000001\n"
          ]
        }
      ]
    },
    {
      "cell_type": "code",
      "source": [
        "#round function\n",
        "print(round(10.584748))\n",
        "print(round(115.57673, 2))"
      ],
      "metadata": {
        "colab": {
          "base_uri": "https://localhost:8080/"
        },
        "id": "CKZfb17XVoKQ",
        "outputId": "bb984829-3835-451d-94c5-014194d35390"
      },
      "execution_count": null,
      "outputs": [
        {
          "output_type": "stream",
          "name": "stdout",
          "text": [
            "11\n",
            "115.58\n"
          ]
        }
      ]
    },
    {
      "cell_type": "code",
      "source": [
        "#complex datatype\n",
        "c = 15 + 2j\n",
        "type(c)"
      ],
      "metadata": {
        "colab": {
          "base_uri": "https://localhost:8080/"
        },
        "id": "SvYDIw7QXcmv",
        "outputId": "d7d7067c-2f15-4ebd-ba0b-15ba7883da17"
      },
      "execution_count": null,
      "outputs": [
        {
          "output_type": "execute_result",
          "data": {
            "text/plain": [
              "complex"
            ]
          },
          "metadata": {},
          "execution_count": 24
        }
      ]
    },
    {
      "cell_type": "code",
      "source": [
        "print(abs(c)) # abs use for absolute value"
      ],
      "metadata": {
        "colab": {
          "base_uri": "https://localhost:8080/"
        },
        "id": "-gI8-Tp-X06O",
        "outputId": "5afce638-140c-446b-9a18-28fd24c62921"
      },
      "execution_count": null,
      "outputs": [
        {
          "output_type": "stream",
          "name": "stdout",
          "text": [
            "15.132745950421556\n"
          ]
        }
      ]
    },
    {
      "cell_type": "code",
      "source": [
        "divmod(9 , 2) # it give the output and remainder in a tuple "
      ],
      "metadata": {
        "colab": {
          "base_uri": "https://localhost:8080/"
        },
        "id": "tHeCFEymX6V-",
        "outputId": "5c50b12c-f8f3-4f23-c044-d13078cd30aa"
      },
      "execution_count": null,
      "outputs": [
        {
          "output_type": "execute_result",
          "data": {
            "text/plain": [
              "(4, 1)"
            ]
          },
          "metadata": {},
          "execution_count": 26
        }
      ]
    },
    {
      "cell_type": "code",
      "source": [
        "print(pow(3,3))#here 3^3\n",
        "print(pow(3,3,5))# here 3^3%5"
      ],
      "metadata": {
        "colab": {
          "base_uri": "https://localhost:8080/"
        },
        "id": "qGoNDCsTYJQf",
        "outputId": "d76de77a-4f76-40f5-9410-1aa94ee0b72b"
      },
      "execution_count": null,
      "outputs": [
        {
          "output_type": "stream",
          "name": "stdout",
          "text": [
            "27\n",
            "2\n"
          ]
        }
      ]
    },
    {
      "cell_type": "code",
      "source": [
        "x = 5\n",
        "x += 5"
      ],
      "metadata": {
        "id": "CCchlNLJZLn3"
      },
      "execution_count": null,
      "outputs": []
    },
    {
      "cell_type": "code",
      "source": [
        "print(x)"
      ],
      "metadata": {
        "colab": {
          "base_uri": "https://localhost:8080/"
        },
        "id": "1DzWw_BkZ2B2",
        "outputId": "3252a0da-841a-4297-912e-e74d760f9766"
      },
      "execution_count": null,
      "outputs": [
        {
          "output_type": "stream",
          "name": "stdout",
          "text": [
            "10\n"
          ]
        }
      ]
    },
    {
      "cell_type": "code",
      "source": [
        "x = 5\n",
        "x += 5\n",
        "x *= 5\n",
        "print(x)"
      ],
      "metadata": {
        "colab": {
          "base_uri": "https://localhost:8080/"
        },
        "id": "MPcw1EZ0aDyw",
        "outputId": "ffca1249-b6f6-4720-f716-335591337548"
      },
      "execution_count": null,
      "outputs": [
        {
          "output_type": "stream",
          "name": "stdout",
          "text": [
            "50\n"
          ]
        }
      ]
    },
    {
      "cell_type": "code",
      "source": [
        "# Comparison Operators\n",
        "x = 10\n",
        "y = 5\n",
        "x == y\n"
      ],
      "metadata": {
        "colab": {
          "base_uri": "https://localhost:8080/"
        },
        "id": "tHfK0znNacdu",
        "outputId": "6f1a9c49-3554-444c-9cb4-14e8ee9d9fa1"
      },
      "execution_count": null,
      "outputs": [
        {
          "output_type": "execute_result",
          "data": {
            "text/plain": [
              "False"
            ]
          },
          "metadata": {},
          "execution_count": 40
        }
      ]
    },
    {
      "cell_type": "code",
      "source": [
        "x = y\n",
        "print(x)"
      ],
      "metadata": {
        "colab": {
          "base_uri": "https://localhost:8080/"
        },
        "id": "kyEqoKbha4JW",
        "outputId": "aca3c989-6f46-4a17-b79e-023f8099bf3c"
      },
      "execution_count": null,
      "outputs": [
        {
          "output_type": "stream",
          "name": "stdout",
          "text": [
            "5\n"
          ]
        }
      ]
    },
    {
      "cell_type": "code",
      "source": [
        "y = x\n",
        "print(y)"
      ],
      "metadata": {
        "colab": {
          "base_uri": "https://localhost:8080/"
        },
        "id": "-FMrlgnQbDwV",
        "outputId": "a1d9403c-ce80-4e97-809f-3b29e3280de0"
      },
      "execution_count": null,
      "outputs": [
        {
          "output_type": "stream",
          "name": "stdout",
          "text": [
            "5\n"
          ]
        }
      ]
    },
    {
      "cell_type": "code",
      "source": [
        "x == y"
      ],
      "metadata": {
        "colab": {
          "base_uri": "https://localhost:8080/"
        },
        "id": "vyGG1dd3bJFl",
        "outputId": "35ceb80f-0a8c-475a-cd7a-d5ad1bb654fd"
      },
      "execution_count": null,
      "outputs": [
        {
          "output_type": "execute_result",
          "data": {
            "text/plain": [
              "True"
            ]
          },
          "metadata": {},
          "execution_count": 44
        }
      ]
    },
    {
      "cell_type": "code",
      "source": [
        "50 != 2"
      ],
      "metadata": {
        "colab": {
          "base_uri": "https://localhost:8080/"
        },
        "id": "HyZglmChbMeN",
        "outputId": "e7fc0254-9f1a-4525-912f-6f6280bb26c8"
      },
      "execution_count": null,
      "outputs": [
        {
          "output_type": "execute_result",
          "data": {
            "text/plain": [
              "True"
            ]
          },
          "metadata": {},
          "execution_count": 45
        }
      ]
    },
    {
      "cell_type": "code",
      "source": [
        "5 > 2"
      ],
      "metadata": {
        "colab": {
          "base_uri": "https://localhost:8080/"
        },
        "id": "SSX9b8X-bVbN",
        "outputId": "e6383efd-9687-4529-dcd9-1d787ca99a8a"
      },
      "execution_count": null,
      "outputs": [
        {
          "output_type": "execute_result",
          "data": {
            "text/plain": [
              "True"
            ]
          },
          "metadata": {},
          "execution_count": 46
        }
      ]
    },
    {
      "cell_type": "code",
      "source": [
        "5 < 2"
      ],
      "metadata": {
        "colab": {
          "base_uri": "https://localhost:8080/"
        },
        "id": "6ScbaPwxbcvt",
        "outputId": "04427871-b168-4c08-9884-6d7ef2d74d93"
      },
      "execution_count": null,
      "outputs": [
        {
          "output_type": "execute_result",
          "data": {
            "text/plain": [
              "False"
            ]
          },
          "metadata": {},
          "execution_count": 47
        }
      ]
    },
    {
      "cell_type": "code",
      "source": [
        "#Chained comparison operator\n",
        "1<2<4"
      ],
      "metadata": {
        "colab": {
          "base_uri": "https://localhost:8080/"
        },
        "id": "-OC-qWOjbewN",
        "outputId": "f417ca23-f9a4-4e89-b5d7-ab65ce057706"
      },
      "execution_count": null,
      "outputs": [
        {
          "output_type": "execute_result",
          "data": {
            "text/plain": [
              "True"
            ]
          },
          "metadata": {},
          "execution_count": 48
        }
      ]
    },
    {
      "cell_type": "code",
      "source": [
        "1<3 and 3<5"
      ],
      "metadata": {
        "colab": {
          "base_uri": "https://localhost:8080/"
        },
        "id": "pN1Yoz12bylt",
        "outputId": "b6fe2766-7c72-4c44-ff93-bfd3371a984e"
      },
      "execution_count": null,
      "outputs": [
        {
          "output_type": "execute_result",
          "data": {
            "text/plain": [
              "True"
            ]
          },
          "metadata": {},
          "execution_count": 49
        }
      ]
    },
    {
      "cell_type": "code",
      "source": [
        "#Logical Operators\n",
        "# and check the both statements\n",
        "# or returns the true if one of the statement is true\n",
        "# not reverse the result returns false if the result is true and vice versa"
      ],
      "metadata": {
        "id": "Mzms5CxBb3KV"
      },
      "execution_count": null,
      "outputs": []
    },
    {
      "cell_type": "code",
      "source": [
        "1<3 or 4>3"
      ],
      "metadata": {
        "colab": {
          "base_uri": "https://localhost:8080/"
        },
        "id": "960shx5OcWvs",
        "outputId": "f2508f23-c17d-422d-f460-43ccb50acb02"
      },
      "execution_count": null,
      "outputs": [
        {
          "output_type": "execute_result",
          "data": {
            "text/plain": [
              "True"
            ]
          },
          "metadata": {},
          "execution_count": 53
        }
      ]
    },
    {
      "cell_type": "code",
      "source": [
        "not(1<3 or 4<5)"
      ],
      "metadata": {
        "colab": {
          "base_uri": "https://localhost:8080/"
        },
        "id": "bSR8VkUPcaQl",
        "outputId": "9087071c-34dc-48e3-8909-fb134ffaf8a5"
      },
      "execution_count": null,
      "outputs": [
        {
          "output_type": "execute_result",
          "data": {
            "text/plain": [
              "False"
            ]
          },
          "metadata": {},
          "execution_count": 52
        }
      ]
    },
    {
      "cell_type": "code",
      "source": [
        "False and False"
      ],
      "metadata": {
        "colab": {
          "base_uri": "https://localhost:8080/"
        },
        "id": "AwKr7rU2ch-F",
        "outputId": "02c26317-b767-40dd-e01e-2f022ba006c5"
      },
      "execution_count": null,
      "outputs": [
        {
          "output_type": "execute_result",
          "data": {
            "text/plain": [
              "False"
            ]
          },
          "metadata": {},
          "execution_count": 54
        }
      ]
    },
    {
      "cell_type": "code",
      "source": [
        "False and True"
      ],
      "metadata": {
        "colab": {
          "base_uri": "https://localhost:8080/"
        },
        "id": "XA4fDComcwAd",
        "outputId": "68caf7a9-c783-410a-e3c8-24c648834f00"
      },
      "execution_count": null,
      "outputs": [
        {
          "output_type": "execute_result",
          "data": {
            "text/plain": [
              "False"
            ]
          },
          "metadata": {},
          "execution_count": 55
        }
      ]
    },
    {
      "cell_type": "code",
      "source": [
        "True and False"
      ],
      "metadata": {
        "colab": {
          "base_uri": "https://localhost:8080/"
        },
        "id": "-slYzekOcy2s",
        "outputId": "d19e591e-305e-41cc-a7ab-4cd736a1b410"
      },
      "execution_count": null,
      "outputs": [
        {
          "output_type": "execute_result",
          "data": {
            "text/plain": [
              "False"
            ]
          },
          "metadata": {},
          "execution_count": 56
        }
      ]
    },
    {
      "cell_type": "code",
      "source": [
        "True or False"
      ],
      "metadata": {
        "colab": {
          "base_uri": "https://localhost:8080/"
        },
        "id": "MFK0eI2xc2nc",
        "outputId": "5fb6965d-76ba-47b9-8454-f44267949271"
      },
      "execution_count": null,
      "outputs": [
        {
          "output_type": "execute_result",
          "data": {
            "text/plain": [
              "True"
            ]
          },
          "metadata": {},
          "execution_count": 57
        }
      ]
    },
    {
      "cell_type": "code",
      "source": [
        "False or True"
      ],
      "metadata": {
        "colab": {
          "base_uri": "https://localhost:8080/"
        },
        "id": "if9w3cdYc-o1",
        "outputId": "126c4389-6a9f-4da7-cd3d-bc47878ad94f"
      },
      "execution_count": null,
      "outputs": [
        {
          "output_type": "execute_result",
          "data": {
            "text/plain": [
              "True"
            ]
          },
          "metadata": {},
          "execution_count": 58
        }
      ]
    },
    {
      "cell_type": "code",
      "source": [
        "False or False"
      ],
      "metadata": {
        "colab": {
          "base_uri": "https://localhost:8080/"
        },
        "id": "jIP-MJTzdBQs",
        "outputId": "18df21c5-9c2f-4e74-df5c-1e3f7f12dc11"
      },
      "execution_count": null,
      "outputs": [
        {
          "output_type": "execute_result",
          "data": {
            "text/plain": [
              "False"
            ]
          },
          "metadata": {},
          "execution_count": 59
        }
      ]
    },
    {
      "cell_type": "code",
      "source": [
        "not(True and False)"
      ],
      "metadata": {
        "colab": {
          "base_uri": "https://localhost:8080/"
        },
        "id": "oVbLNT-odDQ1",
        "outputId": "3b341866-8a6a-4188-c07d-81755e3cb943"
      },
      "execution_count": null,
      "outputs": [
        {
          "output_type": "execute_result",
          "data": {
            "text/plain": [
              "True"
            ]
          },
          "metadata": {},
          "execution_count": 60
        }
      ]
    },
    {
      "cell_type": "code",
      "source": [
        "not(False and False)"
      ],
      "metadata": {
        "colab": {
          "base_uri": "https://localhost:8080/"
        },
        "id": "EQ5Zuom_dQfV",
        "outputId": "18a41882-7583-45cb-d879-7d065422645b"
      },
      "execution_count": null,
      "outputs": [
        {
          "output_type": "execute_result",
          "data": {
            "text/plain": [
              "True"
            ]
          },
          "metadata": {},
          "execution_count": 61
        }
      ]
    },
    {
      "cell_type": "code",
      "source": [
        "not(False and True)"
      ],
      "metadata": {
        "colab": {
          "base_uri": "https://localhost:8080/"
        },
        "id": "DUhm6X-QdSmU",
        "outputId": "9de590fc-72b3-44d4-f7f2-028cd57f5079"
      },
      "execution_count": null,
      "outputs": [
        {
          "output_type": "execute_result",
          "data": {
            "text/plain": [
              "True"
            ]
          },
          "metadata": {},
          "execution_count": 62
        }
      ]
    },
    {
      "cell_type": "code",
      "source": [
        "not(False)"
      ],
      "metadata": {
        "colab": {
          "base_uri": "https://localhost:8080/"
        },
        "id": "xbh8zkfHdVCU",
        "outputId": "0bbd9928-6efb-44cb-e987-743810a21a63"
      },
      "execution_count": null,
      "outputs": [
        {
          "output_type": "execute_result",
          "data": {
            "text/plain": [
              "True"
            ]
          },
          "metadata": {},
          "execution_count": 63
        }
      ]
    },
    {
      "cell_type": "code",
      "source": [
        "not(False or False)"
      ],
      "metadata": {
        "colab": {
          "base_uri": "https://localhost:8080/"
        },
        "id": "UWgHgQcRdWvc",
        "outputId": "d8c336ad-f206-4218-f4c6-e926b811e2d0"
      },
      "execution_count": null,
      "outputs": [
        {
          "output_type": "execute_result",
          "data": {
            "text/plain": [
              "True"
            ]
          },
          "metadata": {},
          "execution_count": 64
        }
      ]
    },
    {
      "cell_type": "code",
      "source": [
        "not(True or False)"
      ],
      "metadata": {
        "colab": {
          "base_uri": "https://localhost:8080/"
        },
        "id": "kJyAO1S2darE",
        "outputId": "7a27060e-eb31-479a-9e9f-59fac2ecaf5a"
      },
      "execution_count": null,
      "outputs": [
        {
          "output_type": "execute_result",
          "data": {
            "text/plain": [
              "False"
            ]
          },
          "metadata": {},
          "execution_count": 65
        }
      ]
    },
    {
      "cell_type": "code",
      "source": [
        "# Bitwise Operator"
      ],
      "metadata": {
        "id": "Iy-e58EyddDc"
      },
      "execution_count": null,
      "outputs": []
    },
    {
      "cell_type": "markdown",
      "source": [
        "![WhatsApp Image 2022-12-30 at 11.16.39.jpg](data:image/jpeg;base64,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)"
      ],
      "metadata": {
        "id": "DlGKCh56j83R"
      }
    },
    {
      "cell_type": "markdown",
      "source": [
        "![WhatsApp Image 2022-12-30 at 11.16.40.jpg](data:image/jpeg;base64,/9j/4AAQSkZJRgABAQAAAQABAAD/2wCEAAYGBgYHBgcICAcKCwoLCg8ODAwODxYQERAREBYiFRkVFRkVIh4kHhweJB42KiYmKjY+NDI0PkxERExfWl98fKcBBgYGBgcGBwgIBwoLCgsKDw4MDA4PFhAREBEQFiIVGRUVGRUiHiQeHB4kHjYqJiYqNj40MjQ+TERETF9aX3x8p//CABEIBMsGPwMBIgACEQEDEQH/xAAvAAEBAQEBAQEAAAAAAAAAAAAAAQMEAgUGAQEBAQEAAAAAAAAAAAAAAAAAAQID/9oADAMBAAIQAxAAAAL85635o9ff/P8A3jtAIAACAAAhYABAAAIWAAAQLAABYAAhUFgAAACFQVKUAFBUoIWFBAAAAAAAAABKJYWBYAFQBQQAwuy1CAAAAAHL1By9C+k8JoBlrxHaAAAAgsCoqoKlAALAAsCoKgoAAAAKgoAAAHn15i+PXkx+V9f4ep9/z1zN+H9z1ABAAAgAEAAQsAAQAAAQAAACCoLAAAAJQgqAAAACpSpRYKAKAACBCoKgsCoLAAAAAAAAEKSqliGRN4KAAgLCoLA8Z78zS7YzXTjtw3PcxJrjv5Obq4e1q2GLAAAAACgFAQoAAAAAKAAAABYFAABLCQjL4X3fin6cCAIAAJYAQAAgAAQACAAAhUFQAAAAAEAAABKCFQALBUpQVBQVFVBUAQAAAFBAAABABUFQAABQDDfCOiAAAAFACFw3RI9HP61K4+0mDcZ6SgAAAABBRQAAACwVKAAAAUABKAAALBUFEZ+vPox+P9j5B+knwvZ9p87tPYEsF8c811MNU9QsJibAAIACAAABAAAIKgpCwAAAAEABYAAAAFgoKBYKKAACEoAIFgqBYKgqAAAAAAlBKqBnp5i+sdgKJQABLAAsAFgCAAKgWACoKgqCoqpQlAAAAFlBCkKACkKgoAAAAKIy9+PZj8z6fzjj8oj7nxPtL9AEBz6uGdvpc3Rzsb+fUubydfHNday4IAECzLYhCoAACUz98vUADjXsealTnXpIlgAADA3IVAl5F61iL5yXYIsosFSlZ+y2KqIqAAAQoAAAAAABBYKgsACwoIWDDo59wKAAWAAAAAAIAAAAAAAAFICwqpQAlg8+gAKApIvm4rzfR4Otv2LzAqUAAAoMvfj3GPD3YRvzfUV8n6tCWAD530OGde3m00PXPfLG/D3cjXRVYw6ObRdZxdFmud5pd9eHqa0jmuNvefqWzgrf0Jy9VwIzz9PN0kYeWunm2yl89fNqunzPpcp1MN2AsnPp5m7tjrZeXp52emWDm6fJ6+d9LjnTquG1zODt4J0+pOb257PGNnTeaHVebpTm6ubZr25OhPaeT2EAEEsXk7fl97pqyrnoRKQssAAAAAAAAABDDpx9L7FgAAQFACFSiY+o1AAAQePOsXPbn3WoZqCoPPN2Veffn6ECgBYgMtHg1FAADKXZCT1KBQAACgBUplp40jnw3xPogSwASwePYyaFSkePQ8+geaPPoPNsEoefQ5On1Fwbox9aKgTHT1iuG+mU3r48+T1efVejm38XGHVyd01LF53x6xWUmtstVxw9HnebvJrLOjk9881v0fP6Tfk0zNN8tLm83R5TRz09evOp44vo/PnTr5eyHN79e0nnb1cYelMHR4m8ujMnLevFvWUxHvS55tNuBd/Xr2nj2IAAAikoJYABQR58e/DWwuSUZa8kvvX15PYQCAZa5r7w9eJd7593IAUECGXvPVr0GQAFlM/XoBQAQvNF6kqBSUCRh46PLeHZx9aekXNAAAABQLB49+PcYePfk7fPxofbvyfoGqCwBAAQAIAEAACAELAAAQAAOaVOu56vOUQABLAAABzdOLXr3OeXqFxKACyiwXx7CygAAABKSgBKABKACFAAikWFlgAAFTLTxNa2VmKpL4MzzNdIZllEsAHn1THbLQCggACwAABgvQ5C9ZGaKCAOayTrvpnpeZLYSgh5miWosAsCpQABYKQoPHvx7jHz68nwvNg+l837Z3ywAQAEAQAEABCwAEsAAEsAAIonN1FBAAEoSiAAAA550poLkQoFlAKlKlAAAAAoIAAAASgQWUSiAssLAAACvDxrFBZRFgAAAAKJRALFBDxpwrvt4yOgIAAlHjC106Jlq5+gAAAABSwUAAAAAFlAACwVKZnuMvPvM05vojg7wgBAACLBLAACASwAAIABAAAACVCwFgoICoAAAAAAEoQKCgopYiigAAgKACBCglQqUQAAAAAAAAOfq5ekgHN0+TLo84HQAAABxdpeLXbGb6ZZeYUEJfJz7827eqVgAAAKCFgUAAAoICgKAAAABYKAlAKDxYjznridqwEAEAgp8+a73P0WRYgCWACWACAABAAAgKgWAABYAAAAAACAAAAsososFFKAAAQBLKSwUAEWAAAAAAAAACzyY9GOwIVzel6Obz6XoefTIUAA85eI087elBAoIAAAAAJQKCAAKlJQCgAAFlAAAAAAFABZTzL5hlriduHDqdW3z9TqlEAlheLownXb0yY6J482apUgGO3K10ryM9TGLvLEHkqULBKM9OXRdpYgGemXo9gPHsAMtQAQqBfPOdUw2W3kqdUsDDcAWC3zSgopZRKBCiDx7BACoKQAAAAAAAAAAc/RzHSBlqMvXsvn0IFAAAABAAAAAAhSACgAAAABSFFAAAVBUoAAAAABQCkz95x6x2xPhAd3D9g+l5sBADk9+9ZvFpbllqTP3YAOfoheboGWPVFnoR49wxeiz340SywuLwt38ewE85b850cvVzmmemh59cPevL08+6XHbFc+nHCa7p593HL1cvSLPJydvB1zXjfi7bJePtTHXHJetz6Jq8851uXoPVzxOp4Hu8nQvuc/SkqGDflOuBUpFgAAAAAAAAAASnjzl1AAAAUAAAAEAAAAAAJQlAAAAAAC+eM7nJWuoMhQACymO3z/AKEBUoAAAALBQMtc4uW2JryfRHF3QQAEAlgAAlgBAAQCUQAACAAIUCWFQTxoPPuCefYWC+aKg5tvfkt8ezHz0Q59NKuG1iXHUevITPamPjpLbCcPZ752s99PRx9fN0pYJOedJ6gAWAAAAAAAAAASjLTnNfdhQAAABQAAAAQAAAAMzRhstIllEBLy7Lpc9ECgIqL836PznT6TGMbstLKBLBZTg+j836UsFgCUAAAAVKM9M4947YnUAQAQAIsAIsAIsAEUgAIAABAASwAAAAAAAAAAAJQBLABYFCpRZRnpTKXwberBjtTP2AAAAAAAAAAAAgrmWdUoliV4yOhhsU8Hth6XUIFAAPNkedOfoWcrrUGQJYOf3n6nTPrw0T3S4JSAx8dPlcenHYIssBZTzlvI8+wWCoosFlMOiIWKAFCCgAAWC5a5R7z1yNs/m6H0NfndJvLAAQAIAAIABLACAAAEAAEAAEAABQAAAAECwKCLAABZQUFAFAAKCAAAAAAAAAAEoJTh9dhrHfPFnpAIcum/G32cPfGcMe3ia7pjWdXn1YlAkPPsYbZanJ66c22vn0wikWGc1LMtKT1YgFgAT1AFAAUAQAFCkoAAALBYCwVKABFx1zNMtcT4C+afX+T+hjeUQCAclmukXIEAAlgAIAAAJYAJYAAAgAi0ABBUFQWAABYAAAAFSlSlSiwVLQAAQAAAAAAAAAQWWFgXn3E9c3SM9BlpQgXzaAAJYLAWAApFElEoAAAAAAALFWKSwUBKBAUAsoAAAAAsFSgADPTONMdsjTDrGWoJYAQHF2c3TOnP0c/RcSzA89OegCMfPua0Fylgw35F03wyl7BcwApJYAACFYbkWBQgAAAAAAAAAAALBbKLBRVSgAQFBAAAAAAAAEoQFILKc3Tz9DSDIpAFEspLKAQolVBCyhBQQAAAAAAAAAUAsFlEoAAAUBKAAAALBUFAz08R7x2yOkEWEAgMdfC8vRpZeXq5+iycvUOf1v5F81MJ0Gue7xkAQvJ7TfRMbc6hPOPRgT359LpKQBA5+nDZfM8aHpz+jbDfnOmUnj1yGutKyPJc8upSxB4HnLrIBjtyLp0cWkdFiygqUWUWUCgAAgAAAAAAgoJQSiKJQ5unm6AKAACKgUEogLAAsAAUiwALAAAAeD25uhaECgB5HnHeXRydaAAPPrmLr642+5FxUoAAAsCwVKPHvxHrx68mvP8AE0PrdXxdj6hABAAEBAAAQssAEogABCoLAEAAPM9hzdIwy7TTn3rPj1KY+OmrzdAjDccvvcGegx2HPdxjtYIpydfOmuhjtcgVKUFBRQAQAAAAAAAlgsogAADM8dHj2JVRYBFQCkWAAAABjzr3zl6wEQAOXr5OsgAAJzdPMu/P04nQz0QAKSo5t/Wa49mfsllQguG1Ofx1lBKillAAAAFgvj34i+fXk/PPeY7eP7p1SwAQAEBLAAAQAAEAAEAABLAAAAAAAAAAAAAAABKJULFAKg9JSpQLKFACAAABCgEKCUAIUiic/TynXAiwFqefVjHXn6AAoiwAAA5evLwe/LZoGQAOXr59T0AAB59DL17FgAAAAALAAFUAACwUAAACg8e/EAaZbw8aQIACABAIAACAAIAAJYAAAIAAAAAAAAAAAAAAAEsFlhQEoBbBbBUqUWhAAAACUACFSkUQAFgXl6MjZYAAAYdHPuALKIAAAAAAAAAAAAAAAAAAAAABQgLLQAAFSwFAALEXzYebKbJ5PTz6IAQAELAgABAABAAAQABiasvR7SgABKAAAAAAEFlCABUFSkAAsCwVKLBbKLBbBUoAAAlEoACFAIAAAY68/WeQAAAXLQAAAAAAAAAAAAAAAAAAAAAAAAFgAKEVQAAAKAACVHiynNPjD7Onxew+wsIABASwAASwAQAACCwAHmwvnEbe+f0uoQA5eoGRrLBWZoAlCUiwAFIoIAChAWAACgqUoKlBQAAAAAlIsABSAAWDm6+TqIAogAAAAAAAAAAAAAAAAAAAAAAABCgAAssFgsWgAAAFgoABI8evPs/Nvr858/7OX1BLABAASwEAABAAACKIACAAAShA5uvD2euLt5V9bTnTs5erlOoJz+HU1ZydiQDxjWulydTNQWc9XonF0GqxAAAAFgoPSCpSpQCpQABKACCyiVAAADm6uXqIAAAAAAAAAAAAAAAAAAAAAAAAAQvjx4XPs8GtCsc+PronXxvydFx6DKxVQVKABAUsFSgRlpnqewICWAEABAJYAAIAACWAAAEAAABFg8ewB49glAGPnoHPvQBnj1Vebz1iBOXp9YHRlkX1vnokAAAAAspUososFAsoAAAlAEAAAABy9fJ2HkAAAAAAAAABOI7nOXoCGPlehnogEuVNAJxRvvSsAGXhehz7FogADHaHNd8mtPVM+MuguHvQAgUBUoEBQAQstBGWuWp7QWSkAIWAlgAlgAgAAAQAAgAABCgEAAAAAAAAAAAAAAAAAAAABUFspUqLKAqwUACUSwWKQAAAHL2cvQAAAAAAAEoAIXP3Scu/lvVjuzye98ZrDv4emtJYxzTs5mugM8fnTqdMduXqYBJh0DC7F8exAEolKSoSgAAAKAqCiAoABZQDPTPSODz8uH2ez839E+qAgAgAEACKIABAAASwAAJRAoIAAAAAAAAAAAAAAAAAUgAAAKlKlKCpQCgAgCgBAAAA85dHIvUsQAAAAAAAACefYwblz0lTL36AAACUTLYZagAAAAAAASgAAAAUAKEoAAAoAZ+/HuPzT7HMcP1cfqHsEABARRAAJYAAQAAEWAADn3pzXpLhr6iRYADEnR876LSDIBQgAHN0lfP1XrnL0HoIAAAZaFAAAAAx24WvoTLVJy9ZPTn6CgWUAlCUACUgAAHL1A5OwlgAAAFIAAAAACUAAAAAJQAACgAAAAgAAKAAAAqCpQABYFlAjxZTSwWBAIAgBAAAAQAEAAAlgAA8exz3cZaWAAF+f31eDbbCb01lvN4986xpqYdGETo4+nM2sHjPfNfePvUy15YdTj9nVPGCdTn6A5ek8aeOY7HJ6XpYxN0oc8Xo5+kvH2/M+nNPXlefN183SqyoBQACBYAAAAAc+3viOxYAAAAAAAAAAAAAAAAAAAAAAAAAAAAABQAACgAAKRQLGdlNU8Ht49kBFglgAlgABFEAIAAARYAAARYWWAAAF5OoAAePGwx2BydYXH2TPenHp0Q857DLVBy9YxusObf2VKTDT2M9A8X0OX10F5NNxjdRMNdEqUoKlKlAAIoiiLAsAAGWox35dTQAApFgAAABYAAAAAAAAhQAAAAAAABQQAAAFAFAAAACyiyxnUOD18qH2en879Q+mQAQAEsAAIogABAABAAAAQLKIAAAACoLAAAAAAAAAAAAAAAAASgC2C2D0gtgoAJQlQpAAsAALy9Iy2w8HSsKgAAAAAAAAAAAAAAAAAACgAAAAAAAAAAKAAABZRZTx59+I/O36cPmfY9dx5WA8nqABAAARRAAIAAEAAIVBYFQAAAAAAAALAefQAAAAAAAAAAASgAAFSlBQUCykoAAIAAAAADx7HH13kOyY7kAWCwAAAAAAAAAAAAAABQAAAAAAAAAAAoAAABUospMtsY2oCCWE5/WrWU3h6mWrKZ6HjTGroESwAELAAASwAAAgABznQAAAAAAAAAAAAAAAAlCCgAAJQmBvQWUWUqUqUAXx7ACCwALAAAAAAzw66Z6YZHXeboCiAAAAAAAAAAAAAAAAAAiqlAAAAAABSAAAoUCF8i5evB0zxkdEy2JAw09YL0TPCa308e7lM9U849HMvQESeDQAHnn6vDXoMgIAACWAAGNx615Oq8ydOG4AAHIdYBkas9AAAUjx7Dx7AGO3k9QOLu+X9Rrxz9ny5fpi4AAgGG+Szfh75qC4tgtlFgqU+f38ek69QvIABLCwAAAAEoAAnP0jlvTVw1mKdLlHVOcdDmp0Of0bMobMi6shqyhsxJswG7GG7CHQ5x0MBuwq7MaasamrKmjKmjIasobMYb3mHQ5x0MB0Tnp6mnted0k5r0QwuxcLtTL36JM9sT5unzB9Pt/P959dYOXpzX148epvLfzqcfYXOfP2Ypp6E849HOu+UwO3nlmteXbydMsuMPbOb3y04k29eV1t6w6GJKSAA4+vkTp2c/jyd059Li++LqT05vS9GPnoMduLVejx4HH9P5u831PHu8gMs+jkXXx0ejDWcR9BjsjHbha7iM/O+hw6Tt75+rBPWzdjx6LlHMunpgvXnkObo4/qTr5y98rHTZ7PO0wuexwpe68ntOedPK69PNr1MedeXW50XBndy+zW+fQAAAAAAAAAAABYCUSeh5ei+XoeXonl6HmqRRFEURRJQlp5nuHl6Hmex5tEelSgsRYAAUBQABFi0Beboxj8++/gfH+1t0EgAEACWAAEsFgAJRATLYuOnqGDcY+tYgEWAHH1T0vnSEvj0M9A5cOvedPndXnoT5n1M/dnjLoJw9fsAjz6HPp68nN22Dj7PC+sdyc86R5x6C8W/j3N7wvPx7ABx9gy9eouPQS/O7eP6KvNXHn3KMtaeNJVx9aUy9ewx2JjsK5+ip59SkVUEAAAAAAAAAAAAAAAAAAAEoAAIBVQLKCRYAVQAAAAAAVKAALBQM9MzYRAJYAEAAEAAgAAJYAARYAAEoBFgAAAA5+gZ6AAAAAAAAABFEsHLenFrcMgAJQBKh40ABYLYLYKUAALABYAAAAAAAAAAAAAAAAAAAAAEoAAJaiwAFEBYKgoAAAAAFgqUAAAoGemZs84R0zDoJLACAAIAAIsAAEsAEogAAAIAAAAAAAAAAAAAAAACUAAAAAAAAAAAFlKC2CgCioSiAAsAAAAAAAAAAAAAAAAAAAAAAASqCVCxSUAIUAAAAAAAFAABQB495nxLzWTs7Pj96/XWAEWACUQACAABAACBYAAJYLAAAAAAAAAAAABKEoAAAAAAAAAAAJQAAsFsHpKLBQLKJYWAAAAAAAAAAAAAAAAAAAAAAABAVLQAEWFIWUSgAAAAAAABQAAUDPTM+H4/RZR+f+n9DUkAQAHkrxoQAEAIWAAAQAAAQBYFgAAAAAAAAAAAAAASgAAAAAAhUoAAAABUpbBQUFQWKIAAAAAAAAAAAAAAAAAAAAAAACUSgFAARRKAAAAAAAACwUAAFIXPTxGoIsIsEABxdvJN6etuWzoDIEAlEY7AACUQAAEBTmOmUQAAAAAAAAAAAAzNHmi+fJoA8+glBCkKAAAAACUAFlKlFlFAAAAAAAAAAAAAAAAAAAAAAAAAAAAAAAQooAAAAAAAAACpQABUL49+I1efBrPPogEsAHD28M6dOHdynRnqvPn93NdmWiUHL08/Sri7OVXW4E7pYlkyNrz02efRAMNxz9OGR1gFMdeXqByHW49zUDx75TqAMDdzdBSFSGPrz0Hj1Rx649beXRy9LOO3knohZYUAhYoQUACUZ6cfYAAUFvn0LBQACkAAAAAAAAAAAAAAAAAAAAAAAAAABLLQAAAAAAAACwCkoAAUDz68x8Vyj6Hf8AA3Pvr5LAAYbh59QAAgBDPWB59DD1qEsGeg5/Ww8ewgADzzrOjLWa9i45erl6yc3TivRh4o3y1RydeJvAvJ18q9XLanvTn6CZbDx75OlfQTg092b5+/g2XPpy6bz49ufqm7pkufHnz5mu3x6lx50x8L0Xnzl7Hz/o2QIIcvZy9BQALKW+aVKUAAAAAAAAAAAAAAAAAAAAAAAABKAAARZShKAAAAAAAAAFQVKAAVKJZHxcvu+D4HZ9XQsCAEKgAASwAAEAAEAAABKICeoAAIoAAAAAAqKJQIZaDx7sKg9PIA8aABFGWsDHYPXnJeb6Hz/oTUFwPBj05+ykKBYLZRZRZQAAAAAAAAAAAAAAAAAAAAAAAAAKAAAAAAAAAAAAAAWCgAAKAPQiAgIABKIACLAAAQAAQLAAASwAsAAAAAEAABSUCggAAAACUABBQSiAA5uoUESiUCUAAtgtlFlAoIAAAAAAAAAAAAAAAAAAAAAAACgAgKAAAAAAAAAAAAqUAAqUA9R4j28+iSwAAgAAEsAAEsAAIAAAQWAAAAAAAEAAAAC0AAAASLKAAAJYKCLCyiUCCgAQAFgtlLYLYKKCAAAAAAAAAAAAAAAAAAAAAAAAoAAAAAAAAAAAAABZSVCgAqUWU+Z4+dI+z6+J1n3JYCBj5a6ErIAEWAB59CWAACUQAAEWAAAAhQAAAAAgKSgABKEolCUAAJYAKEUAAICygCWAAFSlspQLKLAAAAAAAAAAAAAAAAAAAAAAAAFCFAAAAlAAAAAAAAACyksoAsosp+b8fpOePhfT6uoQEo4enn7s9eXo5+q58i4w9a8y9M8+kA5Oj3zL0zz6QACAAAEBmaPHsAAAHk9AABAUmZqB59ZGrk6D1ULAOb0u9EAAAiiKCUELFIoIABQQKIBYPVlFlFgooIAAAAAAAAAAAAAAAAAAAAAAlAKAEKICgAAAAAAAAAKAABZRZSkhLBLADh3nROnD3Za3MDIxM98bOm4vM8ZHjq5+hoGcvHRFx2xS7M9LkBLBLTm6OXqBzFnSWXi7Uc3Tia3x6M8p1ry67cKdqUYbDl6vOJ0yhzaZrr75etIsOP118s6a6lwlJKhQQFIKEWFBKEspLKQABRFgBbKVKUCygAAAAAAAAAAAAAAAAAAAAACUIFBLLQhQAAEoAAAAAAAsFgKACwWyljzHqT0SWACAAA8+gQAACACUIAAAAhzdNE8exze94cu/qiUZayk5+kc/jsHmhObqHP0wJRnrBYAhefoLz6aEAAlgsoAlgKBCgQAAAKBAlC3zS2UWUWCgAAAAAAAAAAAAAAAAAASgAACLBQIKAQqUlgWUACgAAAACiKAAALZT5OfHI7+34ex+glgAlCAAIAAJYAAAJYAAAAQAAAAAAAAAAAAAAABBSFAlhYoQVAoQpAAAAAWKRYALKW+aUFBQAAAAAAAAAAAAAAAAAAAAACFlBKAACFQUCUAABQAAAAABQABbKfmvP6Dmj5Hbv3GkogEsAAEsAAAIsAEsACwAAAQAAAAAAAAAAAAAABCghQCKIsAFgAVCxRKIAABQIAALYLZSgqUAAAAAAAAAAAAAAAAAAAAASgAAAAAACWUAACgAAAAFlEsKBZRYKISwSiAEAAAIsABAAAQAAAEKgAAAAAAAAAAAAAAAAiiKJQAiwsoiwqUIAACwAAAAAAtgtlKlFlAAAAAAAAAAAAAAAAAAAAAAAAAAAAJQAAACgAAAAFlAAFlAPSISiAgEsAAEsABCwAAIsAAAIsAAAAAAAAAAAAAAAABCgiglACUSiKIsAALAAAAAAAAqUqUtlFgoAAAAAAAAAAAAAAAAAAAAAAAAAEoIKlAAAAoAAACoFAABZQD4EyGv2fgbx9+evIABAAQAACAAAjnOhhTZnoAASUc/Ry9QAc+R2s9AAAAAAAAAABKAAAJQSwqAoiiAWCkAAAAAAAAFgtlKlKCgAAAAAAAAAAAAAAAAAAAAAAICiKBCghQgoAAoAAAACgAAWCg+D4+7hHxtfq6G8CASwAAgAABAAAg8ZdAw96AAQA5url6iWDk7OWLrj68nWsQAAAAAAAAAAAAABLABUAAAAAAAFgAAAAAqUtlFlKgoAAAAAAAAAAAAAAAAAEoEKQsAoAAAEKAlAAoAAAAABZQABYKCiIsEsAEogAIAABAASwAAAAIAEoAWCoAAAAAAAAAAAAEsCwoIsACwAAAWUQAAAAAAAAFlLYKCgqUACgglAAAAAAAAAAAAAJQllAJUKAQssAFlEBYKloAAAAABZQAABZQCkiyUEAEAACAAASwAEAAAAJUAAAAAAAAAAAAEoAAAAgKCWCkCwAALCggAAAAAAAAAFlFgtlKlFgoAoIAAAAAAAAAAIKAAAQFJYKAABKJZRKAABKoAAAAAAKAABYKD4XnEnv6nx+iX70sBAAACAAAQAEsAAAAEsAAAAAAAAAAAACUAAAEBQCUEsAAAAAAALAAAAAAAAAqUtgtlAKloIAAAACggAAAACUACCoBQABKBCgAhQAAKSgAAAAACoFAAACg/O+fvcx8j6mnXHpRAJYAARRFEBFEAIAHn0FgAAmXhehzdKADEeNdVxz6vJy6vZ7cnYR5qUAHj3huEpAUACBnrx9igghYAAAAAAAAAAAAAAAACwWylSlSiygAAAAAAAAAAAAAAEUAAJQBKACUAEoAFAACFAAAAKQFAAAspVRFhAJRFEBKEWACUQEUSUQHjPfNfGnnRKBLDC71rlmvpfQYcvVibzHYGZl08O7WnJrrNcu80RmpNWSOjj7LnHS8i9k49DpZeDojI1c28uHTzdK0XCAAAAWAAAAAAAAAAAAAAFSlKLBbBQBQAQAAAAAAAAAAAlEoAAJRKhSFQUhQSgAFAAAAAAALKAAALKe5URYSURRARRFgAlEAlgIAIAAAAHHOr03h61M+PYgHnzoPPoL5osCwFg8eqAJ59Dz7lMd4PGXQXmz7S8nWIliFgAAAAAAAAAAAAAAAAAAsospUpUpUFFABAAAAAACUEoAAQUBBSFgLKCChAVBQAEoAFBAUAAAAAoACkocOXzYfW7PzvZH3J68gAEURYRRFElElEBARYAAAJRAFgAAKRYAAAAAAJQSgAEWAFQAWAAAAAAAAAAAAAAAAAABUpbBbBQUUEAAAAAAAASgAlEBUFgFEBZYLBQJQAAAAAAAAAFLBQAAALBQfnPP2+Y+Z19HbHTKIACKIACLCLBLCAgEAAAAQsAACgAlCKIAAAAAAAlJQJSAAAAAAAAAAAAAAAAAAAAAAWUqUqUoKlAAAAAAAAAAAAAEAAABQlAlAAACCpQAAAAAKAWCiAAoCg0nqR59BFglEABFEABFhJYIEAlgAAIWUQAolApKEWACWAAAAEqFAQACkAAAAAAAAAAAAAAAAAAAAAABUpbBbKLBQAAAAAAAAAAAJYLKRQAIUEUCFQUACKSgAAAAAFAWUBAAUKAaiICAAEAAEogIQSwgIQAEKAACUABQUiiLACAiwAAAAASwsAAAAAAAAAAAAAAAAAAAAAAAABZRYPSUoKAAAAAAAAAAABLBYKQqUAiwAWUAAiwUCUAAAAACgKAIACgKD1j8yH0ej5PqPrLABAAAgBBLCAhBKIAAAAAAoFJQKIsEokogIsAAACUSwAAAAAAAAAAAAAAAAAAAAAAAAAAqUtgtgoqpYAAAAAAAAAAlABLCpSUAEsKQpCwKgVBQAAAAAACqlAgAKWIoPzk9+Kmmf2I+jLACAAAgEsICSwSwEAAAAAFAUAWWgAEokqJKICAAAiwAAAAAAAAAAAAAAAAAAAAAAEFgqUAlBYLZSpRZRZQKAACAAAAAAAEoiiAWCwFCLCkFlAIoJSUAAAAABSUAAAoWAq+NkZ6BAQAACUQEBCCWCAlEAAAKACgCgFUAEWCUSWQlgBAAASyiUQAAAAAAAAAAAAAAAAAAAEAAAoAALKVKWwUFFAAABAAAAAAAACAWAFikAAspKAAAAUAEBQQsoAAAFLBQawgQAQAAEsAJLBLBAgEsAACgAUFACgKAASiLCLCKiSiSiAAEFCLAAAAAAAAAAAAAAAAAABKIAACgAAWC2C2UqUWKoAgAKAACBCgAAAiiKIAAAogKAAAKAAAACAFlAAAoCg958viOno4cz6SwQAAIACSwSwgICKIUigAUFACqAAAAASiT1CASyEsEsAAEAAAAAAAAAAAAAAAAAAAACAUCUAAAAWUqUoKKqCgAAAAAlgoAgAABKCCpSUAAIUJQloAAAAAIWUJQAAKFAj81Pfmp18v3I7fNEWAAgAIJYJYJYRYAAAFEqkoLKBQAAAAACUQEWCWEWCVEBFgAWAAAAAAAAAAAAAhQAAAACFSgCAsoAABbBbKLBRVSgAAAhQQCwWEAVBYpKgABUFABKAAUAAAAAEKAAAAUsFEc07acvUgAlgAIAARYQEBFglEUACkoFAAUAAKQAAAARFlRYSeoRUSUSURYAAAAAAAAAAAAAAAAAAAQCgABKAAACwWylSlS0sFQUCUQAAhURUCwVKLAAKRRAKhZYLKAABQAAAARUoAAAFVKBGgEsAEAACAASiSiSiAiiKIoAWUFJZagAAAAAAAAEogICLBLIiwAQAAAAAAAAAAAAAAAAAEsFlAAAAAJQAAt80qUtgoFiqQACCAAgqCoKBYKAAUiiWCoKAAAAKAACAFlAAAAFloIuXL6Onb5+p1ywAASwAAAiwiiLCKIoigABYAAFlIAAKAACAoCLAIgICAgEsAAAAAAAAAAAAAAAAAEolCUAAAABCgAAqUtgtgooASACAAQqCoKCpRYKBYKQsUgBSUAAAAABSFIsKlAAAFlAPzU0815+x8j9BHRAAASwAAASiLACLAABQAAihAWURSAAWKCAAoABLISiSwQEsAIAAAAAAAACUAAAAAAAEsAKCVCgAJQCWUSwWUWUWUqCgAAQBCwAJYFgqUqUqUqUAqAAAUigAAAABYFgqBQAAAoAP/8QAAv/aAAwDAQACAAMAAAAhmxNG+6E8wEcwM4gEc8AMs88YwkMc4gAEM4Q8SKGcy+++i2yiSCKWeW+O826gG+yyy2uWLy/6iKCOeMMI08Y8cMMAwww8MAw882tUndge+i6Cc4EcwEwwAc8wAMMc84AIMM8wAwYImSwgACGOOeOe62++ySiGEK63CCO2OeJ74IH8ue++e688gEAQQ888AAAA0sgAwkNvCaGyCUA4wE4gMgE4wkMI0wwgAM8wgIEM8scyO2MMM+62+wCCyyO+OO++wwif+++4gETzuzzKyiSyCOQw888sIQI08AAIAwwsMClpW46WmjZF7wM8M4gAcwgMMEQ4wAwcwkyyCCGyCuAwACSCOuOuOO+yyiCKEMvbAIAAU808s+++Ou+OOOMIYgQw0oEEQ4EMAAc88C51Xeo7EN82hMocZEM4QIdwBNNEc8w0MIs2i+ok+KsOOyy2y6yi6CSGuOe+cyGH888s8oIE4iSi2++ySiy+cIAKe2w8Ge288IAw8Avj+6WrpMeev6ZnqdONcEVxvntXgDkR4xRMkOV5vwfyeiD44HHGW22+6iSCCCGF4gQqQAkITCCCOIkOOOj3U86+fIAwSOrA088gQIzds26WpNRcgchVIBhXM68SCtlwsZH5PFpW+YgJYSq2cVSPVzRB7iCCCaiW+86/AIPKCC+8qv8AvPqrPvtqsgDNqQwEBmczAABPPAJFrJqjkBupODPHKAMBHqgnogpCM4glvvrsG+KEqroqtjtgiogokighggmtlvsvFKsBAYqlvv7/ADr6pLbrJEYAJKYoggSYDxwhDSwRQIlJZKJ6ByzgTwZqpaqJb4rLQIIJJL744I6IYKr5opIbooAIIIIJIapL5Z777A/5Lb77rbpL6yrfyqYJJyMIILL7ywAABDzxADyxioVwLoToDBTgDhboI6Ib7oIKZ64L476IIIIJJ7YIC4BBAIAQIYKYp7777767KKp6oX77p6VJfyqPjYIILBa6IIYz7zwAADDywBjwB/3Qap44KTThTxQp7qL74MJ5rb56oIIIIJ7776qq7CDBAIKq4ILb7777bq5KIZdrojLygDd/bwILJYIIoBLbYqJiBjygAABTzyDSg8cKpKpZwJijizmxab7JIVaojLJKYIY6lyFb3qY5YChAQI4b44b67bboIIIIJspYptQAAABKIIYIIYb6IIIL74YBCzQwgACDDTwDhrWqJ6ahrgPbpUCRoIF1Z3QLnUGiUQ5i2RsV2QFGe5qNObt4rb74L5a65YII5/IKaxgAAAIJ7J5YJJoIIIIJYc4IABCAsCAATjyxTr04r4KraoJaL4Dzr64J7IYJY6876544zrVlc66H4KCl979757774p6JI4Ipv4LIKowxgAxoJIIIMYZL7SsACLWYQBSisABABCTwgIH4aB6CQLarapq4L6IJoJb7777b7rqoIIoJba7JqqJdbr7776LqrIIIKobyJZ8Mb5KCAB4oQoK6/KorraIxyidOYzShazzgxDDCxOHIZTwTgyoL4JYL76oaoJrrPOMJIIIIJ54LZb6rJIbL7z46IIJJIYIIJIq2GoOHJDohgaL/AJDa2IxW+e+u888ACS04gAAUscsIQ2e9MmQIcG4AwoW6G6yiWiWqCDDGCCOOOe++e++++KaauY846CCKaCSOCCOWeeqCzeayCWu2+6y+++++yW++sYsAICQ8oAAw88sIAA25eYUAxQEslgeIW9uKqKWiCGJ2ye++++2++++KCuiGUIA+sCCCCCCyCCi+G6qe6+yqqC6Q+qOC++++6Wy+288sQgA88AIAAw0sMEaRCg4YcyY5AtUZ+U/UC15SCeRt8oY5uC82GaCJqOSaqqQAAGCCCCiSuCiSy2v888+OiS+e+e+62+y++2vKe08wCHCS3NMIAE8ssIqNSOs4coEk+qGWyQ86GOaG++PNI48R7S9eTViZGI2eWWAE+OCSyCCGWqe++WiQ0+O62++++/eCeemy6Ckmee8aZKqOa26MoEM08sC3m+0ocQcUsCG6CG6ie+qW6+uy+yOCCSOCCSCSm6CO+K9U0myKCGCGCiC6ynK242W+y22+W/h++u7+uKSCSW62u+u+8Ag0sAAQ8gGjEgcgcg8c6ieqGuIW+8Ce+qiCyiyCCCCCCCCuWCK2mmfAOGCCCSCGKy++ep2++yP+qe+ayC+6u2uuqCKSGKCG+++yeoAY8KAAQuKzKggEsGK6qG6CeqCe6E1++CKyiCCCCOSe+OK++uuKmiumKCCCSiCGCG+++T++++eOe++uy++++++quCyyCCCaS++2+6MAM88gAc6XW8g4CcUiiWie6qOaictIiGmGWiqKK2+6yO+yeu++SaSa6CCCCCK2+6+umq+y+a++2u+++C+++6+W6mCSCCCCGOe+WuYAQw8sAUuQO80CegUG+6m6iAyKC+4yyehIptHFT+prOAQ2++++u2Gaa+KCCSCOSm+++q+++++6SCCGS6ie+mGiWSiC6CCGdkzyB+sMIA+8sIGYAIUA8g8WyCeqCW+iC+4iC2u+uu+/e+86+nMK++uG+qKiGWqCCCSC++++iS++6+++KCiCTmGBX6zOhiCbhiCCHdBwt+88ICQU+oSqIM4EIU+WCe+qC6qG+qC6C+6S+++C++++++y+y+uWyWeqb7ymCCSua+++Kg++yq+OCKCGbsT2kDk+8dCjziCSgCSCW+88MCwQ8oUCiqoMI4CaCyeie6CW+CKcC+6y+6ue+6++++6+6S6qKCWeeCKeCC+yCe+yikuueu++e+qCyCrziCSSzjCqCaCiCKCC++884IQw8g866go8gqy+iW+q++C2+CM8y2+7Ee+ye6QJUue6iGyiGKCFcg2CqCiiCK+6yyau+++6+2qOCCmCKCCaiGCgAAAASCCEc888MIAEIoWasIocE8++iC6C++CWKKQxW+eYF2oVxTmIsE9R6v6tPmFo2xIi2CCG2++66iT+y+++++yyKCiCiSmCCCCCCCCCCCCSS8888gQM4w6qIsg0U4U+CyqG+6C26+A2W++ue++e+uuzVPF3/KSymRhgBV+2aCCCyy226KWd++62+++ye+uOiKCCGCCCCCCCCACi++88wAE88oqmiamocgU8qy+KG6ie6CCeS+++a+Ke+2e++i6yGuSCyCCCa2m2OmCCimG+26KX1+O++++ey2+KOCCOKCCGSgAAAAAE08888AAw8oo6u22HVi++KyKCeqC+uGOeO++yC+++yuSyGKCyGKWGiCKCCCeUWWqiCCe+++Guyfa+2u++ue+++amuCCCCMcoIAAAAQ8884AEc8MISgsQI8JUsuWqGcKCW+iC++++OC+qG++KKS+6iCCaWiCCKIgo4aKeiCOe+e+KCCCKdmy+yy++2+qeOKCGCCWSCwgAAA088iC+c4PLnRpY0OlR14VqCUuKciiW+qUZaSCCqC/8AqmggilnrQ/ggvpStDIrmnhgglnvrsokoksrX71++l8DTvzw7zgyyigiihgr/APc+sPe7reOoaAl47yijX3r/AHS3EwauKfTY50xZsTyCUQ1DcZwBPoRIZQoW0fjtn92L++euKCKCCCy6yyyTyiDWqyySy/b2OfvQwiS288A8+YUeKIMANoW+CuKyS+wEVHK2qVveaS/N4+eSOzaDhAmKWiUUm7AI9I4+/uqKw+++qCGOCCmCCCCyCGaCCKCCG8MoGe8AAA8848IQwskggoUoMiC+Ce+CWqi2+CKC2+ua+f8AvhvvtgkgisrnCggkgpkkphrshvtvrvvvsjgnjjjgigkgliggijkggiNPOHLDAAACFPLCAEPALBEFIPgjrgtuglrkrgggvvvvtsttiglisogggogljggggggggulhstMkvvnvvtitvnrisiggnkhmgjmgghAJGIAOABFHPPPOABOEBOwtANCkrgnggvvhtvglrvvoggsigghsooogggggggggggkggppirtqlnvvvvtvkqvikrigguhikggggviAANBEIAAAEHPPPAAPABPkPBPIe7gvhnvqjvrgvttvniggiggggkhggighggmghiggggknplgjmnvvvvvjgtmohvulggrggggggkohCAMIABAAAONPLAEPBEgJNHtDpLgqkv/qkvggvgkvvpgkhighogggjoziihhggggggogqmusvvvvvvvvqjnvvokongggkhgggggggihgAAAAACAPPPCAPJBiTKFYKRkZaROGZXjxSvvqfqoniqmiiixiocpYZjlghmjgglrRFtirkvuvvvvvvrnvvvvrjqkggggggggkggqAAAAAALDPLOIAFAAkkhCUAR6sqBDmkVjG4vutCumrDg0gkDgopgg/6aiV5TJiQhLQEuDHkvvvvvvmvnvrvnvrtjnrgkgggigggtIIAAAABHNPHDCAPCAmlqPBDuolrABqgnrggkrmvunrvokggoCArljjvogszvjIwhRRApKvqsvvvvvnvvvvvvvjtlvqgghigggAAAAAACAFPPPPPLANPMCEKougkrotvihrgnnuglvnugkvg0wwigAgggggoghokvvkEkoCAFBqqnPvvvvvvvvvvvvvvsnutoqggggBAgAAAAAFONPPPPGPPCFFClrgvvglqglpgvvqhrvviigpgwxxywAAAABkgggrgtkojggnvruhhkPvvvtvvvvvvvvvuvgokgsggggAAAAAAAEGAKPPPKJENCKFgupsP6gtuglggkuogtvughqvgghm6iggiikkgglvosggnqglvvnKgqrvvvnvvvvvvuvjrgjigggggkgBAAABEAABIENPPPKKAKANsjk80i8T8uFygvughuvqgghqhiwgigp5nuagggssihmsjvuhsqpgorlPvuovurnvskvoiglrggogggpgABAgAAAAADPPPPAAGKLBBFiTqaxUgmbOgPysluna9LxrrZajm0qF9sykpgvhotgoqqvvstksHtqgmvsssvvsggvggglqgggogkngqBAAACAAEMPFPJHIBLPHGFAPfaEiqghuknqgghovsXxqo0yhoigghgLwgrkgrshgnvvvgnoDOurlvqiiksvggluiggggggkgggtojghirqggAMPKHMMAAPIBskAEHIhvilvugluoggvrigkghjggggggggjhglmjjouvvvvvmtgIDNlkiglviglrhkqgggggkggggpkigghjgkgigANNPPPMAPIEgsIlvolvjgtqlvtiggnuhuhgksggggggghgugstvrvpmkvvvojrFJPlioglvthgghvjogggggogggkgggggggqgigADLPPKFAKBHNELhvqgtohvqhvvohjvqvpglvqggkgggggssogtktijvvtvvvvvvBAiqgjnskogljvimogggggggggggggggogggkPPPPPKAKKHCEIPFugFvpnuotvqgtvvgkjvjjkggkgggghgsigikstvvnvvvvvqkGnorlvvggsjrnklogggggggqggggggkjiggggANPPDIBNIFIKtOAvivugnrgmdTwgrvzmxjvgjkgkoggkgggoljssvrhvvvvvvvgrsnhhvvjggvsvghtiogggggggggjsshgujgkgAPPPPAAFLOJnqOFugvughogjnawhvgwhGdugnogggggggggglvpvvvvvvvrvnumknqqjlvugkggukgigggggggkhhnsggghgiggAMPPPPKAMLALNFPEvgqggnqlvvggjulisovuggggggggggltgtvtvvvqntrvrvsjhupltmutKiggrhrggggggggoqgpghlvqnriAACPPPKAAFKEMPBKHIgvgglqhvtggpvvsgggkhsgggkggggvgrhtvvtgvrvvvutvuoipvmrkgAggmogrghggjggghurgggkqkgghABPPPPPAABLFIakJLAAPjinqlvggglvvugngighgggiggghugolvvvvvvvnvnpuvvvvmpotiBogkogAgggggogjjuggkhggugggEAENPPPDIAFPEFJQDFPissqsrhrhwggmDyh81KKhwgoyvggnvQhnvvvvvvvutohqsjkqponuqgggvqggggigggggsggkgogkgiggEABEPPPOPABPKMoLGMrotjmismrmISlqbCkxXUHgu9qTHTXNggnvvvtvvvvvqhjgtslgnnkppggALgggggggggggkoggkphjhgoggABAFPPPKAFNKEhHMrspgkrhhoniggg3PPljukkgg4origwCUVtvvvvnvuvjjsvrjqvhkoqmnjhAMkqohggkiggjgjhnqhovjggiggAjPPPPPIFOIPElvrspvsmugqtqggkvtvvutriglggkiggtvjvnvnvvvnvlkvigkuggsvnhpngKnghhgghgogkvjnsvlrgkggggggvjvvLAAAFLAKIurjsjittkqrnugghnvvggosvuoggggioivvvvvnvunngggighnvgggsqimkigggljggggggggnvvvooigggjihgvvvvPLAglPAJgokvnsviojiqlgghkvuluotrlvgggpgjvuvtvvrjqghvskqgqggigggglnpopgggsuggjgggglqsghgshjggmogggrvvPEAhvOAAqughqgkrrsqr/hgggohmikpirtqgggglnvvvvvqkkoglrtggtjkrgggggopnlggjmgoggoggglrhigtvqggtoigiglvvPAAjvPAPLoonuovplqpkviggtvsmvstmmitiggilvvvvvvkknjlvrgggiggggggggmmhptCsgggviggggoglioglhhnjpoggggltvCAgvLggHogvigqkqtkhvvjgvomjqPLEGmivqitvvvvvvotujkksogggksggghrigoosmqqgAAAgmggkhgksvrnothqgsgoglijvuoqvtOlPmrvvqkqqrlmkvvvuhmlpvBBNEFhivigqkvvvrnqgggnqighiggikgukvoggtnplgAAAAgggggiggntvmvvqoggggAPvPqgghvLFHjqnqilqlgmqlvvshumhsgAMEJJMkknghotvrrjigtjvuqgjggghgkvvvggghhuirAAggAAAhgrggssvvvsvggggAAEMPvqglvPEDromqgvolgqqsuMhmmntHPDCEEMLBhlrgnvvvvvuggglkogggggsggvoiggggumthDCABEIALAEgggkjiogguiiAMEMNPqiglvOElBktohvhlhhtrhjsupqnPPLLHLGLLBJEqtvtvvvvjggggglqhgsogghignqggshqpkCAAIBAPLHvjmpvvjggoggACCANPoggvvLAmtgluhvoprqpksjmpknvPPOPPPOApJNIkktvvvvgggggggsgggggggvoggokghrummLDEEPPJDjrmovusvplqghiDHNCPighvvCHqlgnvgvjkkmjsssnqkqPPPPPPHLDELLJBhinvnvgggggggggggggglqgggggogkimhkrBPIjsjjltrlvusrjgggggHHPvqgkvvqNhjlvqlvugpspssshnrvvqvvvPPPvKNCjqiqlvvqgggggggogggggnuoogggghgglnphkIJsjspjjsmrtrhmvuoggtvvuutihvvqkhBnvolvroktitjhoggsnqmvnrOrnCAFmnilgvuqggjgqgogggggkktvhpigigqlqosjssonpmorrnmmitjvvusjhvvuprjolvvghv/EAAL/2gAMAwEAAgADAAAAEF4sxeR5+z72yjtm50847644xz1z0x0+9/3YVtgokHsgg3ujlrsmtvmsisOlBiQzhh2+YfibffsojihPPCAFNHDHJRSTcRUQAQX2KjJm3YQZYX/9witOAsm4z8zjsspouigsz8nymgojGMEtojnjktmksjrmttCoZMwHsAgDKk5pEYPutohsPcVMZfcQfQdfcWZcdTSZtQTZTcU65x970gupvrn/AMeIYpIIT75LoY7KKoATiSwiIZpKz7oIo7wqbrIwwvjcJKRiRLAwdLkxwAyJ6gxjDDHmXUnFGElk02U2+pagvXWNZ0/w88O+9MNP9s76J6YrMN4oqATnGDzSbwjCpII776ooLKo5brKQi4WDgBDTxTyhLLY6bww44xyhyg0mnzG0UQ6D2F3Vb5o/Fu0CbBRYvt9H8OKIrMvSdS5LLsSM7OnRnqpjWA4a56y7c98baKa5ZJJgpMXjDyADTTgR744hCI677r5wwDqbq31e23L4rY1QFw7GnVA5vPaE4lcxHbizcPwqyPMtPQiX2ITJeAVi3EC9riMzH0dbrhAbqDKoIbexix6zxQjPLLIrsJ44pCWgDJ6JT2zpPrQp7/O0nIBNGXXOj59qniAeFR4C1J+iqEeADWKFATnGQk0cQxGoetfVbrlSsahBiJq6g7DEgW3ar7vsHLx4loyI4iPDBquY3HZlEyHbjX4Y9dXBywqQAOIoJ7eO6YByBghU62xzjTyBh1ELayARzzjIp6oJCEFqo4IJrZao4zergWoqoYwg7w78dxAxg87T6yYpln2q1BxkU2YaruCriwggpoa4bqV8dZZ5JKDjLiIBBAILDy9yTIAI4q7oZIQrJKIR4apL5Z4Ic035bbb77r5rIjYC9ZqwEXcKJT2JCEGW21D1X0Scn16oiQYwKZa6q70FAr6boYACZ6qDQqJ6LrAJBxRxSZSyyqjgIYaYp7DaJKJY92HKFvLI6LL0IBY6YLpbKCKKLpLBLX0HH0xW0S1XUTeKRAgxJXM5IL7J5TqoLeAAQhRBzyrbCJ776LLJ4zASz6yj6pbbDCgAr7Cb5UHLXMYDShXEoD67GioaoiooojKBzSyxzE1lH2EmnqUjBpIAaNw6bDARzzDTyZTTsU2zCgw69SMQYQiipCBQzIob46YLKqoa77gbppd3UUBzSxy5z5qaIY76AZ74b4cCRBwQkEV01nVVle9oTQwJyTzmBI+wU218RR6ztMrr9qp6Luz2k1N0n+eh2I147bzD4KpJIoIIow7ZpiSRzT76IKKopJIIILaaLXGrDSQD5zwXEUm3FfS7KigBTwJJKi65ChDph75BBySym5kC5gegw10Mk7ibUZxbpJILLbJybIxo1U4b7bDCTyyLYKLagSRDwMBABJyUkDTgEAHFW1kUmMT6wphrKDRbLRjijh7I657bzyJr4bZSwwgJ76aYiYsIcOpBAp4bY7776IabxSW1km5gDB5w3IKw6+ArxhAxyiUOtzSjKH3k0EU0VLRYxaK6Y7QCChCjppaZIJZa8/8A+sy+wAccAkqW666+iWsiye++iu6qu+yIYLKi/kYMIUG1sIpY0OiXuaCO848Au88wAQ9ssctZta58kM62O/CimWwkwkMeCOUU+7j2Sy+OOai6W+GCCeOOmYAUG++2m6my+6OWeP5TTfjRiWs2+6SuuKGCOqCisYsgYmsQoJFNxxlZJ9PwF/WqZWQlQMLeEtnQwocAAAf0wc6+26KCAgA0wm6iwA8CQ+2++qOM4Ci+GNge6+zLqi6U+qICKAAAGqOiK4gsQ80AwAJ19NZlNx7yBnquI3lMlGb3A8Q1w3t4Cat1N6Cdz8bytxchnA2uyiM8866+86euOWy6ylVM8s+OiS+e+S++2y2yCCUwmMAcQ2qGF5N5x4BFtdXOkoeOeSGewwkAM6yE0Mck8oR3wHrZotLDsLBIX3a6+yA4C2+iO+O426e67r6QwGO62+6K+lYACytOm8j9byk2H5oOfrPE44wpF93IGMOeKqe+6sEEwGkYcoUWmCSOAMy+qCS+iqCSmeKWKCRwIaOCOGCUgiC6jxB2oKF+ymqi6dhuCCUiSywTOrHKSyu+8EUYsQwgwgeomuKKaOq+EAAUmwiU8yieO2Y+OeO+++6CEQCuUAIcEK7EySK66WiEIw88cTi2+e4WqKamO+2HyKSWWemma266CeeyeoUkwCAAkmOokOeGSkU0WKMoewsasz6BC62OS+miScSe+OKu8MgYM62OqeswS+CGAuuygR0cckYyyiyyOCKCCCCWS+OO+uumuS2i36c0wc8gU0+QoqCmwa+YSUcamGMGeubicwYgUhA6K26CSM4yKGQ8GamK6GSqACKyu66SqHSyKmAoaySiC+GCCGCqGa+u++v++yqGWPYRhNwgQgW3aKf5Z+2kyuOOeyg0g4GMYYCRbHB1Y44JMSfuu6CCO2Kus0+GaaCOSm+KSVM8oCKGu+6yuCeiCeqeque+CRx07BYpN+sE5FCAsc6jT/HrLLr0M4MUoQAIAAGQAwI8doIU9onlgF+B8gS6CySAuyCGCeSG88sCa584GCOK2+c4pAx/jDEzUd887z+iGJjriyscI+sseo+NrbnvX3hS484UA0UkwUggAumucOC2eoCCAI8q+CSKOoEiTrOu+KQua++CiD4QOWOyCO+G8NViwmFjMu99g/uaoSWSrDAQM+MsA8oFu1fPjqiOuCkcME80ooMaEIGOsMQiK2GCSGc2Guycgyia62amSi+yCcgMIS+fiS6mCOGuBo7tkKG3YUTXqiWO+Ku2CCkA4MsMM0E1+b/7fsyLaWMUsU40osbOB08E1MMwegjcKaiOc0Mc40wwC650qSiyKKqGOfRuue+KC62iSO6uS6un7Dnc8gMIOWi4gAEsAIEYk4qV/wA0y/4vIyghqPooENtOMReIEZvUiJ5SSdamXh5AXlWeMhyO2OkgjsnjjgniNDAlvrgjjt/HPnrmhlsjgriktgonr7wAPHILMMPEnRyy4+xlqrslLPrqtjoMtFoguFaEJSYQXDxHnIfaNSXnnnp2kriqgokttptmS/gutiigjigkgntvlpvvNFvv7gnN3wwlPMAEAHKCuendd3z1r0OqpBpiHBrjEsrOIJFhggCIggFBimkrvjItvtkzJBjsoophohhpmB8jtvriojCotMvvstvpkrnPPAFPOCJDINMPDNKFFS2cbHmfSdcJPGFKPsriDDPLDrhugnjBnutPDuNKKHIDPPPWNvMopOgnupiuED9FOogpfXoqhipGErvvusIFMIHNHLFMIEEOIBGMAXxx9WH/AM5FhQVuQBwI4CDoUDToZ5oIzTa7IR746SUwwgj/APS2MamlyOeueq2++yVCrS+ucLjKCUiyye6a+qu+w4wU4884iCCEdKqoeSfAMZWInedpo5kOYcUoS62oA85g90qWgw00sQZzp4gw6xbuomY/W+CU+GQIeaegBKUVpsBlL28N/wB3veccfywyy8yiirbAsoepqucTzHKEKhyEY8gEb7esONPHPPlVIXSofhbNPKipt4zimWVX0FEl57QMfPgImtvtvjrjhPHPwLDHImgqgEXytTfDkdf2rjNAAEmaXtMv5zv1SCKNSEAIt/oQIHBoEZNj1VkYviRNWIwWzQHB1Iq388zk8eJHSoDgklOusvvms/8A/wBP37n+qKKCG8MoGe8AAUAAEQIE9tZIf/3DPdAI4agMW2ayy+4iWOamGlnS6ACKCu+iyswQ+uYAkAMIEEa6eC+i+6COy+iyyy+W+Oeq2+2WiemCI844csMEo80sAEJxtdVV3DXBl7P6qkEoSyy6+8S++qCOMKK2yg2OeKSyiGqy84QwAgg8MSiaMySe+GGCO2KCiS2O2+2iu6m+wkwAEskYoA4A4ogAAA5d5Bto/gPrXxT5rK+r4AsmC6Uu+gey2O2mOSKO+g848+y28uUKKyKSaOSmaqWKC22KKCu2C2uS2u+G6mOy++q+IYs00QkIQ8sgAU9R9VBl0vbHDK4xJI8frQMwQo8i0Ok08+ie+e+uyOCe+6CGmuGoUwYgErG+WOae2qgCCy+Kme4Ako8QQ4EC266Si4gMwgA4sc8EIMMAEQEeLznZLmXYocwlEMIr+K+GSKaa+G62+6eiS+OnSy6GGyiqQg4sNXMsmC+++KiCCWyiCCeuOC888u6WGe6S++m2MEA0s8U8Qc8YcEkDOT3if+WahuTSNF1Zns+Uu1NgF3at05wGeH6YiGMUAAYMQUUS6YQkG+G6qiCCgCSiCCCCSyCu+82q+uiiiOqscAcgQ8QwAA4kc8AW+UnWvH0VJ2eI1jkz0c8MeScpCIk98TTrzoab0nuhDneybADdyIuqoGy+uOCCmiiCSCiiQIyiQ8i66KKW++0g8csoE4gIA0MY8wIexhHLvN19USOMWOMwuySWmgUQSS+u+60oGYeOc80oMs1uToSFOBWwg+OGCCCCiCOCCCCSyKqCW+Oa28coo08408kAoAAA8csAIQ0ErxBnrTRayCiCSyeKGCWuCG2uC/vveOgCCCGCCySGiSe8PoQiKDiEiWggwCiGKCGKCCCKyiOiGKaW6gas4+088g8MIEIE008MAYY83k05Z7BoHeiWaquOWEsqCy2+a/v773oE0gAGSCOCuC2ShNAAc9tkEikGOCS6iOKCSuKCCGC+eu+OyS+8MsA88IAEk8Uw08okEYYgKWEd90RJhFEW+0wueKyKG80WC2+6nCKyCKKYQCCW+gyCDfqCUtB7QC2u+qCiOyCCCGEQyS8y22886WigEQ0M4wY84csIwg8ooco4VMZAv7k+RJ6Mwg8G+o5pSiC6WM9+gkIsmay0CeCzzeGazP8Aux8y3QGhqAkhnFhkIIjrAntvqksvHjogopDBAgAFJFNMAABFBGJKDL2xdsmFRrLV2L2o/THNMyS8OdTxzGEVmmNbDGJguxoNgIqquv8AOdWpgL76YIw44IA754L776pb775pJJ4LiQAAAiBwwwCgAxyBiih+N/8Ae+XRskQMEQce8oExBvtooMYC0q2temTxiCOYUuyGGeeqWDPjPEi2CAW22uOC++qG3PO++u6WuOq+iOCOKmueM8EQUkQQA8UMCsv+7bdFo0++GAUmCyC+Q02uuay+Oqm6OO6+uCWaOOi666+s8anvPue+Oy8oA28oS6uW/wD76nrvksunkigApjgEnolPCGMPPMHFCErS3VaXV1+oNONLAoggjhuhsvrjokvABPChgugso/rPpmkvvPIz2+/sAvnnKACOPPug83+/aXunmmgkggghhjgqvtvFMEFOKPFJLP1+0R6VYx3pvkBPoihjulgmvqoljvrrnvvgssogtkNCjvvtv/8A/wDBDn6e++2iOue8qyD3nH/rDC+++6KCOKKCCiGW+sAAA08oYUIsDvLr9tvVSffmK042O2uO8swC6yu++ua+yaGyyKCKQw2++eu7/fHVvNSKWCAAu+OwSivrfff/AC7jPEgogsoAkrigkvvPLGPDJOCCKGKVzyS8XRqnssliuPIBIMufcgPMrvgjjhFDAAIljssfLBPIg/7/AOH0U0jBAQLL7YI4L/svdvMMOADIIII7rIYrow67zxQwDxDygQSc0u/2+vOZIZoIDITIQpSzJ2oT6J77r76IbyBCJb6b9vzz7NO8POeW2nXdapIb6z74a/8A19JhhBxASEEcyCCSGCKC88MAAQ8s0MMcb53r5DJ9/rLWWoA/q+mo0MECG4+u+6y6CSCW0A2/2/8AzSSS070wz8+wxfWjhiFqtvku0/8A9uMMEUOOsKYIZb6p64jzzQADygRgCiy8cfPt0mH+sdKa4m2iRbI6yx67o7xyDILZqr4C4bZPPcG10UMMcscd+Nekwa7z776Z79P/AL/DPJDDH7vCOqSiSCCE84AA8g8Aw4soJ1vH7vLBzlJUUg4u6+uCGei+2+y6+CKGaim6mqW++737hVJBjbHDBB/vBtPI4OYueoT/AP8A/wD/AK3zz+yw0htIOGIjEFJCBDCDMABPBAOu43zfZaHMODGLNTgj+dtIMw4FO/3C/og0egAnnvo9+0w1z3+1z871TfWyqvvvglvg/wD9POMOsPMMNFKI54LqKQjBSzCBTjwDjChGdNMEmkXoLSjFmCfFXHW1T/dnB96NOrY9MoaFv776cNstOsXnH8E+v+H3M47ZhxL76pN3+vt/+NOMMNuYTwYKZbjwhygABSACgig2OsFnFF33xA1k3GkUCiuDiET30kymF3kHNkJXX7vMOsMWHHE0FFFMPu/sBRh5Dw65ZzJ/9os8s0M8d+seDw4IApaz7AADTzySgiBRb00nxf7LRihGXWsNP0AY7gRzz6r7pYqsPb4/NIWkEMOMOu8PX28f/wDNBdl828Wi+6qGGainDR/Pfz/XvLTDCSCeyCSCAsAAUokEqCiPC66mC8E4zLH/AAx3PHjBrsrhkvrgsioyy4www4wz4433/wDevOMOOe0tNd4Zr766rJ47548sUF3/AH/jhJDLDOeyOACCA0smOsUUXu2aui6+mi2eLT/rHTrYYAimaeK+6KmCP/5zbDBRxV1xBPvXPX//AP5/zTa2yyjvvvjhvvshrit168wxw8x35w24lrvkhvPEAugEHKwpqhtvkkpjulr7ZwzbfOOJHhGplhLDjny/zyww1773/wCtEvv8vO9Mf/XnEn0qJ77KbZL75oL7Ne8csPf+kMPeMrLb6oITgBbIhzSD5JJ4ZrobKo/Mvc8cklaKJIbb66bb7Jrb/v5+sO++vOsFP9//AH//AO048w4VRYXmOrputgtPCNn4w1y4Y1xx3zZosvvtqioDCtkLlgorAItuvgv29x4w8/RYqlvDHHLsrjjgt/X/AL7MN8sfO+89/wD3/vN9lbnjDD1NjK+y88oG+m+uO6+ay+vbj3HrCSC2Wq2SCyyWCISoHDb+6W6K6HLNLDDBZQ+uucYokIO+GOiAoS//AA051ff34151+8w/dba9798y+e/xugMPMPvpjivJACF8/wBrb6qIJI5TwIDyg67ICywucUlaBSj5MXXUkHUl5JrZzQzziiIpqooaCNdNPP8AtJxJFX/z1595/wCyx3xSQe980gHPjtPPMhhkLr88/wD7zJ4LLIQzywwZa76IBwT58F1ZLor4Ne3GvFPIKbCATDSzhRB555gh/wDvpRDFN1Bptf8A3623z/6/6ywxyUxX08RNPOLHCLEa84w0zy4suuivLDLDCFomvolKBuKkY3jortn+7WSdU4trpDAEEIGMCMFOKhp/9zw0w8/y00941/Yw04YRSQXa9YT44/8AxjhRzwDCFPM1uf8A/Oyug2EMU08I2iOWC0s3alrDGOCeSLPXf/D7q2m84soAAAEOAUc6Ya2/vDD/AP8A/MMMcP8ALPTDPL/jPbxtxxXrHEkMEw4Rd6GyqO+7z2m+uKK0wgI0GWG6OMMmWDjaCqO2CayrzzXOOK44wwAAggQw8I8of2CfjjD/APe4w3eQ/wA9P/8AvfrpDzrjjJ/P/L+kEwa/LHPPT9j3+yuOCAw+8gkCGK6uC2oK6OeqWSyGqyyDDDAKGO+aq+CAMICAUkOqKi+VxjX/ADVTz3c329w5/wC9OONsdscdHGPs+ezwK6+tctdeecu4Zr7qJb4oY5LrZrpZ6q7qp7hxaZRjCicvPiIIrBiBwCIy5KTwxACB4w20Vd33H1X3EFH0FW2kHcOfMUkXlWEu8VXMNFVN2HXW2kk0zTzjDLgAAY646SRTwTz/xAAoEQADAAEDBAMAAgMBAQAAAAAAAREQAiAwITFAUBJBYCJRA2FwBDL/2gAIAQIBAT8APv0SzPMpesy+nlvH/k/yrR8ti9AvEWWLeyfyTGxMfVQ0Xqn5bNHfa/OXEuNZYt7VIREIvLYzR3Yy5eqCaeLh+uWWL07F3w8I1OMcqEahcjcxUuBuYqsxcp4pfCYvObNDbt4Hu/yq6afxidEa1UKxCfWMo2/oTd7DKfMWq/WfkjVGhd4a1TS6sOiH2zr7GnsjX3Rp1VFPl/opYz5JlWxtQ0v+2Vf3ysXfhu2C2QW372OYWy7Huap8F/WxqkzD4pHxQlhohrfTsaXWjU1DRhkdUH2NK1SnU1t/0JmrrOglETCXU1p0elwWnoqQjp8WJMehrVSKdhLoOoXH95e3U3Ogk4Lau/Az5JC2al1F04XibbwTgfQSRNkzq7C74hPJffZ8Z22sXDdjHKLotkJwvtsnhtJ7Ju+PXhnhvvytwT2vuJv+vBuH4s9U92tVCWpC7bFNz8Nk3Nxie1ewWKipi2M+Na8573Pkhd9jKXctXXP2Xe2VlxfMhPSPe9NYkTLWxkJhqmlNLH2MbQnT7H2Ey5sVNLqxSnyEylPki3wbfJ+XXcuFjfkRERMQmfioLQkTEIRYZOgvQ9NjYtmvpGJralG+FjzfSy+C2LDE7ira8XrsdNN2QSmxqiLyv3T03ZGnTuNF3TrshNq8Z7FrVno54S8VeTTSl1EN5tcWWyzgvpNOIT0rHtfY06ZthMtP+hN4Ytv2fL+xlFq64YrtbhpfjLxU9qrEXL1NPifDNs4YiEIQ+OOglMMgho0qbV4K42Jp8DJtkEpmE4ni+4e1cE63Yu/kv018T72r0rJvXHS+m+/VPbC8yzS4v4BcT2LxnjqLDbvQuKJ+OvLbYrSj+d6M0tyM++J+HNk2zM6k2Lxlx0bWPkhOjPvD1PLcFquyE6kIT8L98jonUPSLoMjuJRYhF4dIPYuV4XvZ4TLtXhNwTu6lE7xtifTC9QvPuZlqiWr5dGQeEfeHilZcLFKU+Q+ppxp7YXo7iZvp5sZBoVJsmIPSQ+KJzL1MITbfzjxdk9x1RfUvqTN23hvlLwL4l4rxtv6QuwsUvXM65XG+N9jS6jU41t1Gl7k/58sI8X/RS4p8kfJFRSlWaUuKXZS5jzCE2s/kJMSg1l6oPV07HUQ3GNwrFdjbTE2Uo2d1Rahs06nlrFhRsbNLlNRpTzWfJQ0yujoqhtpHz/0V/Y7ahfJvuJ4vgRERERHTbCExCca2UvK0mREEtnxIQiHprEugtMIhJIWISEIQaEkiZmIJZhCCSQ4T8ROWO7oTfPaL9C/0d3X8ZfHf0dnsvj3FXJc30K8bXaiO983CXQ1LsLDLs7bHl8KfJfaQmyUm1YmZsaEmsIa7ZmPvC7DFh00kOtOpctifuFwwnhrma6Gl4f5icSU3LK9isXE9XPZzZ81YLavGpfwdLhiSepmnDE6PCfAuS5q8Z+w06ZRdMMV+WKK4aE3dqGdS4QzttYu2NQlF4NyvazlhNk65QyZaolPCWEP1kGsL2Swh+gWFxUbwvZLL9Av0i8NeuXo1yvK4qXdfPnpFyUbyuKE3Jz/nFL+fa3L87RvluyoTWHh0VEyrK3ff4G8twsxCw8MQ6xJDbuEPoUo2LUhf/X5P4kW2EIQi2QaTPghKfgZ76+vn/O1+on6V/wDKZ/w5/l3h/on+kf4i+Y/GpfwV43+l/8QANhEAAgIBAwIEBAQFBQADAAAAAQIAEQMSITEEEBMgQVEiMEBQFDJgYSNCUnBxBTNicoFDgJD/2gAIAQMBAT8AguX9LcuX3v68Uov185BhwuMa5K+EwDbsqFzQG8IINH6sTqMZcr2P0Z+zKLIjfm8+DwijhwfcVBmxnpmxC+bEwYvEYj9oU5qYmKZFadYELq6/zi6+rHMPza7V3H2kfmEPPnU0YTvYgyuODFcrf7zW0LE8n6sQ+XF02TIpYEAe5jYnX9x7ibQAkE/c0FuJkFOR9nEI7DtU6fH43Sn/AIXcwBwHJ/LU23nSprOQf8SYfIVIAPlEYUe2HC2Vwq8x1ZHKsN4mHI6OyiwvMrz4sRyEgegvsEZlLAbDse9Gr+lBoiPu1/XYVU5VDcXOtTFoR0XT6EfNuf6Y15Hx3sykRfGxM2J0JW44CZGWdC+JchDXuCJl8IMQAeZkRSFKf+xsLgKa5mDFjYkZSVFbGZ8WJOnVlezcw4xkfSTHRNYVL/8AYOj6YL8WemmbEqNQcN2b0MXpc7KGCTpA2PqUB2NzrRr/AIlb2QZ/puQKcqngrM6BMhrg7jtgxocZYKGPtM6KGtQR7iILNSqgB3qf6eQrZCeAs6hdORhOgTVhyCuTMuFkdhFws1n0gwpROsXCpE8Fmwow3s1H6bKgsieFkq9B7qrNwIqHWoqdX0lFXReeRPAygElDNJ+ay/wFb96+ToNeVSSQABOoTQwFem/kx5QgIKAx6LWB5R+XyLjyOCVUmbgwsx5PzldkYMpoiHqc5N6zCSTZnHYEjgwux9TNbe8s1VxWKsCJkzNkokCHMSACoM1qR+Xsp2jdVqApyp9pho51YuLudShK5VTf4rM6QOmZSVNcGday7LppgT2wtR/NUbIjY21sCfSI2l1PsZny4GNeH/6IvgKCdR44nRopXL8Q4nVolpT2anSaUJDZAAROpbVmczHl0qyngwBCPzx2XQFE6PLjXBk1crusw9ZgVtRB35Ey9Xm1HQw0w5De4mrHput4nUoEAWl99ply420sG+MQdajYQviEMPWfiMmr/dsQ5CHJWY/DybPtHYKxC8CE/K56av8AmD3wKrar5rYRh6MKPkw6Nfx8Rimuw1xtO9DyC473jAbc+h8t+RenyngQgiwfJ0+TMq0lzq0pgfWt/lEy/kV2qVK+QpINxH+IZPRhvDkcMaY8xiTuTfn6Rqy16MKmTGzKw9U+sBH4Zv8At3HPMBVh/Ee9tvKuxEaifkYsfiOFupk6ehaknyCIW0hm0zIbdifIMmRRpDECEk8nzH6pcjqCAdj8r8S+kj1qr+sB+Cvk0fJiQNqv0EZNrojyCwdpZGAE5LLRgvv5LPv+jG2rstXvCFIseXDkCMSVuDJiykDT/mMKJ7rdijUy34YWx9SB58HTNlDEEADm5kxNiNH7q5s9hharngOuMsfKNNbmDMFQqq8+vls/YMCMOhyuByQBHGQ4bf0O0VCwsHvgRX1g86bEVbveoU2sG+9H27viXSGQ3796+G5UII7enkRQdzxHRQAVa54ZoG+xFAfUr2Bozxf2jZGb1+1/jHXAmJdq5jZWZaJiOycQkk32Vyp2gavSAoNxcNEwGjNaR2vti+FruplKHISvHarSonMAcHeZceiqPIn/AMYMxFRkBYbR0V7IWjPWMeBBuQIU/ihZ1GI4224MIoAzQGHwwowi4ywu6jIRAt+s0t7Q4MoAOmOjIaYduVPzzsK+oVb9Z+GfwjkBBA8zCj9i1N7wknmAmq7aj79r9+3iPYNx87vWreFiYCRwZZivQqeKaoDsmRmKg8CN1Dl6U0J1GTXkH7AduFPzlX+Ywmzfz1UtwI+NkAseRceogCOpViD5P9P1MciVYKmNhyKxBWFSPJlYMmOhuBR+SIPtAJEFXcO5JgNTn5uNCx/aZGvYcDsq36x8bKATxALNCHDkAvSa8o5EyABjUONUxAlSS3kU4AiayQSJ1OpwNA+AeRMjqRRmRyzEnyJkdPysRDkdjZYwm/JfyRx96XqdKaQgqNTEkdhAVy4yhTT+8U6SZjysQVHEONvIORGNmJnXQoe9hHKljp47hxVEQZNPFwm/rj0uUYw5qj3r7iDREYEEwEiF2Pr2/wDYSfsg8qCyBOtZtar6KsfcBveYkbI1CZdIbSvA7DCETU//AIIe2FUN6ocIb8ux+QUIUN6H7GJ1JHiD/qPtpmJgmRWPAMz9QcuQmhMhFKJiytiJqa1Y2Vh52jdSzKFYAy19u+DJgTdmOqo64yxIfst8AiOWAo6fIQfAU/vNCjEGN7meCxQsu4Exi7Hb8MNIpviIuoQQSDACTQmREQAXbdgCTQjCtvXthRH1avTiZMJQXVfTZG1Nf7fSKCxoR8WRN2XyUSaEIVdjzGQrV+vdACd+ImPDmBVRTekIIJHt8kfR35A50hfS4HIFciY8/hhqXmWQb7DqGAAIBrgxmLMSYrFWBEfJrNlZtFYqbEOQnkCE3FNETNkGWgpoCEV9JVkQ8n5aY0ItnqPjZd/Q8HyH08ifkJHMDudjZEPPkZ0erFTI+rSPQdwagcKbAowmyT8kfel/NDyfIefPzW8LqMHhk2b28h4Hl1H3/R1fAT5WN19lA+iAJmlvaEEfZrPhhfvoIX+eGm31d+K70av7Af5ftQlfTGigiGga5lFrsRDsR214gmkpv7witxx2GHGMas7c8QoQL5Hv2VF21Grj49PDAj6duV+rx41K62O0yohwhlWt6lbxRgxBQ2O9uZ1OJb14/wAnyx9TZ7gwsT2GZgmgixBlpCoHPawQAfSCh6w1f0x4B+WuN2BI9IuF24EIINRenyMLqMjIaYV207X2XpAQLJsjbbaMKJHZMJZdWoRsDAXD3DMvBn4ljgKbXc1GeK9AXYhzMUKbAfoU/lHy1JHBnTviVhqJuZkKZTZueLkPxaJn+JUJIut4KveHJiONgE7fi8iKgxj4QN5lpjqAq/TsrsvBhzZCN2h/RigFW+WDU8Qg2AIzs5smeI9Ve0s+TURCxPP2kEe0tf6Ia9u6IXYATPhCBSpsHzEERcQJA1bx8bIfl9LiXLk0N6iZMbY3ZT6QRlKmj8sGMN/vgJEORoST3x5NB4uHLgfARp4PEJB4ExBC41cR3pjS7QgHeDZSeyNTgzUdZgQF6hTDpP8AEswAcmGFCFDQC4cLgWamhpRi4XPEwucWVW9p1yg6HHBEHImdg+Sx7D5g3Ffbz9GDV9wxEJJgM29IGqM9m6isVa42k7gQNUtPaNktAgGw7amJu5qPvNRi53Ug1GyszXQnjORRO0NDj5oNG4wB3H6kVtJhANkfZx2HYAniEEcj7xc2b/MII+0o/h479TFyXs4uEbntoOjV5dJq62+SAT9FRq/KBZhvfzUfl3KB4Moj7BU0maTCpErvd45gwI4BOQD9plUqzAiFWHIisfCK+nbSxBatu6ZCEZK2PyeEWVqHkUX2AJIEZWU0RR8lH27ioOROpw6NDDgidOni4nSFSpI8nT/7yX7zrMWjM1DnzZMSN0SMPzAfNswMmmigv3mxgQf1QrXrKMo+0CMfSeC54UzwMv8ASYcTjlZoaaDNBmkzSYuN24E/DZv6DGw5F5UyjKPtNLe00t7TS3tNLTQ00tNPuRAE9TCcNCgbhK+0sD0gykcAQ5GMswkmWe+IpdNxAnTCtyZmy4GCjSSR6zJmDqqgVUVjRHZMh0MnoZjxamq6/eYsWNMo1upWD8MuQ0xqGrgRcmIBRvOnwBnZXFEDiNh6cHcgTKqBqQ2PImJMmHFZ9DF6fEoZtfpsDNDE1HQq1RUUmr3jYzjyBTH6XJqNDaY8ZXIuoEbzrUxOusGiIeyMClAfFLZbBETE+RDQ4hVhyJgxq5YN7bRAWagPWdTidsQ/ap03wVsv+bnVPibKdK9seNWBZjQExpidtIJETp8i5Vses6wspXSu55mFcXiOTUyPgYb0f8Cpjx43cLZEHRjXoOQR8CA0r2Zi0r0zB0I0iZPAx1pxWCJlwqEDqCPcGAEwrXJ+bt2swO3vBkf+ozxMn9ZhZjyxln3ln3m/v3DMPWeJk/rMLueWM1GWZqM1H3mo+8s+/wBNqPv5EyOnBjZXLar3hzE8gGMwJ/L5DlPhqoPELs3JgZhwYSSbMwZkRF/hhmJnU5x4ppFuZ+qOVUrahvPGyjhpkzZMnJ7hlB4juXa4mUqjKDzNbe8GVxxMLsjgg1ZnUZHZ3UttLPcMQK9IGUEHeHMzOCTOrzPrFMa0zUZcVtJueK+rVe8OfITdxs2RuWMDsPWNldhTMTASISSf0MjlYWLEk/MDoU3J1Dzkk8/cR/dMAk0BZjKymmFfqPpRTO3sss5VbUdx5BHQo1H6Yb9vDfTq0mv0APIO3R6BizO3tUx5MNPSVsYKufDXAjCoORMzl3szpGVS5IFhdrmQjJbVRgihTyYVHv33ErULEIIgh5iqW4mkjstHsASYVI7nb4RDC58LEi3Y5EzpT8VfyyPvA7B2ClQdjLPmBqaz2Bqaz5EFnmpnyYmRRy49ex94jAKyn1lV/NGq9omx7IyhWB5PEGsNDVxTTAxxZsdundBVkCdXTBTqDH3j1q2hXB4SswNmacZqjUbDRChARX5pQDbzSGPwxcBYcgTLgbEFs8jtUfhex/Slny2e2t6rUZvASDYiWzgE8mdbQ8NR6L2HMcrsB2P6eBozLlbJRb0H34/Tj9Fr0mdlDBdjCCCQfLRH2k/dBM2TInS4FWdUP9tq3K9kAc6eDGUqSD2HxUDzGUqSD5wLNQggkee+1Gr7Cr3hQjjuMGQrdfQn7oORM/Utaqh+FQJnzeKE/Ydhd7RwpwW9ahx2HobmVlYLvZ7IRYBEyY8VWCBCKPkbmY01tU1Yx/LGWqPoYv5hG5MRtKH4Qbhptu11KtdXHZAwjijAaMwZQ1sygAesyMGyMw9T+iL+YTcBINiFlPIjNYAHb1MDEQt+3eye1n3748zpxx7RnDEnT/8AT4/qQ/dj5gtiBDGWvIwo9ghIuEEfpwMYSfIdwOxBaqjBgtNX9wT/AG5qVXzdBq6ld1wuQDwDHxsnI7KNTAQhUNLvLW7qEAVYq4yEUfQ8TS1XRldiBQ8pjYwMaP7/AKPDvVXDdbnumZggBQGuJlyFsNFK7Js0Nwc1MwsJXtMJREUMQTczZsrWNqmPGPDDBQT6xgp/kox+YihtrozwWurEGByLi42Y0BG6fIi2Rt7zKK6bF/k/TH74DRh6qvyrGzO/J72e1n3lyzNR9zLPv3s3dwux9YmRlNxerZUKgCjMmZnAB9P/AMux+hT+pD/cT18h/tQP7y//xAA+EAABAwEEBQoFAwMEAwEAAAABAAIDEQQSITEQEyBBURQiMDJAQlBSYXEjM2BwgQVTYiRDkTRjcpAVRIKh/9oACAEBAAE/AtALgrE6/B7H60xmP8AvQdlil1l708Wdkmpyd1XImifA5u5Yg6P00fAd7/WcpvOEY/KoAAB0sr3smae7otT3MLCEx4ewOCzCjqG0Ow/4Mt4ZFZivipyTck/NcVMcaK7TNSWaORmAxUdhlc5MYI2Bo+siaAlQDBzzv6aVt+M8VHPHdF44qd0b4iK4qx/JPvoEw1ur2JXRuaWk4qyy824fFTkmJ2aGamHxpPdUVKfWk5pF7poo0DpwxjZyCM8lq4/Km0hkp3XaJubaWOCmjL8QcRkopL7edmNF1vBSsa2dlN+augZeKtTswt6tP+of9bWnqs/5dgnGAeM2oOvNBCcGuFCtTIOrLghAwVvYlMFBRCAmQ1WoHnK1I85QiYPFmJy3q2YTn62tPyx7rcOwNbcFB483NOW9W75340VHFVByP1nP8lyYfht9vo4dYpyOatrayN9l/wCRn30Kba4ndaoTSOs2QKKQSN2XuuNqhLaHZMWtlHWjTXNeKjSeqfZWd1WEcPqZ4rG4eis5rC36OHXTskVb+5sfpprE7ZtXUb/yRddLGjQRcnbTvZpyBB0Rc20Pb2VsgcXDh2m8L13xgKzYaxvA+OvddYXKK0yXwHb+wd9OyRVuFWsVHaf0xpEbzsytvRuCieXSxopvxJL24bDsLYPZHoCXNk/j0YUOFokGzaCWyNITXX2hw0HIqzy36tOfRPlpKG7Ax0F1216XdUqCS+KHPoZH3BVA1FelzHbhzbS7+Q8Sc4Nz6O0AmPDip3QvYLp5w3KK9qm3s+nPWRyRUwwCks7HblyEFM/TedicE1oY26MtkKmrtX5UjA/Bc+znHFi9RkrxFopuKJDc1LIzXMcNyM0fmWsj8ybN8SmyJWXru9TvLGghA1AOnWMrSuglo3oPYe9snC1j1COxah8v3TPgyXdx0BCrZCeBQIcAdhzg0VK1sruqxRzNfhkdMmFpYUdIbJG406qGKm+c5NN5gOh3Ud7KM3KP2ajjsWrqs91gAOkOLHeyssvcPbrRhq38D2Oo6F18mgWqk86Y5164/wDHQPvXebmqS8SopS43XZ9FaPklMxjYejus8o7A7rLcipsGV6K11D2uUc7HjHAouZQgkKz9UjduU4xY9ODXblaImhocBvQayg5qus4KSItdrI/8JszDngpSRMHsK17N+C1sfFPjbLNUKeJ7WdeoUXym6JfmAE0CbFGMkcGoMkl5y5PJwTY7Q3YnwkicinWhjcFyn+KY9sgqFavlflTCsLXcEw3o2nQ4AWj0couZI6M/jYmYXswzTLQBg4UT4mvN9ua3aLThcdwOwHi/dQTRetEnsrOeaWcNEj7oyTXfDc2ijnF0YFa3+BQc7yq86V1G5I2bDNCzytyemyua67J/nRavlA+qvgRB3ohNNStzBMe2QVCLmjMrWR1z2qt4qoORV9oNKoAc/iDgmTMcwGq18fmTJWPwB28OyTisLlGaxMPp2F7i83GfkoXIi1vHonODRUqI6yS/wy6JtOVO9uicKscPRQ/Kb0HKIa9ZZ4jsTsxoOSmxjPRSsvsotSy6KhaiLgvZHHDQ9t5hamCjADpLWHMIMY3Jqw4BXGeUaCLwITRdaBofiMlqpt2CbepzlqpGk6t34V+0b2LWyftlCQ+U6bQ2rPZMN9g9lG2O85rxjVaiJNjDMlaB8ByGNl/+VZ/laLVXmOUjzzJLqD6907BEciMBHUeo5XXrjxjonFYnJk8u5tUJ294UQI4qTm2hh4reov8AUyLqz13HQEKMtBG5ys3Ud/yVUFAQ1z2HjoxU4a6M1zUXym1UwvQvHog8yNYwJk7cjgpjckrGc0yzl7Q4vzXJf5qS+xjGtKu2kd4FC0UNJG0WtB6oqnPle65khZn73L5DxVFkcmKtEYjcLu9WeFkjakrk0QTrM2lWYFQvMrXB2YXJxueQvjx/yCFoiIzotY93VC1R3uQYB2R/yn+ys/yGbTpcbrcSr04xupjw9uHQSuODG5lMYI20VqI+GeDlrGcUHA9DJF3mYFRuvtr0LmNca0QbTsNoFSwbiuRxeZQXopdWcj2J+Y0HJO6h8Aqq7Ijcwm6eansY/rBanyyEK5N+4nxzXHVfuULL0Of4UdoZShFFrI/MpHRujIvBNdrImx7wtw2DDjVrqK7P5gmREOvPOOgirSFZRda6qIDswjBH6hcnj8xWqkH91Ma/XuFcU2E6wtJotXMO+v6j+KlilcK4VCiI1YppfG1+a1TxlItXJ+4hCzfjpsjaTH0TmNdmEIYhuQbNH1cQhI7exdanpomaXUwqohcYAnxtk91qT+4UYL3WeShA0ZPK1Ee9Cz0ODj7q5N+4rk3nUcdyuOeiqkjF52Hsoq6sVz7M/wCW/wBlZ/kN2mnUOdeGBOaa9rsimxhr3Hj0D4rxvVWp4vKnibqiQo2suNw3dCSGovkdg1v5TGXG07C6c1oxtVr5B1o0CHCo6BxaBzskZoW70yQOkvur6BB1d3YX7kEclu0FzRvVfB/RWbmukZ6qcBsrHcc0Y4vIFq4vKqAZDp3YWpp4qdvfGYTXXmgjTQDoWxhry7j4W/5b/ZWf5DdqordKdZxmw0KZKQbkgx6KQVjd7Kz4wt7Y2OSMm6nF7Rz9+QUTSyMA9A9jXihTYo27uxv3IZI70Ef1GU5tTbTEc6hXogKtkUEmsjxz8Hl5kjZB+Va+dCCOKZ1G+3YZ2lzKjMKN4exWd117oz4vJ8t/srP8hu04E5ZrVyfuLUOJF59adHGy5e4V7DO44Ab1q4gMZEx5a8C9VpR6B079zEwureuElDWb+2PQyWYKGx+mvOtLd1PByAQQVqH9W9zVuHYi10TrzcuCHPnDwKeLzfJk9lD8iP27U+RjM0J4yhj0BoRiFqovKomB8l4DmjLReHgrka3FuQzVCNFV+nxXGOed/wBZ2nCF3qmijGj07Uy4XuMmapE7DBWbvjgehn1jsAMEGz0pg0LU+Z6DWjLwVybkjv0SWWN+5f8Aj2pn6fG11XGqwAoPrO0Y6tvFyOw+aTW3GBNnxpIKdG5zi83zQLmbpSg98ZAfkd/QFrTmFKxjer1lGy4yniLk1OzW/wCt3c60sHDZLBevb05jXto5QEi9Gd3RljHblKBcbGM6rKm240aSo343i0lyvSu3UQrv8Qdkmo5rf9bBQc6SV+3FjNK7or7B3k60MHVxKhDq3iMfG3dVNTs0ekZrXSOaHJkrmv1cn4P1S40Y4+isopD76S4NbUoWivVYStbL+0nWg0pcNVHJGxtMUHtOXQSxPe7B2CFlHeKaxjcm+OHIpidmiqgIztTZozv6GydaQqdl6P1CjdejB6CN5MjmnpxIw7Ujy2mHYsD4zaTzA3zFUutDeGmZhfHRMkAaBdV8nIJrAMTiVh9DnJMT8wno22J5xqEJYHYBwUt2mFFZZHHmO/G3K67G5WUtEZqc1fjoecrL8sp9/uq9IOs3adzbUDxW9NvvkdQ5IiYZGqZOHGjsDsXhxV5vFYcdmWA4uZ/hQyNc2m/ZmHwio8Y26MFrGVpXYleWBvv0BIaKlNa6U1JwRgpiwpuIxUkjjJcaVfli6+I4rDMaJrwcxw7I57W0qe3j4lp9G/R7uqVGnp2nHirC5xnaKo7VrPVamWdgbipGRtYeaoBSMaCyWvXQa/jszg1Y7gdBrFIXUwK18fFTap+Idio66sVz0uYCarVQcVq4fMtU3c8oAjfpCkiDsRgVFKSS12ew7qO9lZvkjQ6sktzcFqYuCLXxYtNQmua8YaLV8tvutzfbRNIWgAZlB8sZ5+SBa7I6ZefKI1lhps/OnkKIDmkFWY8wjgdFRWmhkrXGm/sUsDZKu9FZXX4fbtsjrkZKgbdjxzPjsUusLhw7GzNP3IrHTYbOW887ckd8tPDQRXPpKN8oVG8NnUxcFqYuC1MYyrsPe4GjRitXK/rGiZE1mzCbhdGfxokY9r9Y38oTMcrzeKc0smaWnAoq1fK/KHVb7aJoy6jhmEJ2057VJczjdQphJYCUFDjPIdLq3H+ysXWd7KS8W8woX4TnWui01bLG7RLFfxbg5C1UFHN5yE/8ChKwouDWlyayWTnXqBfFiOOLUxwe2oT79Obmr1ojzFQmSseK1WtjHeTrUA8UGC1sZ3oPvWmgyA2OKsXVf79td8WUN7rc0fDyaNJTeUSc4OonG0Nad6sshcCCceiCh5lpc3sbM0/JFPs8T9yP6cK9ZR2GJpqTXwnA7tJaw5tWoi9UI2DdoIDhQpjLuF7Yo3yjS4OilLwKtKEsZ3qo46GxXS/1XJh5yuTFpqHqk/EJ0Ln9Zy3aHRVma9VRDTuRY0tLU3XMwu3gi+RwI1aZDLH1XfhCqCdETN1d6uRMFaIME5qRQIWaHgrOKWiWmWw40Y4qyD4ZPr2yZ9xnqVDHcZ6nPwgkNzRIAr0AF0UCCHw7V+ejl5tqaUexNzTkfHCxnlVxnDsdpqdW3ig0NaAFxVl/uO9diZxkdqm/lAXQAO11AFSogZH6x2W7wAysC19M2miwIBG2PjvvHqhWj5LlEaws6GZ7eUNIXKI1r2LWt6C1D47EexDNOyTvpCZhe2o6wUUzZMMncFaXXYvdRtuxtGlxkfg3D1UcbYxh2x1Z33R1BmsAKDsjuqSoHF8dToc4NFShaJK1pzduT5tHHmrWQNyRMkxoBRqADQAN23ydm40T4G6t3OKszfgtPQEVFEbNHTBMjDRTopYy97CNyPYt6dkj9IvhY/nZO4rUuc4GR9advopHF51bPyU1oY2g2HX6c3Nf1XotZK3rMQIcKjQ57WZlcpi9UyZkj7reid8t/srL8j86JjWZjDkqCmGW3aOc9jEbM0ZFVmZuqE2VrvfoH/Kf7Kz/ACG+D95HLRfARtEYTZ43YfVu5a2eXANomCeHu1TJ2OwOB2TWmGaMlpoeYrO5hZdGeiO61ztbmi5z8GM/KMeodG4HM4o9DJ8p/srN8huiUATBzhzURTGN/wCFFJrB6jaljv4jMITbniiD27iphGRWvOUZJYK7e6iaA1oA8H7y3aHW1jswo5bOe8nmGmBCsz77Md31e+Nkgxz4qGRwdqn57ti83irw8ykuPkbc61cdNaCqdMx8o8oXKGbqlCVxyYUK9BFG5lRu0ZhamPgmta3IbeB3K4zgrjOHiG9btn9Nvc/6wtLKtDxmEx15jXaTFGdy1MQ3KjRkNO6iuR+ULDgq9gOSGXipzQ0UI3aAHE0Cs0OqiA37cszmvoFyhw6zVniNgkDP6jpUEKynmOb5T9IuzQ0Ohidm1chhTIIo8h0DG3rQUbrhQqL4chjOW7YlN4hgVKAbDpKGgzW7ZdaGNNKIWiPfgsCMPpYKDCWYfSLs0Ed/RblZc3n10WjAxn10ySd1uaijuCpz2JJO6zNRxBmJz2h8NxvMqr8b8Ln/AOLGJwI6p6eZ5Zdp9ER/6qX2+kXpuSO/op3UiKs7JbuCuy+ZT15g9dOokaatK1sw6zFyiPeqgjDQYDevMdRVtIzAK15GcZXKI1njsVClfrCGNW7YNStTJ+4tXOP7iGtrzht2nqs91wTnXWkpkjS2qBBy01paacRpc5rcyt1dkkNFSo5L9cNmSQRj1UQddq7fsOtDGmmabaIyaHDwsZqHGeY+KOkY3MrXR8egc4NFSuUfwUcgf79icm5I7+ilbfYQmC6wDQAXvqchsVRDTmEBTLZo3yjZ5OPOVyZnmK1B3SlBkg7+wW2jc4KtoHdqhIe8wjbtPyfyh1R7K0/J/Ka1hY3DcnQubzoj+FHMH4HB2iXC0RnSW620OB3BVks/q1Nc14qNL3tYKlBr5jed1VgMBsPeGCpUUZkdrH/gbPynuq2qkkge3EYqyuJjx8KCsv8AdP8ALwl72sHOXKmeUprmvGHQPdcYXJlnvi+45oQx0pRMOqluHLbIvWmhyATmg4KYap7XBA1APYXJqOZRcGoznguVUzCBDhUeEyNvRkKOurFVgRQq7NDlzmrlHGMql+QODCNE4PNcNxTXh4qNEkTi4PZmjJLk6FWZhbeqNMsJfiDiEJLQzrR1CFpjOeCBacjpkh1neWpnGUi/qhuBWsk3x6b1ASUAZzwag0NFB4VuJ9FZPk+57PUcehvu5Vd6CtASomawmR/4RYw7lKNS4PagQQDtkXmkJr3Rc14w3FCSM95TUfNHdR2pWGoe3MLlHmYVK/WgNaN6Ao0DsLk1HNayUd8oWuXfiuWsI6isto593cUfDK7GGmuzVG6c2hCJgNRtV2DZhm15Cu2huTgVrJO8zwmY0heoRSGMenZpZCKNb1in2V1Ab1SmyujcGSf56CXC1RFHPbcLzHBQyhjbj8CFfZ5lO5joyKqEXYWjoTDEe6mMazIdrfkmp2exYGXpfZH6Gr4TajzWt4lbgPTbfXVPpwVmN6AdMP8AVurww0TRiRnqrMSYsd23acHwu9UegIa7MLUxeVCNg7vgz8k1OzRhe3doDXOOAVks+pbU5/WB59qaPL0AVmw1jOB6aSJsnoeKuTjKRaqQ9Z6ADRQbdoYXx4bkxwcweIOyTU/NUBRssDjiEyKKPqt+sbNi+V/r0PUtH/L6JdkmJ31m40Y4+iswpCPU9DaAbgcMwVWoB+iHZJqf9Z2k0h900XY2D06HC6Qo2lrLp3fRByQT9F9vFB7Tv8BNojC5RDxQli8yq3j9GWrHUji5H6SKGafkjaI3nB6oNydFdxrRWaa8Sw+AXW+VatnkC1MXkCELBkPoyXG0whHP6TGafkqBC8MijNKc3KxPJmCOfbzlmtQ790rk/wDulah26UoCUb67LSWWot3HS6VjDQ6dxUT77a+P/wDuD/j9KBOyVdP6fFRhd4TaMHxvRRNGkqODWNvkq7LFj1gmSMk6p0WT+4310yz3cG4lMtPnCzxGzrY60vbVRxX58O/93/58Xc9jMypJ5KVa2g4phvMadMlobHhmVyiU5UUMxebrhj2bendVGwM3FH9PlUX6eb3POCoAKDwm0NrCfRRm9G0qlahMeYOY8YbihNF5whq+UAx781vTfh2h38tNnprJQc6otaRQtT79nILcWKtQDptB50bdxTrKK83BAywnHFqBDhUaZ3uvCNu9cmj3kq7LG6rAaJk4cbpFD4a7C2MPp4tM9zWYKKNh5xNSp/kuUPyWaYrjZXh+ZyTomOyC1TojfGKY8SCo7McvDfRRsuNu6M1qovIEA0ZDQ5gdnpkgvm8DRyu2nzBGKdwo54omtutA0yR6xvruWtlZg9h91yqMil0qz9Z1OrptALXtlCbI14qDolivt9VZ3uc0h2Y8Mn+fAUfAagDHZvM8w2qdEbPHmKhSwnVupIVC1xibzlc/kVSiexr8wtQ9vVeqWni1RRlgNey94+P1WHDZNniPouTu3SlamX95Rx6vwy1daE+qPZTg0lC2PcaBi1s2+JcpHeYQqggEaDOK0aKrXSjOLBMmjfhv2J21hcoHX4WnTevOpK4hTMhb1HYptbja7EpkwuLVzfuq7KP7wTXVGNOhdix3srN8ntZz+tLX1Yv+SPZhFGHXg3FF7R1ipJhJzGf5TW3GgI4gj0Uetiw1dURO/wBE+LVGNwzqjoJAzRtNQRqyrI+jblNM5MjrjQuRkCodiopr3Mdg7Y3Lk/mcVyeL1XJ4fVNYG5dCMO1nNbtBIQIP1hax8D2KBqxp9OzuiY41IT7OwjKigc7nRu3aC9ozKNqj3VKrI+S8WGm5X3HuaCAUFAKaz/lp+VMScnb1huKtIHNcOtVcPC3ZoZJ1sY7Jyqx3fV0s5weopBKyv1e8Xo3D0VlNYfbszr/cov6n+KuTOzdRRxtjyz0Ohjc6pTY425NVegwIoVqW7iQmwsaa5nwx2aGSwVFjxX6c52sI+rwovh2h7Nxy+k3ZpuWkYlWRmrcOPgR17XEtxC1798RXKB5StfH6rPb13xg3wczXZbhGlxusceATZ5W0Mjeae0WpvVkHdKDg5od9JOzTU+wt3LkTqrkEtVFC2IevgeKr6rD025pLgoOsU6Mxatx44o9ESGipRtBPVCbiASjWaZza4BGz3BXWFayZmYvBMex4wPQyuey65ow3oEOFR0lq+a32UD78fqNBxCc0OYW+isr6sLfL2egcCCrObj3Qu/H0k9N8Gc28OtRcn/3CuTR8StTH67dXNlLnNJU819tLpTLSy6KoTxOyOmSQRj1QbO7GtFq5xiHploBweKHR6poMziT1QhQZDQGAPLhvVqNIh7pvUb7KSDvx4OUUmsH8hnow4jYw46aAZIyxtNCejtQwa7goXUl9HaQrP8+btFpYaCRubVG8SMDvpF+5N8RlF6NwVlulhwFQrjPKNNpa6jXAZJloieM6FVHmU7I3sOIqrKTqsdyl+U/2Vm+QNidt6JwUBvQtQTP9U6mStBeXtY0rkjvOm2dwNb6lddjLkyC+0Oe44rk4bix2i1YBjlmGn0T42PzC+JZzxYuVOJoxibacaPbRG0RBC0xHiEHMdkdBtGNGNquUEddlNFKihTgYpADks8dBcGNLirM00c897tLDqJiw9V2X0i/JN8Sha5k0mGB2TFE7uLk0XquTw8EAGigWeCa42dxY/q7ihQ5aHhzm83MK/MM41E6VlRqyjyh/8VHG2Meqmjcbr2ZhNnaetgdBaHNLTvTddDhS81coj34LXw+ZSnXC60KOojAOY0UBBBUEZjBqFIxsjaFRxNY3iVQcAtVHwog3Aiqa2eLJtQn6yRtDEmRWhoweqWr0Qgr8w1QiLeo/8Kt0VcrrpnVPU7VNGJWU37lZ5bwuO6w+kH5JiqEZWcUJGHf4yaOFCFqWbiQg2neroqqnYNDmFgMhoqsOAVG+UL26Ouzq6mrse2TROrrGdYKKYSj+W8fR78k1G1xvPWQMZycE5jGit5QSaxn1pNCa6yPrKGYSYZO4fRzuqmqioseK/TyTf+tZYA/nNweorRjclwdx+jXZJqrp/T4i1hcd/wBbSRskFHf5V+WzmjsWcU0teKtP0Wck1GwDiv8Axx8yisDGmrjXZJaMygQd/ijGXfHvdPhfGb8J/CitDX4HB30W3bJoEyO/VzkbO3ukhCRzTdk/zsvfcofq6SFkvoeKvTwdYXmqOaOTI/j6JG3O66z3TOo320OaHtoVCTdod2hzi148uicViKhNYm9Dks8uw+q5VHXehRwqD4AKEVB0EhoqUCCKjorQ5zLpCBq0HpNYy/c39nqn2eN/oVS1RfzCbaoz1hdKBacj9A00VbxV9nmWsZxQ27QKxqM1jbocboUQoD67Bxa72Vl+V0LhVhCia9lOB7DaDSJMiYGCoTmugN5vVTSHNvDRaL1xpHFbtmoy7IyWtQRjozB9lY3UJZolbeicFZH9zorT8r8qzGsVOHSWrmz1HBNdfY13aKpzWO6zUbIO48tVLWzeHLlJHXjKFpg81EHsdk4aKeJVAzKM8I7y5SzgVyj+BWuk3RK/aP21/U+iuWg98LVSb5Vyf/ccuTt8xWoiVyMd1Ub5QgnPAWvA3Jk0bsKo6SKtIVmPwyOBUgkoLqMU2da+ijkEg4EbtGsuy3Dv0cVZu/76XGjHHgon6xtdoPBcW9htZxjasgAvRRfCmMe45aMxTatVQY3hA1AOmYkREjNQvvs9egMsQzegQ4VaVI+42q3DYo2taaAmm7LX10BCrJDTcVWoB6Gf5LlZTR9OPSWptZY/UKyml+Ph2yqLI3ZsCNlhOWC5LwlK1NoGUqpa/M1XrWO4Frpx1oVynjGVypnlK5TD6rlEPmXKIeK5RDxWvh4rXw+Za+HzLXw+Zcoh8y5RDxXKIeK5TDxXKYOK5TCuUxeq5TF6rlUPquUw+q5TF6rlMXquUxLlMS5RCuUQ8VyiHiuUQ8VyiHitfD5lrofOtfD5lrofMtfD5lr4fMtfD5lyiLiuUxeq5THwK5S3yOXKP4Fa9+6IrXT/ALSvWnyBUtJ3hamQ9aRCzR76lBkY7qw4aK9Hy0VxYuVQvzNFJLDSjVZpdYym8aQm/DncNxTpY25la+LzKSSO+HsOO9a+LirQ5r7pC3BPjLsnUUAkvvAdkufvpocKscPRWalym/Q2VrnFuRVFJK6Nw8qEkZycpTdnY4I6JHvv3GpgkGDtD5mtNFyg/tlCdu9pCDmuyPQWrrxouaMygWnIp+NoZTdpY9r603aKtGZQLTkdFoFYHKzOrCPTS8tMbhXcoHFhB2ppCwYLUOfi965LCmR6uaja0Vq+SUzGNntsCX4hboCpzJjwKYaxtPojPJ3Y1fOtqWZqGYtF0tK5Q3exyDmuy0kgZlG0QjemyxOycqKT5T0x124UIXPF69juULy8c7MIvke4tZggyZvfCZNzrr80bVECmSMf1SqKiw46LU81HNyKbO3X36blyuH1XKH3qtJ9lFM2T0O1ebx7VXRhwVG+UK6zyhXWeUK6zyhXGeUK5H5QtXH5Fcj8gVyPyBXGeUK4zyhXY/KFdZ5QqM8oVG8AqN4KjPKFRvlCo3yhUbwWHlCo3yhXWeUK6zyhXGeUK5H5QtXH5QtXH5VqovIFqovItVF5Fq4vIFcj8gVxnlCo3yhc3yhfjRVV7G4000X6c74pHpsSx36cQtUWmoF5Xv8AZQjqbzgqN4BYcFu0UuT13HYdG5rr8f5CFob3mkKfVvoW9ZNbaQM05k7hR1ELPFTEJ9mbTmrhokax2JNDxV6Rn82prmvxCfeZOfVUtR7wWpnOcgTbPdNb/QWv+2pQNYy91SE+KNuLHlME7Deu1XKmd5pC18PmVm+dJTJSkiNxCjs7HtDnGqNlZ3SQVZnvdfDjkqVaQrM8MbJXcuU/7ZotbE8UquTQEJkQdHJxCgiY6OuK1TeJ2C0OF0r41n/kxMe2QVbolFYnj0UM72toG1om2iJ2eCwOWibm2hp4oq83zBMLdXLUqKWUMAayoWvl/ZKmfIaOuUooWnF53qp0k0aSmR63nvP4Wri8gU8bRQtahaY6Y1TrTGWOFCmYloWsjaM1ADznHeUY6TFpNKrkrPMUII25JsbAMlOyMYtwd6KOS0Sc2tKKZkrW1MhQsgIxeVQwDmtLgjPA9pBVkaDKfRcyKd19uByKDoTkWq0NjLatcA4KF5fECc9D52xnnNK1z5MIh+UIPO4lBjBk36XIrXYsVmuC+7PsWHDbNDgQtQ3c4hMhuOreTmteKOC1Dh1JF/VDgVrJt8a1jt8Z27Z3EKOibUbkI2NyCqUccwtXF5AmR3HuIyOh8Wr5zX09FfndxVnc9t6jKq9Oco6IxuEt071kKJ0UbswuTDuyEJsMmtc2+o2BjabDr103c020tyfgUbRCO8o+dPeY0gaD1SrFk8pzWOzauTM7riFqp90ydZ3vHOkxWbeeE6zRUJVliY4EuUHNMjOCqU7nAg71GC1l07tilQQmufBzXtq3cUJ4T3lrIvMomASPIyRoQVZWNeXVQhjG7Q5rXijgmtu79LmuD7wbVMbQuccyjQihWop1JSFcm/d//E2JoqTiVcZUEChRoRQiqNngPdXJoPKgAMBotDJHloGSY0MYG/TPFOssLty/8e2uaZZYGd3wCvQSR6xl1AUaBtzjmNPAo9X8KyfLcfXQ5jXPa7eOic1j+s1CGEdwKumNgjFBtbirJk8cCjzbQP5DoKq7H5ArrPKNNmBbOW/Vu8+J0BBC57GOYceBUTbsYHaHfBmvd1ytfUY9pyKrUA9JqgJb/wBW7z9GkBwoQuTMHeNOH11v+5HeTnhoWvahaYifuKesuUTeaq5S/gELUymMasMxfebu+4js9j9O+afb7iO3J0DxuWrdwVCv06J4cXkYfcR+5FgO5agVWpZWtOhc9rcymSRvyP27f0kgraQFJA2nMwIUL77ccx9un5dJna1vQ5tp9+g3FQOLg7sMc/xCx+HDtj5Ym4EoOa4VGhzmtFSmyxuyOlrg6tPr1+XSNeBaHErlDfKU55MzDdWae9ze7Va537RQlr3SNmzZyD10vvyylrTSia+SI0ky4rPLYw4rDiNueDWc4dZQz3uY/rbONDgopNYDhSnQse19abujmlNdWzrJlnY0c7EprAytNFqPPYE+zsc3m4FQSFwLXdYaGC5M8bjj2Pco5BIKj6pdkq0Wvj4pr2OyPQHIqyi89xOg860j0R0PlIPVqtbN+0g6bfHsRYWiQaa6u0muRTm3gQVFfjm1e7SVydrsyhZGeq5Ozc5yAoM9qWFsmOTuKZM+M3JR+UKHEHYsn9z30vke9+rYfcprrS0dWqjma/DI6QoubaZG8diWa6Qxma5QG4PBTXNeKtOw511hcrM3AvOZ2Hc610RLG76JhBtRIyojgmPD23gi5jc3dji+HaHM4/VLskbXKc1yhu9q10AxBNVZ7Q2Zvr0FnZcvaLra1p0LmHWB7fzpe1rxRyEMg6sqbEQ6851TsPEvdcrtq8wV20+dqF/vU2yA4UITmugNWnDgo5WyDDPTFhaJG8dG4qy053mqsVLCHiowcrPKXi67MaZOba2Hijo3FWUA33HOqw4KSK58SP8AwopdY2um0fJcoqapmwebbfdFvxH1bXgnR6mjr2PBZj3CsZoXsUkLJM80x74XXH5bijaYOKbJE7JyonzOvXYxUoTSNcBIM9D3hgxUcsb9+PRWjmyRP+qTlsWaTVzN8Fc9rG1KvWiTIUCFmHfcSmxRsNW6ZOZaGO46ZIGuNQbrldtQ7zSv6v8Aio4i1xc44nTNGXXSMwq5aTHJG+9FiDuXKPNG4LlLPK5QNIL3UpXTnUFNLrObpFWbimuY7I6ZIyZmPClheXEtehHI01Md5a6bdCoYS03ycdFqIJu8FGxoYOaE6GJ3dQZI3J9Qo3ap77+FVaXtcBdNaJrg9oIRaCRXcpIGvxGDlHP3JcCEZyflsqr1qB6qfJK57Q4Ux2rUPhexQ6jfb6oKdZnArUSIghWKzGR945BHwQtBpUbTmh4oVup0tVXaMER3U9kIqZPdsVVTpdGx5qdggHMVQawZNQia01aaemm0R6wCmabzWgKqL9ZaWe6OzaDW7GN6pQAfVLmVQY4FamN2JCaA0UH0pN8lyjHPgR2HX+6mRhuJxd9wcDgUyBzJge6P+gCqMjBmg9jsj9xjbo3cQtbC7vKkIFb6gtIL7u77j0ViFZxsyzat7RROtIB6qa4OFR0TXtdkftoY38FQ8NH6dHi5+za+sxRRgMxGai5krmbEzXFtRuUcoePXZkjLHaxn5THtkFR4RfZWl7H7FmMFcmxquSRuxIQAaKDZtGMzBof/AKhiOxLHdOsZ+Ux4kbUbMkZYdZH+Qo5BI316eauqNFG6/G09DeAIB2KbJwBKimbIPXYfBG81yKrNBnzmpj2SCrdnlJLqRtqhaCDSRtPsXTWzkLk/CRy1ZE7RertSRmM32f4THh7ajZlZq3axqBvAHTK6RtLi1loH9qq1/mYQsxUdARVrh6KyfKI0mgFShaKk0bzRvXKd+rN3igQ4VGm1YBrxuQNWg6JpNW31UbZ+u7FONqzGChmEmBwdsSWdr8Rg5CWWLCRtRxQLXCoOxJDTnxYHgopRI3105ghM1sVQIq+qe6RzDfjooK6oV+xUDSC4kaNX8W/XZ10XFGdxwYxQRubVx0vLw3mjFf1TuAQsxJ571QAUGw4upgv6o72oNtA3tQ1veA2wrNg+Rum04mNu4q60C7TBUbSlMEa2eT+JXqNFoHwHKL5LNFqHy3bgVWoBCqrU0tcJG/lA3mtOxI9jW8//AArM0gOdkDu0umibm5cqb3WkqJshl1l27sVoCSmtdObzur9krrPKOzua9k99oqDpkjEjaf4QfNHg9tRxQtEPEhTvifHQGpUQIiaDocLzHN9FBURUO7QQCKHJaqaP5bqjgtdMM4U500ou6ugTRdaG6DgFftD+oygTLOBznm8dJAIomwxDurAZBV2MCKFamVvUl/CvWlvWZVNkDswQfsEXtGbkHNOR8Ex2KrDeAqNGTR0FSq/ZM/qBPdWvi31TJIM9YrPaGPJbe+5Fm+ez3+4t1wVDosLKzV4I/cQwsO5OspC5EXeihhELab/+x6o4rP7jcptH7i5RLxQtEgOBVnnbOz1HgTq3DRWaQvbQ5j7S2ZxbaGU4o9nrauAVbX5Wr+r4NQM3eaOgi5tpkGxNNdIY3rJskkbnFzSmTRv3/Zw2Z4Wpei1wVlYXTs90e0PLwOarlqP9wBau0fvINnHeB2//AHPxsQ86eQncqp8DH5YFQSPD9U/7NujqqFrq0UkIkyzUEDYsd/gc/NlY/YfG9j9ZH+QuUu3wlcpP7RQ1kkzHFl2iOf3AwIoUAGig2KlVVf8AosvN4q+zzD7jcstPmXKJTmtb6Ky2sPOrP3IssZfN7fcXVOVx2j9Obg8+EyTNZhmUDa3bgE10l668flTSyNdcY1ay1N6zEy0RuwPNPQ3xfudJJKGFo4/YJ0QKdHTuo2cSMBpQqKMRMp2kuaDSuOim1JNcwpUq/aTlGuUObhIynqsxUbE0haAG5lRwhgqcXaac+8tc/XXRkpIo35hNc+B11+Ldx0ayMd5CjsjszsxbIN3SWv8AtFcPs6Y2uzXJWeZy1Dh1ZSmiQdZ1dl8b799qvWryBHlJ6zG0VlrzxsSf6piOx1bX7jRKA6J1Vfdydo3kptkfvcE2zBprfKll1dMKkq/af2wtdI3rxprhIx11Wd9QWHMaJJhHmExzXtq3obZ1G+6b1G+32eOvrzaK5PvkCFd5rtySd1uZUbLjabE8RdRzesEydjsHYOX50Pa/rN/wp3uNCWEEIWmOmRR1k2FLrU+EFl0bskJntwkb+UJoj3lMA8AtdiE20jJ4IK10XnCZJBHXnKGpnc8Dm6PdPbqHh7eqcwmm0vJLTgtc9ppK38qSW60EY1QtHmYQgWu6pUkpDrrBUrXyt67FG9smStfVb7pvUb7faUVkrekurVB3VLihZYxnVaiP+X+U1gbvOw5jHdZq1Mf8kGhvHRmMUKDIKuiqoOAWHALA5hauL9sK6wZMGxI2+wtUbbjAFgc1qGVzPsqrVx8E9j2v1jMeKe++2mrdVMinBqME+CUipfVbh9pbkfl8AqfsIf1CLcjbGnvKO0HPWBRTMlqAcR9xaKiorA+5aAOKP3Ec5tcG0VdFhbetDfRH7iSWZu4LUx15wT7IwtqxWSz6ltTmfuMWsOYV1oyH/Y8XAJzzRMfITgE1wdUfcXloPcRtbDm0p1uZdo0EKxS1lzR+48F4TMu8UfuIb/lWOixWS58R+e4fakV7ZcbwRghObE2GFnVYP+x4lF5QmdXJA1+4uvZ+4FrammsCfI2NlGkKzSnW0rn9xbqoqKxMJnHoj9xDRV0WKExR1OZ+4vIYVyCFMscDDWlf+x5zwFrXcE2V57iBB+4utZ5wmuaT1wppz1WlWN1WuH3FoqKi/TWm48+v3FOgqyj+nZ9xf//EAC4QAQACAgEDAwQCAgIDAQEAAAEAESExQRBRYSAwcUBQYIFwkaGxwfDR4fGAkP/aAAgBAQABPyEY5mkY+Tsfmei3Urs0/uYK0S331At9PEUr7sI0mzBZeJUzLaHASXEG7/mdJ6aIHu2ObEa3E3xzOQCJYPJC7ieo5lj83LAGn7rv6xVg8QrnhjqMdYODKE4LyzRGfmQMcEu2T96lcMkUdGkMBpqf0elDp+41ddfEXQbLk1913TSH/HoIFCHcOKDX5nceVQPHe8bhBaNxl1lz8T5lZlf36ClcoxirEyuzLthj7rA2H3R09YIFfL+U593/AA8ePj335ghcmJS/EAVASkvyyitcM71uyVa/v6SElWvLDg+6cM2Zwmfzee/2Mu08e/QiPMLhvv2+aEZFF7xUp2IaQ+vPq3r8mNwuX8PTSWm9Rho+TUwYbvxDH6RZezZv0ijmZKpt4PEtL6Kvza/J6nxLH4ds6TzMBd+iEqtTykfSM3hLEbIrARiaJgsvahueMuY7+kLO36b4+kFqc+hv7p/tFT/tv33wUR9Oij7/AC6/H+8S4jColdL6e5lYlrcYiC1Yf0QizEIvkxt7B3Fr29iKy7vpf7iH+0dOFuotjh7JEPMO49UZDiG4VnmO+iRfEd9D2TNcsoRz7jq3RBLDX1puY7j6037Ve2GPJ9sDts/EQgNHKfAH0LcYDfLiHx408IND07RxeMj9wGykMDL57QpBLUzVwR7KKY8onhB+ERTycRhStb6qbwIhHMLvh0+Z5D0EyCaAenKQ29FgoeW9uM7JRW5mXn0W0m5gmZYeI9PmU26Ed8k6jKJArnGZ8J9MpnXFdMe/f0eFDOn0XQRqvcNSK/8ADH3L+hyh2I9z6KzTfsEyhR3nJI+Zy9gtyB7kcFj7Rte2Y/hPauZLzfEv6AY0J/de0aDBNoPYhIk4xhgvDmUi2xKtVZRL01PBgUPmO63Zl6nwQfmoTiForKTZBsNfD0upqdwLEfMdycEEd8w8eMGcdr9H7ZU2jlBWZFx2yTS9pHnQT4xg5hu4X1bfodkXEor0xDS1GaXvnpkkLdPc6rfObVDNGVbfQVLNkutt2RxKVL8QVzIuYxthIp3EJ0Kq9dH6gRWoRTeby/JNCzEKxPRUS3BqEbcJr3ehHgeY+VEtiOJjuSn0X3fSfE8/RULLf8E27cpn2nFusUoewMvM/QyufZ8lqXqeMevAWtE0qwQWWfRYy4/U0/MFL49oe/4hTDYbgEUBWkILamip5IibkdLSaXY1ClvpEAaKhq8xuy9A1gXzAH/kmjV7y6YGKeSEpGyl9EvNq5eo8ZRLtXLqu4jFhZi4b79KKjTFqI8941cHUcwDIMXtjx0JGfGsx4FAjMI/MfkEdS42hP8Auw0U5YkWZZ2jEw+RLTsmFFbEp6LAYaiXlVP2gnEkZhaK/mXOozU05lzSHaBWrmyeDN0vecxiuy9dC4UrEgYwfMtxgTbReocZmyB0zZW1Fm0vmLxwuTZ2l2qzuyyl/pS/zHq25QhgmsKl6/Y9gR/4HDA/b3gM8GfQ+wg7LluSmUnLn2bYy7wtfYqEADHrTU7otgdws0mPo1sn+2G/1fYLd5aX1xzqZm06eJ3A7zHoGxMThMpZqA6bB9GPOziLQZMzQdj0Ld9uIDDKLw6WXyRhDNwqjZw34JcQMAVTsvbl462TgF+YEALV2I/+x10fJyQ/5/L9wRtK89AsTuJFs8Oh5Cc5jacZEbSNZDbHQKhEdXcqlwNMD1MYAWG0qz5Zpx4SvRZdswbcnboRmmTtHhq+mf5z1A+Y9rbBHJAwk64ewFJjUO9w9hZmWIOYx7Bls0aO6FVfn6LDv8EIth9g5cIDvOPM7VU3bHz9DtGhMV8wy+mGTAOkY/Ztj3RWHGERIVBQQC0YKsD3iDtBiUf+hgc66DULFFXv2BqBLfVct+gvx9PoeUfqLkFyxNYaOD3j7NFhfEx7PbEv1k/ZK9mgIjFDk4HyzeB7ALhmuv8AMwaCXf0O0a4cRqwDD+po6Mzjv5mY0fZrl9acQDgQiW/6EY3Nwm+KY/dzUfuypvKYef1DandGS4ZjHtEYm8rH0Fwo6u6b7/udtqsFPr4ZkDTIO4vEbbIHt39DqR1dl2Ju9EuVM1ZQ7+zaG2Vmy+pig+hJXe3uDdADMXP3ZVIaD6orTzPDTBZr2BQsJzuBuNKz/tHzLWhv138S33MfQnJC6HeAlek4TL6KxZwI/erl/d1S8CeLh6K9ypXsBO9lplWCavxg9m0N7o0gJBXmZrX2XYmcHMG4neDG5zP1CIAAo/M38EnZ6LCzUoznvxHhPaBlLtFKEuWHQI+vSrKotbVQS5c+zf2fno1/OV8G3Ft9CAMc/MZF+44+3X49pB2DDKTLjKsPESg8etzC0laWP8Q0jBG1v3GeOm/mzeL5Sj0kJ4/o9nHOI7wgTBY5zn2b8S/uO6az/T7gip3SyoOf7IlfkXPq8WRSryvq2fEWY7qgkAcO4nnHM3L2CTR2TegDil397/xunX0pLWXkuKU0iesav4mXnwnfKM+PvXSzhG108e7aF6ank9NnLC5+hwbYOhOtfdlA7ohUuHVmO8sRKO0pVR8zIHlnkEx2/Btnx1jhMlF0cLRK8bW3ru0RALRqguJpeYMVEOceSXZZ6fiWcpqbGePwlEpvVFpEt0ZfY9BuEcq9wA1Gz03eHMd/x0sZWoP6AwHNI8da9CmS5xxjZuziJKlPMK1vMvlYrQJY9MhaumXg+jTBl/XEyHh/zFt/DrYd1NSbE0/cxKIJ0joYb+pqDmHt7LlFCfLpmIsSHd5x6KXJXm5spvqC9vzDh0/G3W3+0f8A6J2mfuH/AJlAM29DLfnhp4cx6mz8o78T0OerZAiozE5yXhfrrB0niXZUjb5hlkypzEhaMsqgNE5hysV72xNYyRHwzo1G7nDGWvqV1z7Ay4nNqjhe8PWfTd8+JXvcv7+4AyvbIdFlfROnpcnmHD8yhsZczMb0sfUMAwcYwFeyy5fv+iV6PoQSuspkf5IFHUTdh4C8TVZe/oDZAxHN9BE77Jumnsw7GpkbmptBf6Ix6AuVVRB5uAfrk2qVNoLLZ1OFu9TC2TWDzKuhZknbEoJxiLpII1EyApuK7MnPJ8y8mCA2baIbZb/HQkWe9HMLxSiqdxjsGGF3JhWwis0j14+M/wAF9YZire59wPHZK2IdEtqvKXug+1tPll/SH+zpBpnRKobXRimjXrv6rG6z60zIvpc05PB/aanoclhicw46tOweuG5zRjNLSD8INQ0XifBQ2i89Lr6sahgHYg1Kw0blJuDNDRlO9DSSyIs5mRB7wqZ3FOBDb4l+zRGtR1ULpf3BEMDHoBjsyvvPrGk7QTBPe+0DrdSxXEGwTT6tiOmEOAi4miaYfZI/0v0Q6Osf3u2J2YHonu295b6Lm47zjSmheJn5OoLYR/bh60H1aktBEeprHpf0ufYRw2xswu6CgWPrNq58HeVxPENHj2LrOpfawq5f3niYPq4ZPW3yE4fQk39LJ/EDO1shwsO4Vg2qnc2s9LiGtzFA25fpj01/UWg7HeUDQein6BJ2xOU19ODREd/9RUe0Kw4BnzIE4SnrVbTxIRNBBUPPsE70yzBT3lzUsx2JjsexzRM/kqhjtMXCFaHQjnrf1Yuj2Cej7XB3ShvH3IZTD0/11P8AoI0swbnPsvJ5TV56CYeUKQBh9Xy7mbaGf8NTFmOx9mMfs6wZePiOx0RzKl7x/LHZNhAz5xhDiHcR/RMT0MJFxWteYAbDYzOZYg54gOIdxM2WCdvYqWp8pj085QSjOvLK2epAYdUxZDvGaYkwDVRr3r1paXJNIR9n5s2viGibFJu6fMwTHxFQ2/Dx9dcuVkVwE/YkiU9bHWVcIk9WQ7RZd8EbCwEJVp7uLuH6ugJMyV68NjpmRR4xiFDkmecBV602W6QGb+3u8N/iGulEyaY1lqPrr8nvpT6c5OuVZOZf3DAI64UjEAlhofQkiSNcj7s6TRXmOwulKLuXZtv13V/UKN4PMKFmPQBaohkH8APsWUaSJa7P1l/ddc0jtgNBFXU1/cu/USz8ENDwyyCDvr/buFB29BbvshdL9FTMR+IxwYGwrPxbeD5m/wAR1TWf7va0mZ9G8hKx6V8inKD9C3uUB2Pn0+Jv6zhq5vJBeV2R4jx6alex5yY8fSn3E3F/R/EeHQ/2+0zznEBdgMOUzCjbLoiWJGp78zvfyQ7w/UAFYlwituz0qf8AGkG3ZBADT1Gd1CBoF7nA7ROpChqdtkNQ/uM0JO5696XXwhO8QWmoDavrYU4g76cLQpAyelqtE54Vr03V20SwTOVdupuVQK8SnC/MT0n2XRH/AE0d/c0KydpnqMJY367+wTkVS3Ndn0XH3AUXv0AWsyl1aJvpmWmlYJoY9FxXcCgo11Syrl251aJlMCnP0AYOcY0fWHJ2MVr4TsRgZUI4jzDdVHHT5ER3DcJFjBLFJe7lx8df8JJrSNEAgKPRyeiSQ9TcBZWdMdinBqNTOnH2raZ+VfaTyv1BJXx/r2PCEIcvLpE6ta1H1AXKQgOEU3iUZz9F16rONJycMfYS2b9gt4ZsxEXqYWg9iDNOKy8Zi5jg1yCfslxg6PHeLG9cDsA6OtT44zE/ARKg/OafepIcEnB3xB2yFmeXfRGsE0QBgEsfYr9ha7ZQVfuv025S0m4les3AF3R360K8E4dXh0RxkvJATz6zR5JvZJlAwWK03U29S/gaBMEfiE3XHgg+h16d8GXZ8sBVQTC2uUjdNdpt9pvpfQt9BqAHBXW0t9AoNs/UpnT6Re8tW+tDh1HsSaywtD9p9pt3ifBl/v117/8A6lkrBW5mXE4hNev5NibPXSfJBpQD8IdwvEVLdew07BmVaTyVz67mOQhXAH0Wn1QVey5l+C3LfacX2ccdkD13ci9R3uxT3SOepji8DTB/cr1/Ep7vY1m9JkwXL+0E3Sme0NiM7j4/l/jouLb6+XxP7p96iVp0JqCk7hO048esBydxV8Z+5XTHcCXLLNQD3i3+XjMr8D2LySsvAjh+nIAcfctufmfgZT50PsskIB/J+EDObk4V+Z3RygnxC9mknmd7DD4/CN04zQi0RLhMMQ/YNjcG7IvRg2i+q2z8GyRN/wBfiWjNXSOAf3FqwZQvJUNvDH6/xpZuCkErrlekj+CEHicxfiR1NXUEuUgdOkwdNn15VhRl24DnXEvkiZ56m5YDDHcMw6mZYgnS6TsS2pp65++b8cO/xJmx119Ab2sftA+Zpm9954mJyYWAcu6T/WErZ4mD2OipbSo3F1R5hQss9DQWtBBQBcp9FRHZlcgfoL+tJ/3/AFHf3bOfqikiLyKdWKx4SFNP6aP+XQdCxQlQYR8CA50H2nyfKfG1TBwJLZmfQZU9jQS4xboYjuEP9jJShUDE2ZO0AbpOrN2mzEVwd4Gv5+0EPZ1s/XJhVmsG0O1n7suJX2z5RWO/pj6+5HNzbehx+Jn0CUXyZMAw/JOyCf3mPpef31be8v7UgitJGa1l2dGhSDMmYaXOlHzNPUhng8T/AFIECx11OjQ2hkgHCWi/plyo21fUvLDDCwfiZ7wmdHTNjDX2zCTb7C2Co9OSskqn1KfYxpLJZs+CBRBWmPGJPNoDSD1+6H/K5x2EudlfpXHyRyffrTbSX18OSO2C/Eo0vmXcoQc2u36I+rLv9K/BFwoKVRogCbsehLFxzEhEGOzrcavszFQ+Omaa7Qs+A8Skf7MaTavQCo3ud+sMkb5jZNvD7Io+UeN9/q9sNfmeKeM4fH0t9LwHoiwRnagj8QeWgFX5Zg2jAculm3QNVEwSlQVSu+oC6m2J2F4mqU8d5rq3YIFyqV8f2ng/tNkfZAKCvq9sNOgzc0n4sfVWW7bPPQ+n2FzA/kl5lurOZwrA4gqqDpBhaOgFJEYKKjq50dpcrBWQSdrEXi26+17ZpmGqIPoC/Mow1Rs3+X+W4px26+mFbyeZfbDhn8II7Lb0yruaKlpb6L6pSbJ/xTN89xj9r/09OopBHOX24SO/sNfdD6naK57scp9Pb99jPaXAgEDlIzHf2A3DnC4gWpO6c8X9IIBNeoI4HJpjt92puV9PQYHeJT0rXeCP+aJhpNOvp2OdAlcn4lomBGmaTQRhVpo7wAGeT9iL4l90w4RVuMdvV+syLKywRvv6alei2EVrHG7JWSZ1iQ6gwCPmZas3b2c0B0h3U+2Q5Dmdp2HpRB5jOIRXeH07oUkX8Sh2Jp01L+xvQQrys7j/ALlX/vAAC30nMEjOIB0KeZTC2EYrq2na0TP83Ed+PboG6mAVwRkM2u8J0AS4KHlFRD4ozW0cd4a2VoSmWNyKdI9GjaEy0HpfkmgKhKszixv2lSyRVqjvpvMatfUK/wDUUA37/EjT7hbAqM1K4skbb6zLNfJCF+Aw4RMGR1MRlaWFNxS30eFsktfaWubfFmVgLhzyb45T3E+CUlyxZM1ncuI85g0nMB1m7y8rP/iOXUoOd5jtZfibL9hNZs+dTN+Tls3OZWBNMSmpivYNj4mABx0aDUJzCz6gzhjecCJ9YfdNT5+5TcMH0AajVouf9TA+X9yiNEoCtJCCzYUBVkqGBUlxxL/iEkwtk7AEwPK2xnK45gw+aWOszURG37Vh3XR6VTncPaM6OjSSkTeIrqvhh4a7kt236imrvEoSkSOIV8f9zTFauzPJIK7EX4u6JtSVWEaO8xoMH1PbLHFv4g/7OhDbAwzQI/br9oUEkqf69j83y6W79K+gpBrGAFUdLRtv+qf/ADJg0D2rlul9QWNpfHQ+oNytw7J2qPxAVNkEdypyY4qD5j8zuorQGzvA7YNwlfhu7pRKyzyjtvxo+qFGZ1q57xCv2O6J+Gbeiksiwj5fu5LLq/sx0PpaGZ4gyjxdkE3D8KZs6Vds7Rg74yYCgo9GlSaYP3Sg5t+/NJQsn7SJR/XMT8JdPsLBYKh2XYbL47vSATSzyflgpCsnZEMLy5uBa3uiP4O6fY4yMOmY/oinyK6Y9y5l9p8EzLN7NgVghtY+hwFtTTr5RZiPsCygdOMkBtZ7Vr6zmATyes9Ozfp9pnj5icGKlN5IDZvxK+/V1Y5SVbMR4Rrl4vj1372YDvEqFYxVPK+jkpmIaHlFaOz7LBck7m3Hb6FW84hkDZNv3sgpMPSrZkCpXt6chYuV9Hfrg10qn5RFn/pGfBdy21+vazlfdz2zZLBuowxeT6gRzMCDLtoTsZNccd3PM2WlS3aU/cKY6STuD4nZf9Twndtl3ZM+DOQEv2zy/undX9w7DDUMxMNK89BdpRfQ+YK6+biWcmTIePUjWeVBvMRwIwxKhr4TEPVVPCZXjPq54Ho17q+UyvgJhFFjLeS4dxCxr1dqTTA7+ddeZlO8N+tKmvJVAkA2XmGUrZ6Fls62ebubQM7SAbpPZF+ON4CUd5zCU+x+hkSxy+rFluczeX9R7b4ssa87m+YHyTvmf+ISvDndP9Q7o/XVGr2Nwi98iebPIv66bBr0BN/2E+afPPMzzf69NJPidB4voM73Ep/9J2H6B4z7glmou4J2DHff1A7fKzSmYaMvwS0tl+wc/MHu01KEyqL3mXdTaO17pGI15gH/ACklhcLXbGXaeJs2NpHdzD/1usB28C30eGDoY0tblejBc731MGNrcJVHpgRXsdLdA198exuyqpMTQrPjTMd9PITMqOgk06xGfHM+gyoTKiu04ZhyMp9AOm3cKS0e0v4ZVraZIL8aR3vDqQLp8RnKZfAOha3lSVpBWkitqmdhfqGbdQrAiUqgFxpDfwQn4WN2h5hCbdMVmhtmSujXMOCSiZZ/o2ClphskN4biMo5oTIpyIlxf4iTYL2g/+GJ1I42hBWg/UXLe8tL8TyE78P8A53p7mLwPZwGaiqvBn/yp/wDM6Z48D/1J/wDA9AE2D/j6N4fRPCngegNaiFQY7JfghFpbLmfoK/76UQEq75x31ooag1sDsZ/bCUHx0pGVWAAO3QScWO+hjp+OQHxA66gTi/M0ISkMkok5GcfDoYUrUB8p3DcMtlxwcFnFpj/wBK15HaO/XzeZbtBmBUT4Zy/kOSYOazKRtdl8Cw2ZLIBaPkQwWe0LZ+ZC2U8MsKP8ywFvxASbm8wDX98CjfV+OGZP+hL8frqQC1EKVZ+YcgZTLk9kqZWoVv8Aslb2SkDcwHcFHds7x+jeKSNvjiAMQww+SU2w8QgZTtKsOIh44NTGVao6GFY9530maDcHYwY8DCDQhlgJK2mFFd9mfKhim7NSwuGJkoRkIOFQKnzGulIod52z7pbl3txNfH4v/YRE6ZcE72I+m/auXeyBwPrA5BK8y+QunBy/4ZfBAGHZEG+PVdOy4RbikevLCCNBlm4DqBqY06YRVCKPIl0zdzXD5MG82BUTBNGnk6RaxY33iot+gKRqacA1fEqHPfmO4L+GGv0ZhSYwerkPMulp1iAkBfMrwRqD5eYPJLOkDThUGcjHoQ7yVM/LcE7F+Z4jAkz1CHRqVl0RrpyUTWGnnrwXI/xt7QOOxg/63CNji3NRxUO0wCHmKXB3H9wuijoGJjlhi4/GeYJ4+Z8bHbLvdl/XDUt3lvrJU03YzxWetngDcQWNRh3TlveKHwxVb683z6hsTGbJf06EW8rfq2PcjrmwXjzSn1205im0/UOOWIanyCj9Fac/waKJpliKKl/m76c3Lfvko5RIs209shQ3ZqX+EV+MV/Uv7xBWMr86c/5I1GaSruysWnzK5NfkvP4//oi2/wBk78sHkltaa/kTA9LlxNcP8h7wjTHbhDCNygRSo7/ID8jyjYCBXGY7NywKD2TMJkifwPX3PT3L71UVbsUVTyvqT76fl8bmj46NLg+yXE6etMr3CIjGUOH6qriuzLidLmx+svZiVCHrg1/BEbnAZLNJ+oaWIaYNLSntNFR0i7T870Ex6cb6agKC3GBas9DXZJcwHcj6QGkf5hDQMRK9ChCyGot25daZXj0i5L29soyrfiXbJ2wocmcwL2uYFR2HoRJufGc+jcJ7RvwOT8q0i1iO50u+IletU/iCShRwT4kTZg1KcOLNP+4jg/cG+hufMuhdwDPFYGVDLNOcd9BZVpHcWB2qV6H7mOs/PqNpgjXHxKHKOpz8S2L0G5cUBClKJMm+Njh6bE8Yy6hEEW9+JduE5CZ8JXU+1SndM29DcFa0Ew6acRXcpWTPJmaCGPH0JD2bWO/Wfbr+5iNLg+w8kIP1a8eI+rYneJSnPQCnL0W95b36m4Gq7DrT79zs72YAgnqpxHRgOSdt+nrf3iZM3ynAHI6G5/enT+ypqvklhjDCaYuHz9R4ATbp/oikUmVhjcFNwHfGzqFMiVXbqbhQ8ic+GEBjPoxHu8DrDgy1NyAd+q7QQ2zE15RluhWinYxx0qa36jQ98xzT+U2eqqOcMT7NCtrypKQN9T2HaMJ8qwQPQDzKiWx3V15lsEiTPQjLvCQmw+J2v6phtcetA0GLVJo4guOIwhy4NxExfFzI0+ZaUh5m3lsm4Z5Cb/Emyq9yO/qGCY5LGbfi4x14zEgZ0nEtpIgvlXeL03lGxf0nYfRHGPTYWDtfD1H5FpFhHtTBI9Ccs/ZNmKl+misCh2e7fov0XiksiV3UB6Ct3nmj0GnkjwduodFANCDHKrb4dCKmlX/EIAfMFu8Qquik29PftZh4eflDqWruaNZHEdyn9H4o0p7QRzkzNn0PQR1azb+V2/i1A6Elwrsp/Lz+SDf8k0m1TVL/ACKExGCCKP2ZqhfmWC5aYlfyGdMdDHdEfQtCzKGWIH9rTS5OP40FzmLbolj4I+i98GgWMzMdcR31NPnKdjnZ6f6tpezPJ9oExqcSv4KbjqAxYUYfOg9K8NN1UxbuTfqMfsGk58cnoHpwL8Y5Hv590k7y8+yqjLqV6FPoaIXiURa5kquqDNeSKo7Qfr0f8R/ZVAPzcxxp/gA636iN20QrpRtP5Mzz6LqcH+Y/twegvtGPTeSCbz1Aqu2cz9EP/BoICWex8yYr7B6pSUEFHcI4KAVezqXlieZjplQy1DWjYwRBQU4gGg463mf3bRW9DnOOo99RVZRvumZYOzrXkCE9kitIVv8Agulf7PS1OxHfX5iffM4H5iGDfHW1XQHNKyK+IDaD0Hw2yuAOzNF/piLlfD7D429ck2ZmPHCf6MiwMysQ0PS7wRX8HRj5hAKcVLdBR51Oj0V4MVg4HVo2+0eb4oVDsj1TrATJQOjvNABQfwVfqxzAHH9EutBL9u/ZJYjswtMldLK2bdplGXCI38girtCbHK6eWFAAqV0THa3Lq+dTlT8RzlOWeFjo7HtHF8sxEib6MlOHr5hwJFehEBhlzUd04gfExnZT9hPyFLATTrK+xiOfRaI9r9Q1hL6Hp8kt39Fvu2kV+wn5ATWP7g5habJD2hNt2j+TH5BROHC/yI7xO6S42LgQZ/kTEsOYLOiVVtt/kbUt/Kz/APdlUFDDH8rPxrzoru8HKk3DvH2K61TUSrbfxK+LdGbfTN01viAlXdAIToOO5Er1EHZXPoYjaiEwzBFHsyn+G1qmeK0kwXqzN/p7YcrlnIg8b+psp+PPq18od9DcJtyxGM18kjjbw/w3um5/nCEiKgF5Y/UX7VuP0sw5NPQcx7nvoN7EytRylP4bY+yokrGcYOt10ry3f/8ABB/+JKNkgumlflp+Mf8ASR4hl1F/pD4t8Mf5EvqYR72Lf8iI8TwxE2T5rK+0YF8MyATzDDb4QzYWULFIyfuYlexhrDVyvbT5CV9rPxbOhHV3/UNDid/v9Tbcq7Iy/qJgu8TcA+YK/TIUCWPo8T3NmDbLe8uVT4VMkrG5YlT3IMa2GyzXeOEm49W+lP3n4l2Wc+3i+SOT4fwFv6tq0zLYE/57jWIel+KtaZ/9KMUVDo+hx6NF1U26m4rc6k7gjwLJi/AuLySF9KaDgCD8Ueye5E5cVG6dUAVlqrlPstkv8PCspPM7K+CAHpAMp7yosv8AxQaDnlidQ/BYZotjMJgMplkXJ/aBMDFBy/E0neQO9OyE38cJpP7QGV+CDIVef7IBU5bogWYozDgDE2khS8tghjj4QSvYiGPOQiwSeTVikopgzz5JrwUP+BFfYOFjVUh1qKqd7uoFlfvcp0y0jfL1uppxZXpH7msV89FwCyEaoinpaW/+KUdf1RowsvzA1j+pb1t79RLfJMFCyVBCLuMtlkUeL4xBXAoTPA4RYpeZVpxLv4P4Dr7DcubSsxwV9dnoX/AfdJzaNdDyzzxH8i0lOi0tYwZf5EZkRSXLXWMmbfyI1ghSPODtBiT/ACLpdhrJ/wDxYx+bH4hzGYa0uAVHOQ/kVVav7ihg9DUT80gz9lP4frpUaW1Jv+aH4geUPhC3AWxqzC2++/wwzBnf1lvGa0msUc/bK/8AwsfyGfh5/JNBOLMdn8QDZ+cH4aowcLR8y2MvNwQeEv8AIlJWVjOa2/Ox+FK+GUniOR+tT+KPBPOwKWjvFv8A/o78rGhY2GHeA2fR1/GQ2ZZVV8zRdRFm6f5FrKzCAbp/PR6r/BGkAoOPq+PV2+m59nj74fQH3A9n/8QAKRABAAICAwACAwEAAwADAQEAAQARECEgMUEwUWFxgZFAobHB0fHh8P/aAAgBAQABPxBNVECdz19M39tIOubhc3jyE8zfEZeWXx6l5c3wuXj64K+S/uXG55PrhcEuDCDkwYrgfBRwYc25bLuEvBL4PD6wRpWAdrAm1/SXIVhAlUT7GLi/xLx9ZMUvkueTcQIEEQTY+5LbTwuEQ2Ur8fAv5wvExeDBB4GbzbjqddxhLIcLayOuHk8l4u/uMa46+NeAKvZ3w0+ekNzDHTXkeHSVK+C8MvF53i8sUw4vrm4cOLx5HkMauHBwTcLly5e8DU6JfAwRc3KrN58x9T3gQd4tm5eb4/3NzqLdTXC5uJDV7R4SpsKghO8E9yMvN0kuXVq8gtR0xghvHVgN/hh6sIXGEXUL6Z6nkIluow2lCzAzWN3PY4vH7nkHBonsvN9QjN13LefUfIPG+BwtwY8xvEfYm1D6lvBURXqIw2FT7qU603Ck1dUg+UOXgxnvO5ebxZGXLi1wXWGXLawsvjeHvHk3c9w8L1PcEXFz8SuBBrFwwM38N5sgw421w8hDl7wHIy5c6yrp6QtfqXvGpcFl5vhcrMvawDolh+yMObJpQu4buIfYNfZlW4F6I3dMbgeClr6Y3b9u/U/oy8uLwyoRwGHOsHHqGRx9MOWudcnTNz/E8ZYP2wfkTiOlkJN6lCO2PB4PG4y5cMMupqLnvJGXwVw9YcDi83gZfG5bgvHuVxcGDByMuWT+wyNS2PwsvUMecrxeFzceN6xZK+diIYzQfg25GXh1+EQs2ImwVsS5p7fhBS1j9JAid7lVVyh1NREdtXUSLQk3vutkoaKkD1F1SndS+W6nufJeL2TzFxcXuEMe4LyS59Sp5L1PP7EwxzfIzqAuj0ylk7f3P3nE7l5cW8feF41U1yvhc7l7xuM94DPI8fZe5bLl9cP3Lly5fG5vF7yS+HuLJfWDPseTLgxwS55LITVS5cuMvg0S83wsuOr+kGCj9Wdw4WRwRxp8iOmD/J0dXR3b+3pG7DyJaQhq0+X6j3Sl0rGBDUJV3OoE+rQJ2/8AYmGSuxlADwCPcvN7g959jxLJeHrJOt4uHXDaYvF8rm8XgOBj6lR6vxDVkp+srT+Zb8oH5ip0TzNxxfO+F4WOHF4IcLxvPuOqji49cmpebgwcGLwdcLl5v8c1hWXjt/nBwy8XL5tQ39zQ/MBgv4fMXN3HoSKT7IdSyqfi8frBqNarvh0kMDPcbxZi7cjcuoT2GNR4+VLwMuORl5Mey8XwuGPMosen8x/7S9P3PqQYsi8rf2EQETLmqdM39RcL3NUq6lgtWYuXHfwXx9ly5eLuNXgZ9RcXjyXhcmKwYMEvHeLxcITUvHeBj1LxsMEdQ6t43LlKyj7mq3Gvgu8OdYWey+Xc6XsBh/fmXNxlwJbwWbw74st4E8uaMexZc1LqEueYsxcXUHNZ1i8d48hm+pe4S4VPeSTwIXjUI59hNQ/MJX9zUgJ9XIAPvNLSgT+7XGh/7Ag7GoXDNQ/LTomgDzcpW69qub9vs9IxmwnaqieQcZfcIscOHFcvZqKTcLeSy8qxhjrBi8XrDGDhgzvF5GDeLuXgmpcvJjrPUM3CuFzzgzUGXLi04MOLjeouLjPyEoH2bf4ceGXFmfqMYTvFy8XyZdPGmeTUuaxrDAly7hi8XrNwhDPk9gw9wd6lVBnuCXk4XCewq7lO2esSLl92JZ0RWmC7mVZ6Nxw4QA6bJQlXVBa7ITlBA6uU+qQxKqldPvTE/ZgJ2YYscXLYY3jqeS6xeFg2wjEqN+8O0gL3Lrr2PW/Mom48LxeFhG55LiwjzUlpHvF+QDsyQwYO8C3LzZLmpcuWwcXL5XKZsnfPedS5cWeQ3GeTWBdj0Kly9r/iliGLhwuV7Ll73FIcDgwqajjTKZc+tS5eGsHC5rh5N5J04OJGGTaq2T9ys44qVVw0v15zvF5qey6SJUrKgsjIGxxVVaZQS4kM0PnqMcM0bYt+xDPv/wCU0NA3ESncv2y53uVtVSwxn+HO/gsbwNMt1lqzyNmGXBl5vCl9ykIu0w9wdkb4F56eGn0xlrdA0h1UzX5IlYuMrWL2RX0gtJp65b22GsBqH0n7EViIU0IH+kIYiLsaRxYpi55CoVLx0egBD6YBMHWNY8x1m6YgTV2MAPa9ILqbl4J7LlS+DLy5tnuNzcanmWBjPJ6fSkTc+s/mey/xCM9iYJWNTRPSd4eRLCU9JUvXHeDcFHTCXLgy95MajiiPR+euBeD8y8EPA0InolSRCiosFNBa95MMORitwd4G36iairtgwJBF7II1Sm2rDs9YF8EXLF1hBSmYDO2djKqxOx24u8AGIVrSJ1h9l+zQf9lCmyIaslXyuxKWRCIp57HCwfkQKnUYI3QxiUWgIPWX6E7m9ZEas/VwO+kjLuDSQHgX/wBqogWXuEj1qx3vHb+lgphtfsQX6IWdLYl0433NDgQ2CndxRP7WaNMGkqD6Yk78Lx6qHFfLaCeqdnVVC+yMdQ0fbQfRmaHQEx7D7qINP+0ItCfhnWAfjSMqmUEJWTm/2aqAlu/f2eQI9YNYHeFh1PZ1CDHJh5i8sGMuEYGA+WV+mK66EGJw+uHnFbYYD7aghDR9S9YM3LijrI4etdlKi5YehnrBLmoQOpAtI/5Kney/snTPcEeCpUU42z/EX3E8fI/vgUh2b9qRULqXL1i8/UMGDzDKu7onaX5O39RbXhmnsnUvVW59ydkN3jv8jK7RKRix6CLNy1NvxDU6iGSghISehr9Qw7S9T6v84AhSVbb79EuUUpSyV1PUVGohj7U/dTawTT2RTLc1aQrV/oYPfvL2xN6uSBDuirqpZsC/coINt7JtqymsekT5O5l9vGLwLuoJCwIxtHsMK+8J7ogY/tNH+SoJBI6af2xIHeLdy8CxbbF7Da3HTWoBsd2dLLdOqx4S1HEiXg4NzzBJUYAiP9RF9zn8gWzYPBouBdidKKDBVhLNpP1Klpe3L6teZZf9qy8/yYIGtPCJX6TUK/c06Q6sTFLeu6h2gnZ2Mqwv9gSNkXSbEvUp1qMLuC3N6BCbZ91K9ym7Z5GlvuUx3RX0gehT6i/9IwHZqCumYg9T1hvqKDtr9x8jz0zfEjVctk7II/sovNOSUkCyN57lzuXKWK6laPoQgvELKEXPDlcGLr6IDoDJ7blg1cOs3vFyiARcsRoCr8rLLZuELx5gmfMfuo+lLV/Me56jFYcO18lXeQqBeklQJWPeJw1glrLKPSUPeN/3J+xv/WLwuXLa4XtMf25AVKZ3YDlQi8b9kCgdBqWV0Itt6bJcOoxnsPfZZCH7Y3xV/iG1ez6n/jyPToRwt1q5cY+VHSWqr8rWaLJVUmqZrVAtCT0lvcXf9shYx3MGYY7to/uATFynVk9sn0MPvnqAKdA/9w2RuCX4VQifbHuPRejwICgCG01kC31FTXtL6RE78fUsQB6fslBgfeNYTsIT9biIyLkrWgFB/wC4g/UoCztVXpnqdRDbqU1BL9NzX11TLPwRXaeyOrc3w+y5WzAkgbftzd2tJqrZR/IH1tw+6hbp6rQlUJs8Ribb/IiWj/0lPBi5rfflqWDPPsM0U37DUrC3NtNQWwX8twO0jVDsCa9RgW5e5b2FjaISIk2lk1BFSexJ+8SRW0ev3NSB29M2jhC0inmpfVfcNFZ3n6ly6vH1i5ZjXU/FS7J9TcZJ2eWf5Li5B0mvN7+iK1D2Hc95D+pg58lblRI8m6r+nrFJL7ftSrTf/QzWaOI+5uMMBUIgC9v69hvlHX741CpRjcqWiJHv6U1Aqan5wsIE6YdTUdJQZThRd5JePYhVVv5cBdAiZq1lAUl1ByZvZmsFymdOF/Ego/qMX+FDL+f/AFlxcveWO/JeWMt1i8Ny5bm+D3ds29sNdRp7TXti3/J7g7GyESVoWT3fpBzaPHcG7+uJR0H9xJCFdOyXF1co6YEYtaxhZKpe27gWbZX0ENL0GNwahbW7fFwSrvzGNDhYKTTkp+Fz+sERH/YIoCr4vkpq4aEiE0e32iDL2eM6JJ4J9uk3pzDvUJRSdfzNXPSUenq7oZS19CMACO/Ys0BQQKvX+oQBG2JdBP5gf1CKu9y1e3sdhGgSJSTjZAv3CapN/YzrwLb+4o16rpIF/wB6V2qlEAfUG7dOzZAb8TA6k/aT6b9olSdop1KmqshLwawIMaApifbLzfBx7Pe5eWXlnZFVkq5d4GnpcGKBHZNwXguaHS/1Ln0YZcZ0zoKbUYb+1Lgmpyy3AHqStRNKAJ7CeSjJHvT5Btq7gPQrt/a8HZguBiuHkGLBe/qbAL7gBYe6l8rmMbnDRcSmx8C1hTAFBNEQpB4dsVL1x9hw3kmsqv6pYH1AAv2SmKIb+WBDafTAncZ7hwu+bvKT8ZYz2LLjPZcvNzyXhblU3L3KuuhUbQGyGktY8iw7C+oyMb5Um0KhxNZRsnuv7UdsrGjLJ1RufkrfuOqY7/eLGoszTumd41cAgREJ5GpSyyEIUO5d25GnTLXvG5eKolsNE6gVKwlbQ0S8J7CUZ9xXDeCLfIWjuF3DOpZVVAZhXSQln9fkG+aPqBR1Cbwyi7jHdS4o5aqXv8/8T7wJPajNEcILYNQudV+pfLt1ELk0LxZ9yzG8ldeJUteWxeyPOC7JSNPtan1c+4Rd4JeBraVxQRX3tBLS/QRSIwh1gwQhNw647ncPpiUajV/mCNGL9rqUXui7gE19SGdrWnDwe8fceu5vDfJlYc+Y6zrLyEMIBuIKddgfwxC7UwcdRn3L5E81UnspY/TOii6RSyrY5Jvh5Ny6xWHPs6nhwesXuLGuAz2BjrBd4eDKwZNQ8mp+D5Hq9FxrH4lal1XQ/SLu2MvsFkLdVkrGsfcqOlHp7hhtSfqVHBLlk6lmA6wXxNtK2YEtv1lrnX9iWBDG53cMd/i3Boj8zcr9dH6QH9F+5v6hWKM3LiCrwObc3qXLhgYY9miD0wukAglSrWdeKQIV5qFam2yoie8L3l6+O+dZ1G8Oawdw8rOoKWhaCmiArLDhUd8qhHTXj3Hyn2Xk7Nh0q2AqXizPkJeDy8GunO8f3gcWdQzePqJlhBw+krB1lnmal1Paly+nPTNcfUHcv8Tc2Q74eYGslS4l4vUJe8E9CFP0RtilW2+ypQXul3w3wPGlqRAWmKZqD9vuKneoC23EwUNH+I/ZLftm5eoY1m4TyJYcdYH7z4cN4M+y4/LgK+GTdjNHHUN/mG8aGiagG/hHas94NZc+53h4MXi4vLLyOCey2d1DgZZWKwZMCDU1Ogz9ciDAhc3PJ5L3yIwcecHhf4xRL1jUIQjNs6ONH3PTh9qIP6z8YbgRv6jjfEhLqdLsiw+5utnvI7jXZABINeiaeVTVS5rVXN8L3GDCtXAlnensKaGt7jLfZgyj1kvfG7cmawZt+vgK+D3Bi94xfZRCJJLwNR7pq42oBDyQdTX0eiPBnuU4OHDHiZuOGDn2azuN7l5vLjuEv43Fx8lzyXPMkHBLI/DXD3DwI4WXjqGL3Vwx1G3lqXG+4z+EqNOgqM8h9ewY1HdxASvSgFIsTvKz2GfrUGmquNi6gEP+XpdkoUd9b+xNiHZeCe5Gp2AfaQEIWip3re39suewzVYCXlr2y4fmGSfWfMEquBglZ6ZefZZL4XOuHib7mj/cNo/E0Axb9s73Hpy8CGHLjrCXKjl4ONR+C6y/8K8XPZU1i8E3j3JPeJ1h6m8kcVTN7lSsuWOGHsI93lx7npl4Nynms41kYRZqeikeIbRs16GN8TbfVOqz9SuB3cSv94T+98NkIGXTtAz0GgMvOoYr3jRFWO01oRHQfawd3k+oSzFYvB3PvNy4RzWDhU64VRzIYK5EthfHTca35mt/xFWLwZeFxcr67iJrgxwyod4cvG4xx5j3G4uDJPcOXjTmnFcLj5GbwYv4DFYqW4J7N7tjwPI3c3OpcvCYZrlZxTFE31A8wt5rRi0NpUaT4/yne4Y3nU+tShtA/MeurBK79AS0Ort4Td7yz3N0QJ0JasEYYvHePc3i5eoZ8jZCMJcHeTOuAQlYM17wMDbN3G0HVwN3Wby4WXGUY/QIuHAi/RDLO9Z2S1qp7vDfGsHG9S+FcDN8zFy5cWEvgexTH3PIYHBg4PsHzgXyOFx4GLj3CeTqOFhHD+zuMIKermelnm5dSoMYjrPuelH8MI6lFzaY7a9qdrOes3GLGAhCWT6JWhh77FrorNsuacXHual4Kl8PYTWb4EJcrDgwew/cHF1LyQ+Ahg74VZOiR7Y0qBKUqihDd0631KNmz7l8NRYAd6HB+UR/3AyF33ipffdBm3yb4nQaZuNYUjUO9i5TPeV8O44dWxcKdgj7K4Ak0qimk6S4ZvJhx1LnuO4+URKnRKaZVywz3DuVm4LCGeoUQqVgYwly5rJ1jphqPcUTF48zXO8jVy3BjvUQ6yD9QuqCZQPZavuW5IFEN4g+xc2D15GxtP6nigfqaji8Vgsgy5ceXmCpUrXwGPcsueSuDiuHXHz4LnuRjwN/jUVwAktVD1gY+tVCTX9DqASxraM2keiJTWGrwpLm5d1RHXi3caslHcbu9OK3T24z0oBOzDCDTNKKBI6D6YnaLSEFS7R3NEj49LAjjUq4J4sG7f8AYJdQ87J04VB8jk02l0u9JKd4Ykat2Y2rvRgRKjB9x2Dc09bI69xX00xsKuy8Uupat5CNZQSxI9CU/dd/Yt3BpD4Vq4aWO0jyFPCsYu4XqmjGydWcPIXBoqoNysewr4HgK0Ma0mx6YVCs9OVm+BcHF46nc9rDUoqdXw6lVqoTuXB9QyMJ9w1TFXc7dkorBCaubo494/mCVWEuXPMpvvDy1c3DFdXnVy4XvHsc+wm6hKL4eytYfEm4ce4cT84OoPraol9n1v8Acua/Z2/iKQantNr+mYn2htZ364pB9Y9xjCwREArWtbm3admXRpqMKZ9VqbIwdlS2l56ilS7P1EI+8px7/ZTK5b/rSE6b9exJUoo3j6geoqjLD0fag6nJBv8AG7QcfguFIqRI1qvQ0LKuj1T2BupvWPzRDY3akNpuIW94HsUpfuOl47dpO9b36MZ3voxr+pHqDZuqCCvB3UAhHwliAojCaIgNhoCW0qIFGgVYZSzaArtBuNbdwhUIAvoPsdLSpL7UdDq8F4OwgWy4EsgSvpPME7gZophiYU/Ylp99ov8A7geo48y1NTr3OuFcG59xqXl7g3dUo/axz2/fwHWsPeaxeKMM1WP5K6hNy9dcTC7n3hIT3k+Qx5wbikixblZOBnYfwTWjSPzErFcL+s2z3JdYILE/wldkhvZ1F3tDfpV9wsRLGu4SODoiVWPFvNW6isrqiiH0WQAACjKqR6l5aSsBddkWWt/MGyd/RLcG46RYm5ssf7j6r93GdJv7wAMVqWIIuvqUX6uEW65tY8wCI6RJcptT7IFV+JoBen0lF+W0VNwtXZcvZbQbCVHUQfxBCPRUGVGr2E1PqgLGbPg39YKtPaKOx9pi4wrrCA9cgv8AjCe0drlTo6uO1FLLbjrIkRx9RcOezK1aRSf0A9qB2wlGXfo1GBYJv2yv6gt9rLtgut73DBh2L5HPvtmpqnYpI1UJJLw6IhS5hw1N1AXnsk1eUA8g9wx+8WzvvJxuBLxojthheItO6KWeLKaDwoMXubvubJqVU7MeHM3ws4XLllZceS5WAyS8DjZvHTB9jHl3tQCCrojYQDqbJ0rkv6jkc1n/ALCF6Qcvbv3B3GW4swGdcbj0/meP5isFdQe4hGfrUTc0qYbgSUAKBjThwuuDePZTyqGKwwhLxWep20flFc3lkWHSz+QdlMubr91uKtgQ6NydLGWfih7YfR8wNJUo/wC4QLYX8nnQRUGNxBqeQoRX0wPSS6fUE2jRXgwooF9DAInxIDv/ADloUqwQKbuiIrhVYDSNiAV+p2v/AJHYvR/EQyaCKagtBUq0QwDPbEF19BFGr09kFgn6NDCYENrOpthpcRD+lSrRSi7XLhUEmqvYxrBwM6qUZqXx9iZ1hlmb/l24JJew/LN2wJ7uEYYuOTH1GVwJ/ePvEl5HHs1g2ULRcaiCbYTqwsctY3UQFWFMCGnonatjL0ddT8MNOHDPcM8J2JvjTdg241gxrDjW8dYowM2UYWmt2z3/ADKsXHziuHLFhPZceouHHsMvPzhqXn3PcYam5bPqeTd5uf2OAhL19TZtZsHONuKxv7ydQDRHlbUNbxdS+ndwKNDbCj0JY46EwpX2i7lNk0nUUW9lPQTxqEu6x5i2XwZuXrLN43WNErOsEqKO1YLlPSR2rCFJVzrWLh3DrLN4q8EqaxWKlfSHAalncQNqBK6n4iGCofOpTVNjBhK1kQFejbGrit9yMVmhUBT5lUubxsh3AJSA2so220/DOyX/AJLOv82asWfsjoce8Cr3ceYaMIaR9AcLSHU9h8F4GyKv3StT87n8NYYvJ4tZ8cAhG55x6+BON/BcvH1moXgnkuPDziQcXKxcISyF4T2v2mvI5fUbTZGV1j/WGcVs/ZlRBt8jovtP/iN977e1jbtZReC5uUXLqEWeyuI3jc2k8xTF4YW7Q7LDTKb+0SulAAEtbuVDZEC6lTeazqHuLY/qahGA7t2AqtosYhWghZMRDUUaTpNS+AtuWkaKN1bAabH0WwMw3aJ0XUYIysDVlWJTKgb1NQ2qogv1GId6IhCEsuXHD6IFNROqOnA4TB5P+Q06v5LWXxOxla1yPcId4vCcO+Vyy5s/ubrcBZ+spzuMWG8vee57N1Hrgw7nk6yGL1GsXrLkcnC8vF7x5jUMdQyVcYYMCGCdYQbGGbXWejC+JsCuoj9ICx33BVXnO0qsGHNMTO6wZ9zURTL3aug6CG8UG37Z7PZU3Q/TcGlP1uVzV731LonREWB2V/TbD2AfdoEndtEqkMkcHmKvoS1b7GCXK6veQlweS0fMGALIyzoe4o6nA9IHt7R+x9tTKrvuGF6i3hlaD7Q/1MH4S/hup7ebxrhbNYLnmPcXNCM75sobqK2VwsA9ZoLv9QntGjSFHmz3Lg4Xhyy8VwuPC+JgeN43xv4rzvgMvJi4fULwRneOzkcK6xeBlcTDvCQa0ofqdy+mwguNLQ2w8bMABu7lVO56SiUGhiaSwnqLBHvWbhWh3TUSMnWilSsJtPSliFT9zDWk3w2t5QlXDUbWWiJvTFdNNfpg0PW1Nk7zCo1efzcIp1u3GAse47ESkAlpbudr/DUqoZLrlDNJXTm8XrgYtnXA9h28NnuLwcrxcrW5+jgq0teRaUPf+4RQ8ogG/rP3iiinWmn8TXB6yzeXJHXBxXCo5eHkXF49hc946+e36l8Pqd8DBCE8vG7naBUZZl5XHBwDrhrheOk3Bl0B+iDL3GAfwRGK107/AEmom8HUb6XEdtH7gj6PjipK7CUVrP2kFAG3GWgujtJ/lsU1v9epYP1oTzFwZf5gF1xGErcK5byVXPoZbbSBoLdwl4WLBSddD8xa6JKjWz2Nq4XyuXyGdSoy5c0Sp5PDcIy5eNwxq53NzqewhKZcMbvuW/Gs/QbRUQmvSKeStqEZTskBbjrDjfhFR7w+T2OGe/FeV4GGHC3Di83yuBHO/geIwcjLwd5b1i+5cJ7jzgcbcez7npCG+NORDqVgpbX8QPMV/vBpjbvvaNR4/wBChNH/AAZQRK7GH6/sQFKp9VFdGpa4vBqMc+dT6m3uOL1cFBshNqWVkxcHLDjWO57i7zeKnufZeDO51DBgyVi8msf2NJ23fJT9ocAoj+SXXcJqWgG4fWu3HhcNyhZuEizVrqI4FGmWxcUOfZEEbHC46x7wsuVri5OBPJ7glfBc9zccsOdajm94MEGHEMvJNcDGiawS8Dd4Zdzxw8Ge9Zp2Jk+5QIR4sIS8Xiow+EJTltrgPCpUvmR5bnuNZuXxMHG8bxWCXKKnh+puZvS+y0JLZaOD+QioYzcYyt3Ca2qscBdUTeU236hpGPJdi29jwn4BVmoYS+FdNKbOBaM7sivfspVv9hlrhuPWSOT9TccdcDrmZ3gl7hwcmBwYs4VuNcXvhe83CpWA3PZrKy5XAxcuWYtPusbHzIy864e4L4vefCa1m4Rhkhued8vJc1z8l474ufIYIY1PZpJ0QyPC/eGifiJLwUdbjqGHgsYo/wBBAe+onsCLolvwx3T9l4rdqrXksqey/U3u8WEefDWeT8xMo27xZi++lnce+Fg9EbyV/NJ0ZVEo2OkuEcBcv9y0Rrn+GsZSl9l8NRhvjeV4VK6y/TL4XkhLqGTPXH3XDeKx6TzjXAiZOBsQKuBcacErFMqsfzAxJWKshg4jyOG87+DxyZM+Qm4Xitx4VCPkMdT6lwqXLg41LLKszuK/CVlx7HPYjT/UY762zS/zkOz0M6foR7zsjZj3UWT+Yi2g/wCYvyLYwAVXctHrbAuVv2R1DfbCwB/yRCbCxjPIthR/YhaFNlQKwGmlgIo5c31aY96EStv6Q80ze83jVwXV6EV/nNs/VegLn7Fgh+G8HYRc01CClUqKAF4lEU0kqDUvZgygQrwq2fY94Ze4v36PZYV5bReIQguGpK7BBzI0dSKV6PTFrBvCrBDj0YOnBwHiY+uDCOaJWfJtR9wB/KD/AHIyuJL1LYQ0xxXK5ePvHuHkrwMXnU843PYAB9oRFovsKggnZKJ/cDmncPD1lr9OWbWA7jqbnuDJNVgpdQhPuEKwqddXHVLhb0xqJHyEc+ztJQz8awCsuiXSI0i2cX9pZVw9Gn6hWoPJc0LFftl62DLkd+agEdDowwWVL1cXqyA7+6TuBYCb/ikBothKUQaa0xPcJT/wGORH+rInBwNfuJq7v/whdg0C4FDMbI9QHb0y97ufaOmq3Bf/AFzVRFIsYoQNO0g8gu+vPrGiXd/XphtF374TMJdxjeo7QfB9y5FL/ASz0dQuXTP+yOlfYlylem6qMal0mxwMvqXBwLUO8ebIdz3h1NTuewyQx9YM+4qo4841DAD69crBxBWb+El4OpWpqGCB1HgC4OQ6mzK9HtitUn3GF/79GfeLBFoajE2ILpb9Y9b1/IS+INzataHSy66H41KqWowB1BvOocPMalQZcIS4tH7j3JqFwy1JfVq+6muUH2OVYlkbvHWGOLrLH5HuMHUuHcXhR7H7NxVAzeGfbaWRgCGw96h62dMZ2fYOydsX6ibkKnpgKSOwRKH1E7/SFPIEPtqFcEU11AlHtMe3FKgNdTBCgeyQV/Rhl2P0xKZctbJVeQABR0prAvxBgD+SmaxqtY3chdROnnFWynUONzcHJgxWoRPYdz2f34jHmemPc7yP3A/6i6eC8wRz1KPv4jIK0RELXl7jKHLqiOWho8qGkcGa1GdCjLLoWl9VEpmp+ortGCXQ6RIl5cNXF17CDjwdJ5Cz9L1A49x+Iyweag74dRe6Df2J+YXSxG16FUoCfgOmn4949l6n9Z1P5hmrfiBhS+xjdGeVTG2nTdxjnrPslB8KxfF5HuGM84+YeT1gwamsMEEPeop8Eig6DC2KsfIqTt3RWDUa6WKzeKpgfYNX7GLMCeh1Nrbj25u9QerRtQ7wiQFdjEau+homl+gPcuSPvolmSalVCbhDqGN1wuJPJ7LwdzfAiY9jPMkO7w0Y/NLD+waraz97Z8jk0WDYPj0x49XwvNwcF9P4PssiPrVfqNFYB6kAENjLl8Dsha/raE/pk4J3J6iD2oL0wKyv9xOJ6De5bKDYePkZuUKM+kuNJF+GW2pH5MvePMkES1pX7ID/ANIRV2z+Qiw7gz3G55nyVj2PU/7hGqnRU+3qLiiJvupELqAcGdYXcuNze7nuCbzvj3xc1EmozUGax7itcrjhhPJed3K1DhrJlshH5Z7glwhjqEYcieRjjUrXIdMW3HdxdYGdTc9I9sqI9MlfiCs6/wAAqXN4vJB0KfsEce1n85eTzJVZpYwy5Whae4zp+1kcbrBmsPBvmATdB6XNVKMO8k1n7Ei+6XHwUe1FPeby57rgPC+B7Dgy5cv7J/5CEYZt/qdpUP6iUqBpoxkwugl70Jr6mzeGeYeFcN4MMpjl+Cp7Kyw7YoYYy5eCN8DLKnUvjcvJxSHcrDCEHFwnZj2e8XjW5WLsg4J+sE1CqyZFsolfvm/cZMGdS4BpWlFSxXVoPw5I5ZvHQ4rF4H5IlcAPs3PfJ2NQ6cKVDiwCykhhEQAfEmoPH2oQq57i+By+peN1w/MHqPAZc9PguXjZxWwdP1Kr+ao/KfgS9fwBuPsxzRyuMcEYrGX8TPTWVl5dwlZvDXxGTudzqb+G6w8SG4V7BGsk8nYT2XjU+zmzvgY3lzuousAblPQXs+ZYahWD9DT/AKQWGb/EcOa4HTH6IweYLizVLw8Cew94e4vrjTzTqbzZ8XkJ7DqedY9xRT7URZO8OacMcXFwuKxedcnG8McbjH4r4Vg4jHHXK+PsJZj2ex4GCXUIN4HA1PHHmCdxxuaz5mo4194ZV5MMK2ivb3BbjDjU6Tk/ydKpuDUuX5nUMan1qVPJ5zZ4Z3NVNfUPvjWjFYqWXgr7hrF57moMrgcTm5J9TeC0NtRVItH7Mcrh+B4seT3km+NxcHWb3Lxc9lcjzHc84qY3S4vG8ew5fnhfWCdVCXCDLwRcbxcJWfcEK8nsNxx7wqON2RRo38Y3f5msuGeUQkIPdtXqz9YvWLl74EKx5xM3D6xdTWb4ai5Y0awc6m59cDjqdQzvGmuJLP6Idondmwi24N0rgaHH8wy8ObxvB3xvXD2VPYYvLQK+Qqj/AJnsf2ml/wBMV/ymanrPZUIhSXvcdMcnDqPAlY8+MmsOWXDB5PYMP3w8l8O3G6zcqAxJdYOf1LpjfHsr9QUD6BjRDkV8F49zUON5PgNEJWQMXhxZi5crDjfDqPUDO56Z1kji5rJhO/oiAv0ysN/NI+la/dwl6LyVAjf3EFMvHfDVRjHnXC5qskeFjLe1lL/wzsIB78/MUG5sxbuekI3TdS2L4FzXGuLLnkDDi/g6iYIbhAhg4HnwOLuJNY8wMrPse5qUuH5YZK2F6xqXgZqC/U3wPh+5rg4aZrJjye8OsGPqfvDKbmibrFbMW8DBKlcvqVwOO/IwZ2Qp+2B/3EjRBDXuqYYBvuFLYpFh5Fxn1HvBLwsvPfL+zfKz9GmPXN4WNtb9MPQ16vapcJuJcbuU/bCiHyB6S2K/CWxsZ3FVN2Mo8GiaIyl5Gzs+CpXDvBGseTUvkSty9wdSzBip1zI4Mfn4Pc+kui+kCqGCPK95uuZHn5CfWCHkXJHh7glYvFysG8hZHwwTdSmdM9jn3gXgwGnjeL3OiS39mDdPGUt8lWO9EJvrEVuO595ZePYsuXGuDi+LzeiM6hDqOR9lFaowo0dCz+yiu1SNpL9yvQPR2Es01DfRIert6jXvaVubIT7dw7CLpd6qsAAoXZNkSfUSJhcgfJ+LX3G8iYtQ/wCwsIj7G4zVZv4DA/iMXBl4NYrcI9k9w1h1i+fWKx947E6H/wDm8DWfJUrKa4UfGYeNbwzeLOBPeJWLwY6g7qEux4O4OF9oir97IMBWVd+4Oiab+uSvTFiexKu4QxeLwdcPMmDBOxmp+0FpPsgraMM1fDD+S29jDQ8FeDjc6nmH8fE4sl7x7xWecUq/Rg391d+yJfdoZeCuQPGV7P1LB/ARBlhfuE0q8vywIt3UN3+pVsbEPpFjdaqo4ZUfuOiVJPJVseDC1hJKzu+wOZuztg6CYOyIMIX6Qx1ve6n7qdrl9/1Qipx1wJeCXDFwz3D6xeNyuXjyf3xvJpIxL3gt/wBysXGXw18jBuMuMCuYdZOV28HFy831Ad5UX6/MoR+ZdEJoAAQJ131Gx3O9WNxCHZDpIxrrDfFxs/EotX/Q565/Ur3hWawdMQ6+R+jdQgHqKY3HVYrDxuMeNxzcZ5nfP3LjWGePqY+iL/rNnUrBH5LjvIhVfpyNv7uau9Q7lVogoxYR+nsKLIesWKrsEBNg5Glt3A3rIBcsQibFwth6EN3DuKbq0z82amkhVsEHAHs9Nk3pbTg8LyekuEMDg4+fD78F3w/3pADvPuPOB8NZaqbI3gxub4sih6x0DgIlVaQc/rb3FQuOC4Jj9MNVdjxIzogTsYhpXxUQKGs9SENzq0B1Bmnf8jxtZAux56J2OHhDQtwhMLao6y8Khh1UvL5DN4PIKsCk/BwZccexytRr5uozfwGfMPXHzFQ1i82S2WypUqewObW3/qKNAE9gwSkBNIxp96OodfPqE1f5ECzvYNfOTqosmDqOB42RhmsGHDCafVJFr+ieZOJHLkw+TU6gsl30/UZ3t0LudpK/cA1fe1CgCsYVtWg7Z+gudT+jgjEq+olNS0wPtQB/J2IBt+sHRWiQ+2Nsc0dQC42KC0/JTs7myrnsB+or6miy/HUUsf1SUc5asEZp9HFzU8vDNXPyzX/kRHRGZetYtGXe5vkQwwj+4T6nsM7uVpZ7PxEP846wxw4ZcrccvxXj3C6hWfrh3hfrncvG5bDO5XM5dTuGHjvJAzuoMG8XCHXAxcN4uWLhz7keDPHGgeS3t5Sapx7y8yXPuE94Xgp4P2RQAhyjY6uUlbrpk3ng2wT2lgfpZRYhdWdkvsj5SNn0zrfsGEMoAQismwX3K5k0a1uJWoWuobfvZ1ADO6Nrr1X/AIiKpneA06U0/UXV3oNQ7SfuPoB/aHon9ty5WNM8yKMo+FrjcMXPIcSXD2HwGdOmazCw13c6RuG7FkZ/IuLw8G+HWHk9/H5zY4qM3qEaxeSViiVWBnjj3Lg7w3y3gyZuGNLIQdQebj6jGe57h3w9wxnJsOEfF5uDgYe8CVyI53jsqC2IK70yjE/BF9RsSyLKv8Iogh9Ee04xEPz7N63AVsu4BEvwIz0Wqa8j3DT9BhXLq/AjI4ejDKgOFdpLrDY3y9wYO44qOrx3DBkzvUJ5DBgxeLOAxbYbmmjybw7+3qQQtfcPdA3V6girqOFwuH4PYkLMVljvDOo3h4ObnmHvNGWd5ck1kyDzrF86nmPvHhghLh5gg6nsK9hPcH7l8DBNYK1hz7hKh0XfX7I/cqpetYJ7wrgmOpWXH3ivSnslFgdRPSENPde2EY3UUl6nWB+0ilkaKhCGqY2+pqMShbxjtpH7QykzpbitviwwYreEqXHq8eZ8neDPnx+cDBDT13DaVH6ozCop+rm1mXVF8GNcGPxuubln1BfUqoz6lY8nk8wMfH7nTh4Gbr4dYYcWGHneLqDkFJggGAzrh7muDjyVFQha9GSkeSsVD4gy1PY6lQslv3LMBgc9YsqXw3DThKDBwMVqXtl4TGprIw4Xgn5yY8l/jPnIgov4nQQWXCJtzWVw+E8hpbn1HFzce/gSU896wz3LO3NAWQ7DeLbJr/1kGT/EgtCb+VFjtR4LqI+XBvxWAAuFYrIRjC4aWoEDwjFHfC89QwdT6xeFwZITdlStI1r9pe11Bjh7QidHx08uaF2VqEGGCa4fXBYSuPk9GB65Lr6YxeiZdYCXkxWC5T94ZWPZUJqPU9hcrGpXAx9Qz5Klb4E8wctys6nvAmsVnzB5Co8TvJisJNkXLkLUnTewu0ThcpY4aGf3DipXwtBqezyalSljHg9Qyx97VAL0n3f9M9BmmgB9GAqOAuUOzSDyXmb0IQHTNagRobY6HrKr3CxvSIhv/ZIVFMQJ1QNa6gd7+XUEB9Puo6Npt9kpxeVnmN8E1TpVbl7l8d58u4txzuC3+SIaohUAVrRgtkaH7DUbG2/xBqGfJrFTX1wvDisXg1U3UMe3CRrOm7RK4OPcXZOuXnGuZH6hKbua4d+YvheVn1mnl5nshrHvEi5Gd8CVLhgwAP7Zst9T8VBpRLBqODDeWPx+4OD8I9m/ZBWQD2n5g3xt4wSEA7eBc1/iWnxsbqHRoNiHNQFhCG49WSq1GWaOhKhOdhTUcv5YxpWr8YjSNial9OWMVsVCAs4+pcbIXcYkR6Nwis0iyI2G6jqDDqsbPNTxB/c/8PMqD/sRh/4IyqhQqi/GBKg+iOSR+tShJw7E6qAvkpwTcufU/GBXtW/0xOXfr8wUiEesNDpZdrCpeSfj474GO9aF+2O9tKP08fM1z8icrmuLKqHEhDvN58ly8E/uKx28b5Ev5DJjUX5m+Llvh5GbuXNTVZeB1L5ox4N8GD+YRbMe9cRjyUg+MNNAtkeNs9Cou53O1FPxQQGunVBV/wBmXEQtDEXVUDH0UdQ13vePYE0Rsf0InZop/kEkO5XX9xjlO4BsrgqB9C9x+yAqI56WB0DAQ3dtgsVNN1LYiiR5yBgv/wBaShEpq4aUB9y2JdPEri37Fxav2oA3/UlBaqHbHUaGvpE5UWoo7sLGE5rpltAMS7pI7MVsQQJqVD2oK4OoQ5eSsdR84XjqXhAd4lJOxGvwLlSOO8fWDDl5E9Y8r+Ac/YcPHGo1kzWKhDN4+tTeTicKlQgQB9YEHZCdTcUl4cuGVK4OfOXsTDPYQlDjrk5KjkiBjQjYR7wREoX9jFA69NRb0/iFBVftgN+Oz6XpjENoui4xuvSMadzSB1+YOtKUqiJLg6q4LS9/O4wPY91gWWN/ciB7YDVwBaA+k6Nyo9uJ1dhNPb+kj5H9QTGLWIbtWfwSuoRIuG4V3O/8QxRXr6YT3orHTM/IjV/kFUFRMW+RHWsJpi5dPVupSg+N8sA/zn6lM8iRo/fIDGTw9gP19xLpQCg+gwS8XqFT0w9NZdYpwS5TlP8AMek/MVgreozp099oSqdyoyseQiOTPkYSiUYJXA4kcBL4EZ7HjUqV8lcPeNc7YeXCEvU8oxNMJsCI7NwVfQVl4eZ1yqHuGOV4e4cGHFMIxwwlxx9XF2Mu5UZ6Qu8dBGXPx3phffgNE3D9aCxiPUeFsU9uELGFH9QlcR+jAOrg7h+wz9nAhX6QqKz3G5UMjBHsfsg6KlpW5aDXcet8DwnQBQdBCLh+pfnOocP7KwXwVWIxfsA9lAQ1YNnc74/qXgj5PeJL5dYIy5c84HI9l41cvUOBPrO+Dc2cDgYcahxME3b+Z9EQaP0kNDD9sZNpLsl8XfTEm5es1HFf+Yrm4Zvh5j2OfpzTGOGUcWFxMHCsa4ez3H54eY+8ncJUrPnGonAuEGDBgy+osIcKz5CaqGmWcPJvNwYgB++MaeabaYnYrHuNT3Bh+I6w4M1kycupsnnxVPMkOsaMM/mLyYOBkhALx+/8ifI/XTARvr8sI10EaJcvLm86v4kxXAlxMrRjpmpcvhoxcuf3Jgc0zcOTnyMrh951xJ1i7wOEhDFMHmBx5BwYZUesXvi4+o5sAz7MUOo062k6ilutR7hPY4MXUN48y4OfmHBmuBj3gwyms1g+Ct8SawUz88zBBd/1OpN1LTLpplGS2p2ytYJZxe/i6jzXD3lqVuVqeZrjWK+AXqCshTvGuVR+Bz5KvHnE8j7DB5DBgy0yTcuMvUMajy3hgp0ylenR2QGfjNogzn+oHdc++Va+H6y83k48431jqVN58x7xOBNZ8xqXDqVNqqH/ABi6Y8VK7ci269eIoTDoDoMVGa5r6Wf9DTPuEXD7y3h+KsNcLlfBcYTVQ+Ald+agJujtizp+HyMOO55DneK3Lx9QhgxvF4OPmKnuK4ezcuXrFTR1ikZaMHfmynVXeu/1HH7ODxeDi/i6+C8HwU8N4/kvBDs4eys7hh81y8nkJp+iMO+rYFQsvc1RGVFYfkCXYouiO0D1TKgS6PqE/ONSp5UhjWksSyXKxeK4MrLyMVwI6YHxNMCDk+ffwe4MOSrlL1CE9wMOoYOfWLI+YqOPYy5e83iyXECupaDD6TDdS63AlrD10JBbTU6ZWuDx74Xgz1lvO6xU3Nxnua5M8hx/OPMlZ+3iYTcMkIQmn6IT+WxlTVRj3i29aQAj0MGoU4+r0Yw9rWnsOHRr8GOn5EO8b/8AKXC7CsOXPcXXQG5VY/Y4Muqxu5UcuSXFUtAtYmnRf6ysxvTFzsJ13j3FysMMXvCVLqVOuF4ahjU+sV2roLYdFd2TqPWou2XIn3DK5nsjyle1XTrB9QhCdt5GG2p5TSz8xsarcuWubhjfsbhnrgGAlwgGmIVK9a4XdT++4M/GxqGwf5TrdVKqtTuVU751w8wuK4eUzqbgYcEpDnRh657lsONT6wJAm4DAWWlX5U29lA0o9J/2Adj+4NWOoFC34YyvzGOdCbJhm8JLLUXN5NIUDrcBQWQKNEH7WCp+/DfE1NqENaut7ONcWXwrFcK30s/1COhLr7liV365b6hUKig7qFLtCwjmjZJYRQ7wSpTNytcunPk6xRSnfkqwZH5nrHY6UP8ASLGbGv3HbqUF2UfzcMN/MJV8SVhhoXwQUXcuiXqDuDDBOp5j/vRL1Uf8n5sD9yiBis+59yw4d4vHsq/Z0SgqKTupZeeF6j0/wfcBH2BCatSfVJ/1Ssv5WB+OU/Ubm7ns3GDi55i4ZG8eTqdbl14svB7Fl5cGPMm82/U8wDEudYFvrBRN+V+WOaP4hYgV+sjfvQ/95l7RiwjIFf8AroKh7f8ApQB/21Adt+2a+VcPL6lB1ClU7duNWs/EpNv4KnQwwfbWOp3CEne9sr3RsOJPqJeHRhoa/o46d3BVmrgPi2y5q1UIwhYokZcdxEIQMrfsYlacAvREYvF/D1GeDfDZujCvWmkLCQGxGG1dzwPxUOslUt9QJydRAZ5sDCU1FaaI0ONwii1A+2akb9XAaF6MZCKlRBqAnI0xQC1W16R61LK+agoKBj/WX3OkKlVFaRGC1tr+oiNict1hdYvXUsdR/wAVZHNtXxsQF/VxEpAr1APIa8wMM7gKekc932kpgJ5HWHiw+DqODgQY7lpVP2Jo/wApoy0D9xP/AJfTxEEdQrqf02XbSvtTfsvwTb/tQzv+xGjufxh4z0Lf5CqfP/xGRHuPpxJ9qVsLtf8AQygK/WU2f/Se5P5KfT/GXGv+sq8/xDxjS7P8z8g/kKv/AImX/wD2Ifa/yPmJ+DBr0Jr3B8zPqk0dJQf/AEh+Y/pnVP8ACIO1+oe79QT6v8JZ/wDhMsP9CdGpjT/uWe6PpEfU7p6FUf3lwq0P5Px/wjBlaXrvN4Jvud/3Qd/NYIGfmJRr82i2dX+I6caKCJoBJQ6f1uDrO/0w/m1ENCIlo/VMtBXlqH5eIwuk6IQsIWDUVNWHrGohHqijapk6t7m2ZaH2Wj59D8IX+krUKijCsF7+9wNhElGsqfRCEndRf9zhZsQ/ULX8Iwy7n+iVXcsz7vPdeMHviaFlR+QqVP6GLrZ0X5K090CCeoff7RmoS+hgnZKSGzSNd2qp1KKVQCXZ2hv2OJurlFTR2SieYP3F8rqv0QoWLp6nSbPu4aqst1GYe6Pa62ZNsfR0aUCLDv8ARgWO7P2uPSXZ0e1LUHMURnbL5r1RsgTVpF4o/CRxQ016w0N/1Lap0MRUygn3n1rho743qaiP2GEZXS/ctk38saHBatJKGCvaELsV/hgWmfWET/tphKID7IPprjykY0aYFqx1pPpD5DbxqHyvuco0xwFlNyPyy1S/QxzcMVOmP74+GKmmdE6l41UFqrlhqB9KH3x+4Yr7B+op2D9EG3/0p/8AmTWn/RD1/wA4+f8AlFauNbr/AAn/AOCQ/wD50B6D+S7f/UQH/wCkj4f4E/DH6Jr/APjJ/wDmo/8A8JP/AMAhR/8AHB9f4o//AM5Gzf8AhLX/AOIl+3/Ei+1X6RXVR+Cdp/1w7v8Aqh0RBdf4wB1L/wDClfQfyGt/0EC/+iWeh/k1df5Txoxfcy/3LXs6491KlcSEtLjIhaysZAlvrUhrCoY2rT9kP/lYh/EF1r9kKhs74TRKD/4o/dL+IAOhRBgAGnb+SdmFaN9l/wBYNAH3ekTHZ4VcqnW6W5T++BQ17RlmQRpZvd4IaZ52Qy8egbQhS+enpEYdGrZAwi/CA1PJmUuhFdo64rNfxuOPaJhX46WXHDa2W2zqB+9RxSRilatnRxI7YdpfUuBzfeoLa6hhIFgpXWBAi9j9MbbvvRBhvrSSSAX28GEntVGSpf6Wz7RKJ3CtMrcA3/tE7aQ36JaN1up+3rPWdoI/CzGFm/YwDdew9JWR3A03cKo2nxGlhc6oZLTSifam0WlsFpUWBLPYpGW2aZlaherRNIb9kt9o2+dSshlTF0S53qIHAdrNoXUG5sRaQ/UQFsbRaAU/vlhqhWhWFi761LxibMFW8EKahnkaGguGERdpUrG4e7SUtbxZsnkF9vZdg9tFhDCh/ka7uJVdRtrskVcpC26ksKD0OiGL522qAeh94nD34fOesG8NTzBKMfUIdRHheDhRhzU1XLeaM1A5blJw3jyGC87GDQ7qWDTESbANzVlHo+iO3HmLTYy32xVOFdx6L3wsdMSKJ/ZA3R/NRVq5bLxrC0SQYrPodS5sb9FXEd48fSGyH66poieI0r+mAJSMpjYvxjwZ+doOM/ZOj51c7V1KMJ/JLt/44ZZQr6TogOhHpJ3/APH5fRBbdT9SyAKATYfYONSK/TCKKKqGt59FMSdL+7gby93yZsQnvFy5qBpqbC0pU0xmuv03LAkV9VNJov2yPY+wVtXoUwbb/wCHU6L/AIEAdy30mrq1RsYsdE9xXNKka+6f0MNG5tdbG6OwX2eQxU692UcThduiP6P4aTRVR8gVdO8oLW/PxEy40S3kr0HR1AAT4+n6g639DusDSMBivSrqo9h7DweQXOkjCNB99kJqv+I6FO1CK85XQT6YfwoRctCv4GoBs/pGlt6MO1Da+7lDYDb9sdzc3cMvbw+sXnfwGay98DUsx98PJUo5fUMneP5P5Kh8A5JW8V8Rj3BLx/7kQCV4J3dZCGPqTYA1iwITo4pi3cYyiMrN8N5qOGINLNO2y5LcMrWUhYAH0Km7brLzXVYWeQkloH8RaYbiv1C4URBUkQLHozSKFCr9qbvP1CxlA/K1Cl95ZLBQA+grCK2aSmLc0iyKZqp9ZbkJKdJP6R68XDgUUA/M3v7IQGxfyACgAmyPUSOpqixLquSGBnbgwRZa58wdRY8xrCM6/wCDfKtZ8yQw9wjwvhvO+NRu5U84E8J7zv4PYM8hPcGHuF9so8nkMPeXLh4ewjG8eSpUc/U9jPJ5lhl4ms+YrcZ0JtMtoCAL0+RFSl3FEKxc8PgOPs6n3N4dWn/8RRiOiGq+mbgAVM2wxUcbiaipI1LdLCm+BDcM3qGDGmU3CXjRHkcDJwuvgXA8usGKhHUGGPM0y5U3cvePEqf3IS8HfCvgPi6OH1N/UOmpRxZrk8d/BUeDHF57hjd4qVKJrGpfDXVXLnmHLk6m8mHhtnkr85AEsMKhYTqNa1oKJ1lx7GdMcVKhxOsEMFwME+sV3x+sGdcyOK18BPueZJ1efvWWewi8UlOawYT88q4+cPPkY9wl4IZoX9TFfmUYcuTHs9nseL3xeTojl4+8l4eSt8Ope51wMGOiM3xfh841NcBMF1OqwQuHcueXBms3nqLinj5isPFjPOBw3WbLl5COCGTPsOFYc7nUNrc1PMlxwzzBDBrFQ40mPM+46zr7nk6i2/klgUd7R7RCiStaVGwMK6SOLj8DhmuNZ8zcuPuD4fOHpk9j1CbvjeXhc7x7NwJfWRm5vgXwZeL42Xi44IQ1CHUJeBQayRmo64HBx7NY8hNRhkl4qbx4Y9xWCPmT4axepd4qfcueQ05Me8LrifHeHgEMekvV/SLiX4AldFf8EQm2OxjTLOy+S7OssqOXhrLm9xxRy7lby5J5wS+N2S3NTfxHeLwQ+LqXyrDizFb4HXUJeRhgcXn+4ONTzhWvm9eTCFcXcMDjvg6jCsE1vGq4eT61lh3wWDqGbx1k4+uCHU6nmCdn6MvWQhOlXO2KyuH/AIVU3h4eT3N8XifBU3xOI74HPpl43j3NmKMXnWCDkg8PODhOPWNYeN43K4XrHcAlTc1CVbA4sL4DL4sM0TvHuHGp7DZCMMfUNvEzTcPhME1GMGiJWosdkXQvpUe01Fzu/eHF5eWuN8Lj8O3P45vDXHeW8a41XLzkS4Z1KIZMOTF5PrBFreDFy4QwwXJjyfvgZrBXE5PFwfBUKxqXnzN+cSPIyTfA5+w+FYKbesJ3LlIwfUNM72VFAi8mEWRFUdPHUQc+cNajPJePcPDyU48cOGVKx5KZ7yvidxwM1z6ww4sMHyPRyvNyhwdT3B1gYwud5MewwE3cOBwPc7m7jon1wqpfwVKgLJUdY0YrG5X/AAa4uXhWSPDc94Ur+8W4cN8HUHcG9LFkRXbdPYONaOJIzU7m66wM9zUqdYt4/wBlm46j1ElYrDKz7j2EYYcVnqDPc2S55riz3NY3Dlbw+pvC8BiwYGEMkJ7ismfceY95HXK5rNbvDyvcJc3DN74eysg3ErNcPZ3j6uFWy/JrW+fkOHXH2bx7P7DHW/mOPcsZWLmwgWPqFpM2DqzGrZudmHqNxlNn0MXL7avIm4x5jXGvxwHddxWYUUDRNRzXC8fjOpcreAj1x1D2C0J/Bmbm5I9xp3L0esPBPOiItwXcsZp1kj18VmTTyqFZJeDqDrnfK+J8JKhiub7j3J1k6wGPrD38Vy5UO8hOuF/AS+VYMkFnWWLGex4dMWDSoij/AAorJY9GOLfZShlHtGpWfhqfeGG1PElnvFPYChAyQfuokTU9VBKROknTldtPix7/APuiOm/ssNRIT3FlaevNIG/LWrqLb6hrDL20J9o9atTI3RFX2lJNYPZXEJQZ3UCdmN3uXmoXoJ4BFHlggO8kuAqyG4/ZOIKISyhN7ab9COi+XECXpfp9mpXC8hm57Op2TzHkpQ3Rf8llo1Q7xusD1CXBsuEIHI5VPZ1jzn3wuXx9x5g3DjXNhDTxMdErfDc84rLhDHpysw8PZ7kz2fhlUQSxP8I2jB36i7PXHcY5vil573f3LhRfyDT7NxDVFQkVM68n11+YUuhDDZT9Y6P3P9Wj7+4gIxlU/RuDAG7jebsP1HSPplwX2HpNxO2X5a2f+c1L79/2gZ9gsvlW0Pf3BSvBQKBukm4zYH5R/bGJuK+FUO46U3b3H6n0kezGjeXK9CCIlNYsdQrTtuyPuiWpFo/seksYuI566/crda0WK2YBQYG7dNix+eECMrtJQY0bYS/AY4C7VMBSGx6TgSmo6l8Oup3eGXNzdp6dMK5rdJREJbAwSiCoUYFrBgxRn65+cay8/OXsrj44uCp1jcOsXcM3gx7Kx7hjO57xr4Tj7DCMklL+oSH3cKc4GtVFGo9r2WGsXvgfgwkOq7dR3E+x7YzcFN+/ce8WMxioTbmqx6Rb3VRm+M8HZNK9ehlLZKH6nfG7ISQ/phoNMoP4ajuhvzF+8HAo3/6hsrNpubepNs3c6o/rEiJ9R8vSojYBqnsa6H9QsNbJUc1v2nsLEm+9RGngsU80m4BM39RDsXdkv7doukhUlNX1MZ3BY2IxW3KzyXHQ3KNdI/iQtm79C4E9TY+mCGpXZ/SeASf8YSFq0w1e/wCEoV35CUoV/TpirDx9iGfsXRBvmkMNNQtvvoJc9+iYHRhuW+prZVN1j6x9z8bZFfyC8DghDIw43Dlf/DeXvAlZYcPJ2ZrUqe8rjc1xL4bxWDiYeXvHKxWpR9QhynV+Gbv2XLns9nk8hF8xvBhjwrcbw57l4tqWhP7wJrF6f0erNzde+x7+rw4B91ne5aIkbpypQlqdM0Rhd/8AoSqBercEKs/m4SmaHXIqrIyhkgswq/XpDCNpppvY1aCaavkIROsctrCKrGmIaO4Bhd+FpgnqJGWvNEu1O7QS/cnTvF7VaF0SvIB/Lc0o3B2h+7j5YNbLm0H7mpTC/tkar0jZN6gEh1UE+ElPGW5EsPUJu7UxcA+/RI0J/cogh1fXZNhgGAUfQME9xUvYyr/cV7wdzzgGEIdwwlOEnnA46zZD4O/ZWHF/BUuC1fynK5VZYaz3gwx4Vk4Vwci+sGv1qAtLx1GSACpf9YVzwKlR1m7xcvjcvlea4VPMdRy4uxJ2XOtdH0T9vDdCGz7GGddaFz6wKS83OqxRECGumHQ0xS9EU95CUUNOxjY/YKo7Yq8dwsC237g17LSBwp0pZ7gS+zOlB1oS4QIM/JGGhDruF31fco7O4qYD2i/cC+KKp9zZVQWsZA6x+4txxrARjvH/AEIAHmRhL1CDxHNnxuaycveNPx7gSsBwrnedSvxnV4vOsdHy1DiVHGoC8ERSo0awTp4CDwbjhw4cLlh5lh3GN/B5g7j44eZ1ghy+uBExfCt4YY1xcmdYSdEJcX6j9ezxO4Vmft+479wAoq+vkbJ23z9S7hw9h9Q1ghLYcDjWPzzuX8hmiay8NfBbhnnwkqs+584XOoTWDjU8l4MV1KhUqxwB7G7qLGMeNRy89fFcYcK+O8s+uVwJXFhPceZvheNZrFQJ5KlXUSPC4X1fiLasNzrJd9xJWfqEJcHF4HBNcO8XyPiMmXOpW8b4VqVxvfCs+k9lmPeLDDKzfXDdzfHzg+a5KQgFwxi8Lw4vjcWWy2eYeHsuXHBK41w1i8U4OFRw8fJ0Y1OubKmzBwrJjXG6IS8mLhDNwNYKhjwh8dPG+F8HB1nfM428mVN4KlG4TU1n3BhjjyawYOVZ9lRyTzP1w124vWalSuN/E4vqeysGXFXyqMrgcNYObg5Vw87w4cVNYuHJIZJeSfuayMPYQ7hOmHcvO/gMEcmPcGK+JhzODgl9y5ueQiTdzcvrG/h1l43g53xITvqISwDJ2mfVymeZfg1yY986lxnmHudXNVHrmZOV4svj1x943h4eTvHk1gjk5v6hw3khCDuGCvYVPuE9jAl8b3nz5L4E38XmSVGXPJ9cHNR6q4XwqXDBxMrhm+XnEcERaGUFfvVBNO3cC79hoxK51N4yxlY3OyVOsl4rG48nrhvN4px1j3Lkj5gz1kMVm8neL5mp5O5vlfwbnsrFTplys3NxwQn1gyQ+Gp7yrN8AnkrrHXHz4+/I9S/ZXCs7xeCDLxfEywhyOBwIZJ3xXslB0pFSaVlhjL1PYUUDasWVrtjFaez6jhamq7B/MB9x3KigMAbpvqbI8Dg/A8mfXGuBn9S89Rh1ighyJ7o46zWa+EIZcVkgw4EGmXePcvD6wHyV/wARzfHyWcNGCeciGTgRzc8OPsvhcGpY3r/ETTslh2JHloVBq6ww71DQdtkXEvKt7lu8dwG+XJX0IevQqDqOCiU1su4iaQ/eYcuPM1WHDilmx2Y8jLhkl4cGGEZctJeAjIepC7l8fJ7iu8hhlfKY0wmuFYe57NmD6hCGSuF4PivnuEflvjqfXGsOKnvDzkvwnCuF6x7DFQhP1N+KZWyF3TDCMd1Big8jhgbJYLqj/wByt7sqX/GDO3KHs6JqsYd0H94xl4o1WvYp01sJZOmaOdyn6lYvi1Gbg7tncvFulfsYqpcrCVmpL1o0qzB3UsFwatTc9xd6CQhMh6XUX2lTqaFJ2VAaX7Dsn9q/RKwzXa0C1jzXtWiQ0tfSJquwsZ5y9wcPJrP1GJCdwnsrDnzDDqD1PYTqDgeRgjA+G8eY8hLxr5Th1j2MKqG4R4e43jXF4PEmsk84vDdYU8xbydRyzuQ3iFVnlRDRP4Y2H1Z3RrpXj3AFs17Nl/ZQs2/8HBhl1GnVac67xivubqVDNU/MYt19qxdCDTGDDgwvvoWlPU6YIcW1iI3uPf1EiMXUDhXKAUx+ywcU1l6MTYLLYuAbfZis/WvZSPUYMhe72BoWGOkAQUZfqXEmhAK7GK2bQ9Qqp0cz+ZRASbmjBEbYtsZufs1f18NYYfD1UXG+G8VEIYOoQ4HEusHy+ZM1PedYJ7fwXgjshLwOWskeHnxV8HmNZuGKzXCpvf6jmEqll7s+5cw0dIrWVAVUBHUUjwJq2ptEGwnZ1GAbqpneHn5B0LUIGuiMbm6it+vIlu88Rh9VfrpBAV93SqahgMg2X2JCrdrqdLBjV1SAHoap5PSvpUp1l7HyK8s7JcK/4uG39ZuMdgCb1rFVCwgvps0h9bW4tULXUucKUd1iWapMrVrVTWfhG2f9XhRGW999iuOF+dpg65pkKGFB8t8K4ay4CXvjcGEIQyYq5+J58esMOBxJc7rPWLjLmuXsahjVZ6MUZqezcI8DFfAcDBnzjbDqF5Y53FSKxvHsqV0FktlqAChfoqCe47jcLIqhm87GCitRv7xqNYqVFSajUodIgqJ8x0Lax7UFNVDe1OxD6SMrGkhCFQ73GCt9T91GfKlOAQhoMCg7JhW/+1PCGqw766i8DQrS0O2XyGksG26eiNgAA+jFr9P00wuz7zZjOv0ZURtbzqWqDpIbiHq1Ja071ke/ETGybiZODg4OLl/G4IsEIQhgeNY8n9xWs+QwweV861wSBAhHifBeWXLycb+M9h8Vy5bfUq37JlMRnCnCynkx7h38fvJw4qAIMIt4FIF7G/8AUEStD8EU95Jsb3DFtiQKF/UW8F3qaqjdwjNkOHud3cOpcRt3m8n7ycPODF41msrw7YJ5C8+SrqGHRPJfO+DCViuGozyPEefuSOLx7x3yM684dGPIZvGwhKlxy8iaZczv6ReH/nFn0uFIgRm29ssNOCsOdZ/sv4WeSuFSubivnvh1jWLxUufcJ1LhD2N8a4HwHEjLlTVcbAhOmLgwxWLwtVCHwXip7H5L4HA+DrGuFaYdZOvheFYO8HGuHuSEIMZ+KFdkqC3Leb8ifKdYMeR5uaj1Fxriyq4Wc+uG+fmNciPDXGjBCDDpYYMHPyGNcT4GVOpWp58W+By1j651uVnyVwcGPqXzMnXA1AhhynGVPjGh1hyAFXcqX8W+GvgeFZ9hDjfMxe/gqsrvlus+8K51k411Kx1PuGahi4St4MW+wYOB18DPJU957Z58K4OF8Lx7jWPrBm75eQjN4rB+558pwr4BhdL9ww3fR7EOj+iOWGApw95VKwTRHBHl7lmssMXxvj7wrF6m4Y+p78rm4x4uTFTeLxuMXHmbY9YqVg8hcMFYMHDXB+e+J8u5UuHAz7PMGVjkwcLz7z9heanWTuaiFdQsFR9li495PBwa5+4viysuWUHH7l4qGalZMmHkY9z08nj7weRUXPmDbwZ5Eh3B4DBPeFf8MgceuO/g1jfJ+O8HCsEe8nGuJxcuFMJzficrlOLxPgHDwvjXGiXyKjmsXPeWzPkvB+5qXD4Exqp5qCQ6wQYZ64V89bxrrFt48zXy/mHH7lZsMdY3vNcTmY+vg+obYFckI8GPK8OX5FxWXDHqal6h5HkZI47y8TLjTmtysHDWa4nEc3w95kOoQZcOoTyfWDg5CeSsEcHAzXIlZ1nqH3muRw3hxudS+Jy1giQzeDB3yuDik7irYGNibNO+DK+cjGHC4nBwCytxlcQ1g+Ix78lb4959w8POLPOBhyYeBDrBgQfh1w9wnLfCv+FvgS8WZv4fMGLh8nsHFfnBgMAm0j26Koh2D3HlI1v3ErF5ebll8HH6JTGE3LZu8sYCWto+2RhSVrGdYLsKiIdmsHy1mr43xvlv4HBi4/AcalRckIQYYGHwdcjLLOASvivgZZ3jzC5YfB7zZcMuNczFLDrWDFkslRlAEH2MNLL8B8evdVf6gwfszqKv7Auy/sQyWl+o66awwbwxUkIvQAP3EpwWtSzBf8hENDRYR8/n2Id53fOvkrfOp7PPg7+ezg4cEIOCDghhwdQx7DJLjgx5xYOFwcq4Xk4XwrLi8k94EMMPiNE9ydcCjCNeTdAY1dcCh0H4Amzr4/MOPOVzqUFXKSVKt6Jdv8AAw/GxSUX+Qui0eg4P7hpjuvzlRS51M3lOIb6Eexg6H1aNyyRHd3ERdzzJy9hl18Ti55x84dcPrFzzmZM+8GDCD1BhAgw7hL4rxeJGONcXmR4FGKzcvgTVZOHlY9xfL3h7yJ7jcOskcFfSIkbfBUG3+iohKe14HHvD34HvHmbwI1LYzozW8M1DQupEu2ELKiblRZrpThNWDtJ+czvaGvSJKsax5wOpfy6h8Dzvc+p3jcI58wcSOTJBhCHeTB1hh7ycEqMMFmKeV/8ADa4blQl8vcnPz4zHuAzVMpM6dRf+MysajzZUNX2hgC2nQt1kSaj90+jUtNrhXCsMrGsanvGsvWPcXmuJWPZeDBN4YZO+BLl5rO4QYYMDuED4Lj+4cLxWuPvyDyI8by5s4E9wSsErUrHs8zeTgZNQwZ1E+N+D3jbwDLnfBhHJx1jeDmYuVbi8kYZvPfB40S/YS8XefM6msPU8msHWNalMMBwTyGLgvA+PyeHw1y3NZOue8eys1D4vZ9zznq55nWPeJC54fG/FrCfKzWCaxThxcvgd/ARw47ycvIcThfDrNV8BlyRMbz1DdbnUuDqEMnH3hW7g/GfEfA98LJW811C+PWX4PYx5Bg8+FddR/wC3DE6Q+hIrvzlfH3k/A83N5tl4alYejBlzebxed1x9l5MHfFh8Oo8TjfF4GCUqGBhzWGL5XwI8j4Xl1fH2OTFcd1DvialfBv4CGCmkP7E3Jk0Ip5pAnGb4KU/PwVHqHcveXheLqO8XNVHgZ84OfORlhyXleO9Y84bz7nqe4YSpXDzHdYHDy1j3ePOFkGEHiYud8AhE4Vk51zZfBhPY8zNZqXjrO4fP7kgE1LwcDUdcCEISH8S5fxOa5V8VwwQj1wb1KeyIzoiT3BzI8zF4P1DgmDJ8BjWfM9YZpn3Kwy8+8TBDBkllfAc3heTF8Gq41g4GKzeHrN8N3xqde/CTUZeDh5hFL3E38PJqkGKKO1RyrLCVGVK4k9w/CYME3N43HAK6jwS/mAfW5A2dNdMJwK7S4C+j0S0FNVC0vZ9wZfAnsTIVNnpjRrHk9u4ecq3LId+5c4PJnnGoR64+QjnqbI6eG3vBwHA4GDv/AIA4r5b+KuHsqVjqWzwmhwTU9lb4JzZfIxrHufI4kuWzefSHCX3BG77/AGlfcQMuepVypsjKsw98PYnCm4NMUuoB3+kYj5KbnWNfeEyA1FMHflBdK6gi7tCToyX1pUEBN590xd25fV7qCF2Q0poA+oKCvWpInr88qAEgssh6lHlwZaLwYD9T2sA3G7RQE9hAdAGahqbycTS+IY7Z0mb1gjnWd5O5rgOW89GbyYavARlTWDAwYMuEIYI/HU1wc1PrFc+mGTIb5vExc+p1POfvyBzqprsTfjRExXCpqMrDwSVhxUqOLlJmytRRWT6YOEf0C4qPsVU8PYRq1J09UxT1WzuoMp67wi4O5t9qn7nbLlQUIQ0SBFD77k+kiLqUP4ShuP8AWXjHagqCC6KKKCAfuO7T1NIFKF9jN4iVT9RoOiH5kuyDKL09Jo6lOolYplNSmagL/SU/aDkY8yGPfkrice3DK4GCEIQ7+A+G55jXLzgRyca+G+Bgxebjg4e5+vkSVKjwqEb5EqVhJWPY4ZUqEbng2BNyuv2vuq4v6JQ7J+2MZXVroQgBW7u2UFuKbmh7Z+UNP1tG2BY/QM2ShNLa6EsWNutMFTVLD1GIy209s7PB/IQ358OxJ1YfgVFnbn2QgbaWtRZ2CdKOi/vNQG0tqVKTWBK9JZlrfRcNuKvNQ1ROoBmvqkQpntdQy1QVpd/QhSb0IhKh29k19so/sGL5Mp4azfK5rgcRm4T6m8XqXwuDB3n3NcH4ffheJgM18Jj6m7wcOyF4rJwvfA+P7hipUSMVWKy5qJrGprGsOXikFi4c9dii4OxwL2n2XhqEGXvYpA2l+bSy/VWToMChq/sHsCf5k3tY/e4WNjDQiFIwcIE0Cz2NFO/3FW0f0g2xP2Ca4/8AJFnZ/Ubv9II1aAPxhIGgKbfTN/wbSNk7eO5S8SO5cdoX0JLgfnNg3f7GCRs2q6YxyNNyshghJRIVrr4Lw8/edQx58FRM+E1cIQgwcGBnmCHJnuHHufr4r+VnuSVK4bx6cT/g+Y3DG5vqtxQxjNSjhWPM9S51Kx059z7L3kl5YUj+W8YUAInhN+vHqPJxvj6SmGPZUqekcCNjUfulntWCnF5HwkeF57Me/IQg4IODPfmDNQ4X8S/DW5vNczlccbhyr4a4VwMnrhJSP8iFhsT0z4Vx+26h1ErGuVSsVuURlRwxnseLyYTUe+LPMVKlSs3qGCOWeZqMvfw/Wbx5N/CT9R64+/B7lyRwS5cIahCE3PMBiuLgx7HNR4+Zp4udZuHFwYeNSuKawY8zuB1HTLlZOJPwx+iJh9Y3EHhUQjmpXBlRjK4vKs1ioHJ4JKlfDWCLHFYrFcCdz3kRfhPjPgYQWGCGLhgxcOOoRz1hM75keNcayNObhjzHvwGfDkZK4Bm4YsRH0xgFj7UqksuVKzWfuVmpqIZ1Ew8AjDJ8NNyvjXLyvhcI8GeY9z5j3Hkc+cjHWDiTyuFQ5DBlwhBINwlw49Qp4OPZ78hwvHnCuBK59Pz3gz5jfwKGNFs0r09RnQ72JXDElTzCbxWNOKjHKxv4XgS+JmowqVHLy9y/A/GYIPI/MMVDXD3NTUfxGuHnDvJDUIYIY3g4nzkuM1hhwrO/leBk+UrIblGGfUMH6hH/AEkrv5keTn3hrDGVGNRjhrhrBHh5g4VAxUrLweHuHnWffheDwJ9ZcXNfDeDuN86hgwYIcq+G5fFm75XxaYcWXy3wMkuOT5KhL43ivgOGpUcVhYxJ5l4k9+DUMeQ41KlcfeN5J7j6wZ95mKx/Od1llYMmaTmYORDuDgYPxHw1xO+Gv+Eay3WDrP1K3/wDrPsvh5webiqy4pjhjHLG48PeVSpTDiGKjHqexiSuVcbeBh5JWHgSsXwr4SOPZWL5XPM1wGEIYvqGK5PE0Q4Xxe4EeZhz/J5xDcbnmTJh53rg5qocCXWKxZ7K8NxrDh+S3HlR5maxUMnkYSiVAzU+8MZ7l5VgPgXhUMVnyE9yYrg8DGsBKnvwGLYPEg4WTFmdYfj3xZ3y3xMGXNTrkfAf8G5uCXV8EZXKgZCQo/cfU9x5K+B6IbwxjGMY4c0RxefZXAMBmsJKlR18NcnFYfMOfqJx65XwrePrjcrF/EQzeLSpcGXkz3CXv/gma518DwvjfAhisGDiQhipfwby8foCCbrFdoQ7U+uIVTFlS/gZ7GMYxjHlWKx1xqVCCVjeKy4SVGVKy4cXm8mSefFfwmdY8zXM4e8Lx5gfqEIYGXg/4Dg7+f3rPnB518HkMHAy4OFwhFHZElKgWWyolkL3RK3iubFl/ccMYxixz4Yv4awGCVTDV4oJUqVGOHD8Ji/gO+DyvHuTLkz38JmzO5U7nWCEUIYMFzfBvh5h+Ijtw5+uTwv46+DrhWTCQjiuKm0JQbrL4pOgnRBH6JuJZL7lFZcOGMauOTHDhvBPcvZPYYCdYrBgnua1HFRjKjh51lgcCXDl78t87ZcrNawGfMa4EcmRgy8mbhx8nuD4DFwzW8VxrP8AJWTiGtdzV1wOHnwXxvDHsyZf/qMtb/5jdrfdWxMUxMPO4z0jGMcOHhXMIErFQhWagRisJGJisJvCYZvjuHDWH4DJ8N46zcvmwyxhhhxIMMGDAy+DyvFxz1DIc34L+BeHvwlfATvkRlmHFfE5fY5cPP2GPMV1klcC83wcMZUqOK+B7nnw743usE18bXDfDeWXHBGax5xGewYS4N4IfD1XNwPHXA+Q4JDHmPZ5j34jJ3xuDDeK3lY8nLHDGMc+4rDzrWCalQMVplSseY1OiNZYmE3hMOCPmSXhxrF1fG+WpeS6lxvkSuNcWeys1ivgEFgwhDF1CHHya5uDHuRzWK3Nw4/cJ28Ce5vic7xWsmTP1w7cGPLoxeGeRwxw5viQnkO5qA58lTyGPM+TU+sugZqMcO45cvWDn7n64pgzqXgnk8zUqXzv4T4vIQYYLhCeSyXxM1Dhfkc38J8Lkx5kycKhLwcTDDmQ6mB6xDYI7Y+u/Z6MuONS57hzZGMdXhjhnnM4EqBAqVE6hEZWomNyo95cpHCZTgyuX1PcPDw4XwOpZmsd3jsxc8+MzU6wYvgQ4hhuDm8XWDLwvhUvBnz4PMal5YfCQ+A7hkx58Nzzv+4dbrtBBfdKhhQ2wd+w1jrlesEYxicHJN8DJgLnuCVi5fxJEjipUYnB+P2Xwcecrh7i+FfCZt4b4fuXxGemDUGewgy83Dqe9ys3OsM9wc74GL5EcHePO4cTl9YMPEwRckOBhfrwleu6KWVm8Xi3NYbwxmo4YZqVPZWDASoYolcfcvmajhJUqVhMOansZ5i8bjwu2ffOp7kz9T9QlQm5VcSOsuF41Hj+4GPYS8qEMk38LLYzXAzeTiz3jZLjN3jWPYS5c9hwrBkDleTjaQbe4otLVlQfbXoSuPs1mtxwxwxJUfc+4M1EgDBCVKlazRlMN8ansZUqMqMqVKwxz7KxeGXHUMXheB8zw85Xh/4BDBi4b5VLw8HBzYSvg+sGPMHz+5OFQ57i/uWdjGFXZcqNTw46zreuDEj7GOa5hCBDuewJ9Z1gJ7xZ5w9nuWOKalYqmVlMk3wY9c+8HB4ncsxXGoZ8y8A5sOPhCdwwYPktjx3Ll5Md8tfC895ON8CVrHjKzWa3KlusuN4s43lwmmVK3h4GahkJWsE183uNYSNTyJK3KKlRiR+PeHDwuMr4Nct438V/KMGEGX1B5EeT1HrF7gy5cuXCey9y+HnwW5PhrhrKhV4Mn1zrmxzWGsuHFZTNMYBmsVAM+QOdahivhqOWVK4JKjxvNnPrkY8xc0k18153y1UvkYIQwQ64E1lvhcZYS4OsXuXgwfH3wIHG8k6lcSIY+p+ieQnsK4mQY8OuHU3uVj2PFNYeFSjO5UMGPrD8P54PxtMbqVwSVHNa5PEx5kj1PeAyvicjknl/KQYQhL5XNS5eLrneCDBl4IZ+p1ismNal7lwycN8d4MXghj2GNTrBiyrfgj2ACPEzxeaTPuPOV8Kz7EcKlSoahn6gca59Xn3m5uPcSb4vGsVDg8PeBC+WsGNQwY+pqajgzUOPkKlfCMGH3kwMvhcuLi+Fy8XLckqHyVA5VyIUwxWL+Adma1E1s/uXZP1pCUSjsSXjB777jxY1w94MDgmCVhIBKiQK4OK4+cq5HFMJhN4Y1HgsMPBh3xMmLhxrN41ycXgomvirK4uDLgwYS57ll1Lcrhwy5ZBwS8DLhBgwx3KwZrN4v5n5PJcQ8wJHdTR0IP5BXixrg98klZcmQxXx1qOLzrkRs4XGeMqMSOXL3h53mmHIwZ9+G4uuV5dvwbzW+ANw7xcNpcuXPZcuXhxcWXn2W1BlwZc+sffLU/M9xqVmtdc/Mjk4nU841uEqVADGdkq4Lu8n2GGMYcfI9x64e49j5PUcpuezyHsn3x+4uTB5HPsYRh7g9ZYxn3PY9MMIz3JPuPWGPbPcPZGEJ9T2MIds9Me4eoT3B0wx7PMPUMevDyeGSfWfMvF9S9kuGPIS4+T3D3Hi8x5D2ODyeQdMJ5B3wPIReo59z7DHsO+DPMk8n1PIZPfgBD3H/9k=)"
      ],
      "metadata": {
        "id": "CxXI5zF-ktSz"
      }
    },
    {
      "cell_type": "code",
      "source": [
        "#bin convert the any value in binary form\n",
        "a = 10 #1010\n",
        "b = 7 #0111\n",
        "print(bin(a&b))"
      ],
      "metadata": {
        "colab": {
          "base_uri": "https://localhost:8080/"
        },
        "id": "sEDJ4647d2mz",
        "outputId": "9f1ca95b-f5a3-4735-8bdd-2c0be2ed9d4e"
      },
      "execution_count": null,
      "outputs": [
        {
          "output_type": "stream",
          "name": "stdout",
          "text": [
            "0b10\n"
          ]
        }
      ]
    },
    {
      "cell_type": "code",
      "source": [
        "10 >> 2 # for right shift\n"
      ],
      "metadata": {
        "colab": {
          "base_uri": "https://localhost:8080/"
        },
        "id": "-hbK7RpgiWGS",
        "outputId": "1f5d7f49-ece1-4688-fe36-11463ef2efa7"
      },
      "execution_count": null,
      "outputs": [
        {
          "output_type": "execute_result",
          "data": {
            "text/plain": [
              "2"
            ]
          },
          "metadata": {},
          "execution_count": 8
        }
      ]
    },
    {
      "cell_type": "code",
      "source": [
        "10 << 2 # for left shift"
      ],
      "metadata": {
        "colab": {
          "base_uri": "https://localhost:8080/"
        },
        "id": "zW6lTd6KjcSh",
        "outputId": "bdcb35be-553a-4b8e-b3cc-83603f240749"
      },
      "execution_count": null,
      "outputs": [
        {
          "output_type": "execute_result",
          "data": {
            "text/plain": [
              "40"
            ]
          },
          "metadata": {},
          "execution_count": 9
        }
      ]
    },
    {
      "cell_type": "code",
      "source": [
        "# identity operator "
      ],
      "metadata": {
        "id": "b86SV-4GjsOS"
      },
      "execution_count": null,
      "outputs": []
    },
    {
      "cell_type": "code",
      "source": [
        "x = 5\n",
        "y = 5\n",
        "x is y"
      ],
      "metadata": {
        "colab": {
          "base_uri": "https://localhost:8080/"
        },
        "id": "XJOlnu2zk4Ov",
        "outputId": "02ce8087-aaca-4e94-e480-6a213bfec0a7"
      },
      "execution_count": null,
      "outputs": [
        {
          "output_type": "execute_result",
          "data": {
            "text/plain": [
              "True"
            ]
          },
          "metadata": {},
          "execution_count": 10
        }
      ]
    },
    {
      "cell_type": "code",
      "source": [],
      "metadata": {
        "id": "nXw6wNWbmS66"
      },
      "execution_count": null,
      "outputs": []
    }
  ]
}